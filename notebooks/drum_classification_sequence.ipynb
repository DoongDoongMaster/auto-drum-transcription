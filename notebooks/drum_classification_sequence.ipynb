{
  "cells": [
    {
      "cell_type": "markdown",
      "metadata": {
        "id": "d5mFcYohbqSy"
      },
      "source": [
        "# Data 시작 onset부터 자르기"
      ]
    },
    {
      "cell_type": "code",
      "execution_count": 1,
      "metadata": {
        "id": "NHOnPzWSWM6-"
      },
      "outputs": [],
      "source": [
        "SR = 44100"
      ]
    },
    {
      "cell_type": "markdown",
      "metadata": {},
      "source": [
        "# Data Sequence하게 자르기"
      ]
    },
    {
      "cell_type": "code",
      "execution_count": 2,
      "metadata": {
        "id": "zAfYpwP2G6QU"
      },
      "outputs": [
        {
          "name": "stderr",
          "output_type": "stream",
          "text": [
            "[   INFO   ] MusicExtractorSVM: no classifier models were configured by default\n"
          ]
        }
      ],
      "source": [
        "import essentia\n",
        "from essentia.standard import MonoLoader, OnsetDetection, Windowing, FFT, CartesianToPolar, FrameGenerator, Onsets, AudioOnsetsMarker, StereoMuxer, AudioWriter\n",
        "from tempfile import TemporaryDirectory\n",
        "\n",
        "# first onset detection function\n",
        "def onset_detect(input_path):\n",
        "  # Load audio file.\n",
        "  audio = MonoLoader(filename=input_path)()\n",
        "\n",
        "  # 1. Compute the onset detection function (ODF).\n",
        "\n",
        "  # The OnsetDetection algorithm provides various ODFs.\n",
        "  od_hfc = OnsetDetection(method='hfc')\n",
        "  od_complex = OnsetDetection(method='complex')\n",
        "\n",
        "  # We need the auxilary algorithms to compute magnitude and phase.\n",
        "  w = Windowing(type='hann')\n",
        "  fft = FFT() # Outputs a complex FFT vector.\n",
        "  c2p = CartesianToPolar() # Converts it into a pair of magnitude and phase vectors.\n",
        "\n",
        "  # Compute both ODF frame by frame. Store results to a Pool.\n",
        "  pool = essentia.Pool()\n",
        "  for frame in FrameGenerator(audio, frameSize=1024, hopSize=512):\n",
        "      magnitude, phase = c2p(fft(w(frame)))\n",
        "      pool.add('odf.hfc', od_hfc(magnitude, phase))\n",
        "      pool.add('odf.complex', od_complex(magnitude, phase))\n",
        "\n",
        "  # 2. Detect onset locations.\n",
        "  onsets = Onsets()\n",
        "\n",
        "  onsets_hfc = onsets(# This algorithm expects a matrix, not a vector.\n",
        "                      essentia.array([pool['odf.hfc']]),\n",
        "                      # You need to specify weights, but if we use only one ODF\n",
        "                      # it doesn't actually matter which weight to give it\n",
        "                      [1])\n",
        "\n",
        "  onsets_complex = onsets(essentia.array([pool['odf.complex']]), [1])\n",
        "\n",
        "  # first onset 이 2초 이상인 것을 우선시\n",
        "  if onsets_hfc[0] >= 2:\n",
        "    return onsets_hfc[0]\n",
        "  return onsets_complex[0]"
      ]
    },
    {
      "cell_type": "code",
      "execution_count": 3,
      "metadata": {
        "id": "Et-noV_aWXPr"
      },
      "outputs": [],
      "source": [
        "# trimmed audio\n",
        "def audio_trim_per_onset(audio, first_onset, sr=SR):\n",
        "  start = (int)(first_onset * sr)\n",
        "  trimmed = audio[start:]\n",
        "  return trimmed"
      ]
    },
    {
      "cell_type": "code",
      "execution_count": 4,
      "metadata": {
        "id": "TDB1Oj9UWakg"
      },
      "outputs": [],
      "source": [
        "import scipy.io.wavfile\n",
        "import os\n",
        "\n",
        "# trimmed audio -> wav file write\n",
        "def write_trimmed_audio(root_path, name, trimmed_audio):\n",
        "  # exist or not\n",
        "  if not os.path.exists(root_path):\n",
        "    # if the demo_folder directory is not present\n",
        "    # then create it.\n",
        "    os.makedirs(root_path)\n",
        "  scipy.io.wavfile.write(f'{root_path}/{name}.wav', SR, trimmed_audio)"
      ]
    },
    {
      "cell_type": "code",
      "execution_count": 5,
      "metadata": {
        "id": "ZHN44219Wc5V"
      },
      "outputs": [],
      "source": [
        "import os\n",
        "import librosa\n",
        "\n",
        "# load audio & trimmed per onset\n",
        "# [pattern, per_drum]\n",
        "# per_drum: [1_HH, 2_RC, ...], pattern: [P1, P2, ...]\n",
        "# 04, 08, 16\n",
        "def main(root_path, trim_path):\n",
        "  datas = os.listdir(root_path)\n",
        "\n",
        "  check = False\n",
        "  for d in datas:\n",
        "    if d.endswith('.m4a'):\n",
        "      check = True\n",
        "      wav = os.path.join(root_path, d)\n",
        "      print(wav)\n",
        "\n",
        "      # detect onsets\n",
        "      onsets = onset_detect(wav)\n",
        "      # print(onsets)\n",
        "\n",
        "      # trimming audio\n",
        "      audio, sr = librosa.load(wav, sr=SR)\n",
        "      trimmed_audios = audio_trim_per_onset(audio, onsets, sr)\n",
        "      # print(trimmed_audios)\n",
        "\n",
        "      # new_file write\n",
        "      name = d[:-4]\n",
        "      write_trimmed_audio(trim_path, name, trimmed_audios)\n",
        "    elif d.endswith('.txt') == False:\n",
        "      new_root_path = os.path.join(root_path, d)\n",
        "      new_trim_path = os.path.join(trim_path, d)\n",
        "      main(new_root_path, new_trim_path)"
      ]
    },
    {
      "cell_type": "code",
      "execution_count": null,
      "metadata": {
        "id": "dNa4BwzpYzOS"
      },
      "outputs": [],
      "source": [
        "# 드럼 녹음 data path\n",
        "input_file_path = \"\"\n",
        "root_path = \"../data/raw_data/\" + input_file_path\n",
        "trim_path = \"../data/sequence_data/\" + input_file_path\n",
        "main(root_path, trim_path)"
      ]
    },
    {
      "cell_type": "markdown",
      "metadata": {
        "id": "LA10p8cEb6Px"
      },
      "source": [
        "# 데이터 라벨링"
      ]
    },
    {
      "cell_type": "markdown",
      "metadata": {},
      "source": [
        "## onset detection"
      ]
    },
    {
      "cell_type": "code",
      "execution_count": 2,
      "metadata": {},
      "outputs": [
        {
          "name": "stderr",
          "output_type": "stream",
          "text": [
            "[   INFO   ] MusicExtractorSVM: no classifier models were configured by default\n"
          ]
        }
      ],
      "source": [
        "import essentia\n",
        "from essentia.standard import MonoLoader, OnsetDetection, Windowing, FFT, CartesianToPolar, FrameGenerator, Onsets, AudioOnsetsMarker, StereoMuxer, AudioWriter\n",
        "from tempfile import TemporaryDirectory\n",
        "\n",
        "# onset detection function\n",
        "def onset_detect(input_path):\n",
        "  # Load audio file.\n",
        "  audio = MonoLoader(filename=input_path)()\n",
        "\n",
        "  # 1. Compute the onset detection function (ODF).\n",
        "\n",
        "  # The OnsetDetection algorithm provides various ODFs.\n",
        "  od_hfc = OnsetDetection(method='hfc')\n",
        "  od_complex = OnsetDetection(method='complex')\n",
        "\n",
        "  # We need the auxilary algorithms to compute magnitude and phase.\n",
        "  w = Windowing(type='hann')\n",
        "  fft = FFT() # Outputs a complex FFT vector.\n",
        "  c2p = CartesianToPolar() # Converts it into a pair of magnitude and phase vectors.\n",
        "\n",
        "  # Compute both ODF frame by frame. Store results to a Pool.\n",
        "  pool = essentia.Pool()\n",
        "  for frame in FrameGenerator(audio, frameSize=1024, hopSize=512):\n",
        "      magnitude, phase = c2p(fft(w(frame)))\n",
        "      pool.add('odf.hfc', od_hfc(magnitude, phase))\n",
        "      pool.add('odf.complex', od_complex(magnitude, phase))\n",
        "\n",
        "  # 2. Detect onset locations.\n",
        "  onsets = Onsets()\n",
        "\n",
        "  onsets_hfc = onsets(# This algorithm expects a matrix, not a vector.\n",
        "                      essentia.array([pool['odf.hfc']]),\n",
        "                      # You need to specify weights, but if we use only one ODF\n",
        "                      # it doesn't actually matter which weight to give it\n",
        "                      [1])\n",
        "\n",
        "  onsets_complex = onsets(essentia.array([pool['odf.complex']]), [1])\n",
        "\n",
        "  # crush 08 박자 예외처리\n",
        "  if \"CC\" in input_path and \"08\" in input_path:\n",
        "    return onsets_hfc[:1]\n",
        "  # crush 04 박자 예외처리\n",
        "  if \"CC\" in input_path and \"04\" in input_path:\n",
        "    return onsets_hfc[:4]\n",
        "\n",
        "  # onset 개수가 짝수인 것을 우선\n",
        "  if len(onsets_hfc) % 2 == 0:\n",
        "    return onsets_hfc\n",
        "  elif len(onsets_complex) % 2 == 0:\n",
        "    return onsets_complex\n",
        "  elif len(onsets_hfc) > len(onsets_complex):\n",
        "    return onsets_hfc\n",
        "  else:\n",
        "    return onsets_complex"
      ]
    },
    {
      "cell_type": "markdown",
      "metadata": {},
      "source": [
        "## 한 악기 씩 라벨링 따로"
      ]
    },
    {
      "cell_type": "code",
      "execution_count": 23,
      "metadata": {
        "id": "i08l15QOcdBO"
      },
      "outputs": [],
      "source": [
        "\"\"\"\n",
        "CC : 0\n",
        "HH : 1\n",
        "KK : 7\n",
        "SD : 5\n",
        "\"\"\"\n",
        "\n",
        "drum2code = {'CC':0, 'HH':1, 'KK':7, 'SD':5}\n",
        "code2drum = {0:'CC', 1:'HH', 7:'KK', 5:'SD'}\n",
        "\n",
        "DRUM = 0"
      ]
    },
    {
      "cell_type": "code",
      "execution_count": 24,
      "metadata": {
        "id": "7A6ygmk8b9kq"
      },
      "outputs": [
        {
          "data": {
            "text/plain": [
              "['../data/sequence_data/per_drum/0_CC/04/CC_04_9950.wav',\n",
              " '../data/sequence_data/per_drum/0_CC/08/CC_08_9983.wav',\n",
              " '../data/sequence_data/per_drum/0_CC/04/CC_04_9980.wav',\n",
              " '../data/sequence_data/per_drum/0_CC/04/CC_04_9958.wav',\n",
              " '../data/sequence_data/per_drum/0_CC/08/CC_08_9976.wav',\n",
              " '../data/sequence_data/per_drum/0_CC/08/CC_08_9981.wav',\n",
              " '../data/sequence_data/per_drum/0_CC/08/CC_08_9950.wav',\n",
              " '../data/sequence_data/per_drum/0_CC/08/CC_08_9953.wav',\n",
              " '../data/sequence_data/per_drum/0_CC/08/CC_08_9975.wav',\n",
              " '../data/sequence_data/per_drum/0_CC/04/CC_04_9988.wav',\n",
              " '../data/sequence_data/per_drum/0_CC/04/CC_04_9951.wav',\n",
              " '../data/sequence_data/per_drum/0_CC/04/CC_04_9968.wav',\n",
              " '../data/sequence_data/per_drum/0_CC/04/CC_04_9970.wav',\n",
              " '../data/sequence_data/per_drum/0_CC/08/CC_08_9959.wav',\n",
              " '../data/sequence_data/per_drum/0_CC/04/CC_04_9956.wav',\n",
              " '../data/sequence_data/per_drum/0_CC/08/CC_08_9971.wav',\n",
              " '../data/sequence_data/per_drum/0_CC/04/CC_04_9989.wav',\n",
              " '../data/sequence_data/per_drum/0_CC/08/CC_08_9998.wav',\n",
              " '../data/sequence_data/per_drum/0_CC/04/CC_04_9974.wav',\n",
              " '../data/sequence_data/per_drum/0_CC/08/CC_08_9969.wav',\n",
              " '../data/sequence_data/per_drum/0_CC/08/CC_08_9988.wav',\n",
              " '../data/sequence_data/per_drum/0_CC/08/CC_08_9992.wav',\n",
              " '../data/sequence_data/per_drum/0_CC/08/CC_08_9952.wav',\n",
              " '../data/sequence_data/per_drum/0_CC/08/CC_08_9982.wav',\n",
              " '../data/sequence_data/per_drum/0_CC/04/CC_04_9997.wav',\n",
              " '../data/sequence_data/per_drum/0_CC/08/CC_08_9964.wav',\n",
              " '../data/sequence_data/per_drum/0_CC/04/CC_04_9966.wav',\n",
              " '../data/sequence_data/per_drum/0_CC/08/CC_08_9991.wav',\n",
              " '../data/sequence_data/per_drum/0_CC/04/CC_04_9954.wav',\n",
              " '../data/sequence_data/per_drum/0_CC/04/CC_04_9964.wav',\n",
              " '../data/sequence_data/per_drum/0_CC/08/CC_08_9974.wav',\n",
              " '../data/sequence_data/per_drum/0_CC/08/CC_08_9949.wav',\n",
              " '../data/sequence_data/per_drum/0_CC/08/CC_08_9986.wav',\n",
              " '../data/sequence_data/per_drum/0_CC/08/CC_08_9973.wav',\n",
              " '../data/sequence_data/per_drum/0_CC/08/CC_08_9985.wav',\n",
              " '../data/sequence_data/per_drum/0_CC/04/CC_04_9963.wav',\n",
              " '../data/sequence_data/per_drum/0_CC/04/CC_04_9952.wav',\n",
              " '../data/sequence_data/per_drum/0_CC/04/CC_04_9983.wav',\n",
              " '../data/sequence_data/per_drum/0_CC/04/CC_04_9986.wav',\n",
              " '../data/sequence_data/per_drum/0_CC/08/CC_08_9984.wav',\n",
              " '../data/sequence_data/per_drum/0_CC/08/CC_08_9962.wav',\n",
              " '../data/sequence_data/per_drum/0_CC/04/CC_04_9991.wav',\n",
              " '../data/sequence_data/per_drum/0_CC/04/CC_04_9982.wav',\n",
              " '../data/sequence_data/per_drum/0_CC/08/CC_08_9970.wav',\n",
              " '../data/sequence_data/per_drum/0_CC/04/CC_04_9979.wav',\n",
              " '../data/sequence_data/per_drum/0_CC/08/CC_08_9993.wav',\n",
              " '../data/sequence_data/per_drum/0_CC/04/CC_04_9977.wav',\n",
              " '../data/sequence_data/per_drum/0_CC/04/CC_04_9984.wav',\n",
              " '../data/sequence_data/per_drum/0_CC/04/CC_04_9949.wav',\n",
              " '../data/sequence_data/per_drum/0_CC/08/CC_08_9978.wav',\n",
              " '../data/sequence_data/per_drum/0_CC/08/CC_08_9994.wav',\n",
              " '../data/sequence_data/per_drum/0_CC/08/CC_08_9989.wav',\n",
              " '../data/sequence_data/per_drum/0_CC/04/CC_04_9993.wav',\n",
              " '../data/sequence_data/per_drum/0_CC/08/CC_08_9980.wav',\n",
              " '../data/sequence_data/per_drum/0_CC/08/CC_08_9967.wav',\n",
              " '../data/sequence_data/per_drum/0_CC/08/CC_08_9961.wav',\n",
              " '../data/sequence_data/per_drum/0_CC/08/CC_08_9999.wav',\n",
              " '../data/sequence_data/per_drum/0_CC/04/CC_04_9973.wav',\n",
              " '../data/sequence_data/per_drum/0_CC/08/CC_08_9987.wav',\n",
              " '../data/sequence_data/per_drum/0_CC/08/CC_08_9968.wav',\n",
              " '../data/sequence_data/per_drum/0_CC/04/CC_04_9994.wav',\n",
              " '../data/sequence_data/per_drum/0_CC/04/CC_04_9990.wav',\n",
              " '../data/sequence_data/per_drum/0_CC/04/CC_04_9976.wav',\n",
              " '../data/sequence_data/per_drum/0_CC/04/CC_04_9960.wav',\n",
              " '../data/sequence_data/per_drum/0_CC/08/CC_08_9977.wav',\n",
              " '../data/sequence_data/per_drum/0_CC/08/CC_08_9956.wav',\n",
              " '../data/sequence_data/per_drum/0_CC/04/CC_04_9978.wav',\n",
              " '../data/sequence_data/per_drum/0_CC/04/CC_04_9999.wav',\n",
              " '../data/sequence_data/per_drum/0_CC/04/CC_04_9998.wav',\n",
              " '../data/sequence_data/per_drum/0_CC/08/CC_08_9972.wav',\n",
              " '../data/sequence_data/per_drum/0_CC/08/CC_08_9966.wav',\n",
              " '../data/sequence_data/per_drum/0_CC/04/CC_04_9971.wav',\n",
              " '../data/sequence_data/per_drum/0_CC/08/CC_08_9997.wav',\n",
              " '../data/sequence_data/per_drum/0_CC/04/CC_04_9957.wav',\n",
              " '../data/sequence_data/per_drum/0_CC/08/CC_08_9957.wav',\n",
              " '../data/sequence_data/per_drum/0_CC/04/CC_04_9962.wav',\n",
              " '../data/sequence_data/per_drum/0_CC/08/CC_08_9979.wav',\n",
              " '../data/sequence_data/per_drum/0_CC/04/CC_04_9987.wav',\n",
              " '../data/sequence_data/per_drum/0_CC/04/CC_04_9981.wav',\n",
              " '../data/sequence_data/per_drum/0_CC/04/CC_04_9996.wav',\n",
              " '../data/sequence_data/per_drum/0_CC/08/CC_08_9958.wav',\n",
              " '../data/sequence_data/per_drum/0_CC/08/CC_08_9965.wav',\n",
              " '../data/sequence_data/per_drum/0_CC/08/CC_08_9996.wav',\n",
              " '../data/sequence_data/per_drum/0_CC/08/CC_08_9951.wav',\n",
              " '../data/sequence_data/per_drum/0_CC/04/CC_04_9969.wav',\n",
              " '../data/sequence_data/per_drum/0_CC/08/CC_08_9995.wav',\n",
              " '../data/sequence_data/per_drum/0_CC/04/CC_04_9959.wav',\n",
              " '../data/sequence_data/per_drum/0_CC/08/CC_08_9960.wav',\n",
              " '../data/sequence_data/per_drum/0_CC/04/CC_04_9965.wav',\n",
              " '../data/sequence_data/per_drum/0_CC/04/CC_04_9992.wav',\n",
              " '../data/sequence_data/per_drum/0_CC/08/CC_08_9955.wav',\n",
              " '../data/sequence_data/per_drum/0_CC/08/CC_08_9963.wav',\n",
              " '../data/sequence_data/per_drum/0_CC/08/CC_08_9954.wav',\n",
              " '../data/sequence_data/per_drum/0_CC/04/CC_04_9967.wav',\n",
              " '../data/sequence_data/per_drum/0_CC/04/CC_04_9955.wav',\n",
              " '../data/sequence_data/per_drum/0_CC/08/CC_08_9990.wav',\n",
              " '../data/sequence_data/per_drum/0_CC/04/CC_04_9995.wav',\n",
              " '../data/sequence_data/per_drum/0_CC/04/CC_04_9953.wav',\n",
              " '../data/sequence_data/per_drum/0_CC/04/CC_04_9972.wav',\n",
              " '../data/sequence_data/per_drum/0_CC/04/CC_04_9985.wav',\n",
              " '../data/sequence_data/per_drum/0_CC/04/CC_04_9961.wav']"
            ]
          },
          "execution_count": 24,
          "metadata": {},
          "output_type": "execute_result"
        }
      ],
      "source": [
        "import os\n",
        "import numpy as np\n",
        "import random\n",
        "\n",
        "data_root_path = f\"../data/sequence_data/per_drum/{DRUM}_{code2drum[DRUM]}\"\n",
        "beat_folders = os.listdir(data_root_path)\n",
        "\n",
        "X_data_full = []\n",
        "for beat in beat_folders:\n",
        "  X_data_full += [os.path.join(data_root_path, beat, file) for file in os.listdir(os.path.join(data_root_path, beat))]\n",
        "\n",
        "random.shuffle(X_data_full)\n",
        "X_data_full"
      ]
    },
    {
      "cell_type": "markdown",
      "metadata": {
        "id": "effA8Mwwg8ug"
      },
      "source": [
        "### data labeling"
      ]
    },
    {
      "cell_type": "code",
      "execution_count": 5,
      "metadata": {
        "id": "A9ECKkfQhwUC"
      },
      "outputs": [],
      "source": [
        "ONSET_DURATION = 0.1\n",
        "TIME_WIDTH = 1024\n",
        "N_FFT = 2048\n",
        "HOP_LENGTH = 512\n",
        "WIN_LENGTH = 2048"
      ]
    },
    {
      "cell_type": "code",
      "execution_count": 6,
      "metadata": {
        "id": "kG9Z0TxVg3cc"
      },
      "outputs": [],
      "source": [
        "import librosa\n",
        "\n",
        "def data_labeling(datas):\n",
        "  X_data = []\n",
        "  Y_data = []\n",
        "\n",
        "  # data load\n",
        "  for path in datas:\n",
        "    # load audio wav array\n",
        "    audio, sr = librosa.load(path, sr=SR)\n",
        "    print(path)\n",
        "\n",
        "    # translate STFT\n",
        "    stft = librosa.stft(y=audio, n_fft=N_FFT, hop_length=HOP_LENGTH, win_length=WIN_LENGTH, window='hann')\n",
        "    stft = np.abs(stft, dtype=np.float64)\n",
        "    if stft.shape[1] < TIME_WIDTH:\n",
        "      stft_new = np.pad(stft, pad_width=((0,0), (0, TIME_WIDTH - stft.shape[1])), mode='constant')\n",
        "    else:\n",
        "      stft_new = stft[:, :TIME_WIDTH]\n",
        "    stft_new = np.transpose(stft_new)\n",
        "    X_data.append(stft_new)\n",
        "\n",
        "    # onset detection & labeling\n",
        "    # onset position : 1\n",
        "    # onset position with ONSET_DURATION : 0.5\n",
        "    # extra : 0\n",
        "    onsets_arr = onset_detect(path)\n",
        "    labels = [0.0] * TIME_WIDTH\n",
        "    print(onsets_arr)\n",
        "    for onset in onsets_arr:\n",
        "      soft_start_position = max((onset - ONSET_DURATION), 0) * SR / HOP_LENGTH\n",
        "      onset_position = onset * SR / HOP_LENGTH\n",
        "      soft_end_position = (onset + ONSET_DURATION) * SR / HOP_LENGTH\n",
        "      for i in range((int)(soft_start_position), (int)(soft_end_position)):\n",
        "        if labels[i] == 1:\n",
        "          continue\n",
        "        labels[i] = 0.5\n",
        "      labels[(int)(onset_position)] = 1\n",
        "\n",
        "    Y_data.append(labels)\n",
        "\n",
        "  return np.array(X_data), np.array(Y_data)"
      ]
    },
    {
      "cell_type": "code",
      "execution_count": 25,
      "metadata": {
        "colab": {
          "base_uri": "https://localhost:8080/"
        },
        "id": "Nd4CajYISrI1",
        "outputId": "eee9fc5e-263d-453b-f1a0-906e12720aa3"
      },
      "outputs": [
        {
          "name": "stdout",
          "output_type": "stream",
          "text": [
            "../data/sequence_data/per_drum/0_CC/04/CC_04_9950.wav\n",
            "[0.01160998 0.6037188  1.1842177  1.7531066 ]\n",
            "../data/sequence_data/per_drum/0_CC/08/CC_08_9983.wav\n",
            "[0.01160998]\n",
            "../data/sequence_data/per_drum/0_CC/04/CC_04_9980.wav\n",
            "[0.01160998 0.5804989  1.1726077  1.7647165 ]\n",
            "../data/sequence_data/per_drum/0_CC/04/CC_04_9958.wav\n",
            "[0.01160998 0.6037188  1.1958277  1.7995465 ]\n",
            "../data/sequence_data/per_drum/0_CC/08/CC_08_9976.wav\n",
            "[0.5804989]\n",
            "../data/sequence_data/per_drum/0_CC/08/CC_08_9981.wav\n",
            "[0.01160998]\n",
            "../data/sequence_data/per_drum/0_CC/08/CC_08_9950.wav\n",
            "[0.01160998]\n",
            "../data/sequence_data/per_drum/0_CC/08/CC_08_9953.wav\n",
            "[0.01160998]\n",
            "../data/sequence_data/per_drum/0_CC/08/CC_08_9975.wav\n",
            "[0.01160998]\n",
            "../data/sequence_data/per_drum/0_CC/04/CC_04_9988.wav\n",
            "[0.01160998 0.6037188  1.1958277  1.7531066 ]\n",
            "../data/sequence_data/per_drum/0_CC/04/CC_04_9951.wav\n",
            "[0.01160998 0.6037188  1.2074376  1.7995465 ]\n",
            "../data/sequence_data/per_drum/0_CC/04/CC_04_9968.wav\n",
            "[0.01160998 0.59210885 1.2190477  1.7995465 ]\n",
            "../data/sequence_data/per_drum/0_CC/04/CC_04_9970.wav\n",
            "[0.01160998 0.59210885 1.1842177  1.7879364 ]\n",
            "../data/sequence_data/per_drum/0_CC/08/CC_08_9959.wav\n",
            "[0.01160998]\n",
            "../data/sequence_data/per_drum/0_CC/04/CC_04_9956.wav\n",
            "[0.01160998 0.59210885 1.1958277  1.7879364 ]\n",
            "../data/sequence_data/per_drum/0_CC/08/CC_08_9971.wav\n",
            "[0.01160998]\n",
            "../data/sequence_data/per_drum/0_CC/04/CC_04_9989.wav\n",
            "[0.01160998 0.6153288  1.1842177  1.7414966 ]\n",
            "../data/sequence_data/per_drum/0_CC/08/CC_08_9998.wav\n",
            "[0.01160998]\n",
            "../data/sequence_data/per_drum/0_CC/04/CC_04_9974.wav\n",
            "[0.01160998 0.59210885 1.1842177  1.7531066 ]\n",
            "../data/sequence_data/per_drum/0_CC/08/CC_08_9969.wav\n",
            "[0.01160998]\n",
            "../data/sequence_data/per_drum/0_CC/08/CC_08_9988.wav\n",
            "[0.01160998]\n",
            "../data/sequence_data/per_drum/0_CC/08/CC_08_9992.wav\n",
            "[0.01160998]\n",
            "../data/sequence_data/per_drum/0_CC/08/CC_08_9952.wav\n",
            "[0.01160998]\n",
            "../data/sequence_data/per_drum/0_CC/08/CC_08_9982.wav\n",
            "[0.01160998]\n",
            "../data/sequence_data/per_drum/0_CC/04/CC_04_9997.wav\n",
            "[0.01160998 0.6153288  1.2306576  1.8111565 ]\n",
            "../data/sequence_data/per_drum/0_CC/08/CC_08_9964.wav\n",
            "[0.01160998]\n",
            "../data/sequence_data/per_drum/0_CC/04/CC_04_9966.wav\n",
            "[0.01160998 0.6037188  1.1842177  1.7414966 ]\n",
            "../data/sequence_data/per_drum/0_CC/08/CC_08_9991.wav\n",
            "[0.06965987]\n",
            "../data/sequence_data/per_drum/0_CC/04/CC_04_9954.wav\n",
            "[0.01160998 0.5804989  1.1842177  1.7763265 ]\n",
            "../data/sequence_data/per_drum/0_CC/04/CC_04_9964.wav\n",
            "[0.01160998 0.59210885 1.1842177  1.7763265 ]\n",
            "../data/sequence_data/per_drum/0_CC/08/CC_08_9974.wav\n",
            "[0.01160998]\n",
            "../data/sequence_data/per_drum/0_CC/08/CC_08_9949.wav\n",
            "[0.01160998]\n",
            "../data/sequence_data/per_drum/0_CC/08/CC_08_9986.wav\n",
            "[0.01160998]\n",
            "../data/sequence_data/per_drum/0_CC/08/CC_08_9973.wav\n",
            "[0.01160998]\n",
            "../data/sequence_data/per_drum/0_CC/08/CC_08_9985.wav\n",
            "[0.01160998]\n",
            "../data/sequence_data/per_drum/0_CC/04/CC_04_9963.wav\n",
            "[0.01160998 0.62693876 1.1958277  1.7531066 ]\n",
            "../data/sequence_data/per_drum/0_CC/04/CC_04_9952.wav\n",
            "[0.01160998 0.6037188  1.2190477  1.8111565 ]\n",
            "../data/sequence_data/per_drum/0_CC/04/CC_04_9983.wav\n",
            "[0.01160998 0.59210885 1.1958277  1.7531066 ]\n",
            "../data/sequence_data/per_drum/0_CC/04/CC_04_9986.wav\n",
            "[0.01160998 0.5688889  1.1726077  1.7531066 ]\n",
            "../data/sequence_data/per_drum/0_CC/08/CC_08_9984.wav\n",
            "[0.01160998]\n",
            "../data/sequence_data/per_drum/0_CC/08/CC_08_9962.wav\n",
            "[0.01160998]\n",
            "../data/sequence_data/per_drum/0_CC/04/CC_04_9991.wav\n",
            "[0.01160998 0.5804989  1.1726077  1.7414966 ]\n",
            "../data/sequence_data/per_drum/0_CC/04/CC_04_9982.wav\n",
            "[0.01160998 0.59210885 1.1726077  1.7531066 ]\n",
            "../data/sequence_data/per_drum/0_CC/08/CC_08_9970.wav\n",
            "[0.01160998]\n",
            "../data/sequence_data/per_drum/0_CC/04/CC_04_9979.wav\n",
            "[0.01160998 0.6037188  1.2306576  1.8343765 ]\n",
            "../data/sequence_data/per_drum/0_CC/08/CC_08_9993.wav\n",
            "[0.01160998]\n",
            "../data/sequence_data/per_drum/0_CC/04/CC_04_9977.wav\n",
            "[0.01160998 0.62693876 1.2306576  1.7995465 ]\n",
            "../data/sequence_data/per_drum/0_CC/04/CC_04_9984.wav\n",
            "[0.01160998 0.5804989  1.1726077  1.7763265 ]\n",
            "../data/sequence_data/per_drum/0_CC/04/CC_04_9949.wav\n",
            "[0.01160998 0.5688889  1.1377778  1.7066667 ]\n",
            "../data/sequence_data/per_drum/0_CC/08/CC_08_9978.wav\n",
            "[0.01160998]\n",
            "../data/sequence_data/per_drum/0_CC/08/CC_08_9994.wav\n",
            "[0.01160998]\n",
            "../data/sequence_data/per_drum/0_CC/08/CC_08_9989.wav\n",
            "[0.01160998]\n",
            "../data/sequence_data/per_drum/0_CC/04/CC_04_9993.wav\n",
            "[0.01160998 0.59210885 1.2074376  1.7763265 ]\n",
            "../data/sequence_data/per_drum/0_CC/08/CC_08_9980.wav\n",
            "[0.01160998]\n",
            "../data/sequence_data/per_drum/0_CC/08/CC_08_9967.wav\n",
            "[0.01160998]\n",
            "../data/sequence_data/per_drum/0_CC/08/CC_08_9961.wav\n",
            "[0.01160998]\n",
            "../data/sequence_data/per_drum/0_CC/08/CC_08_9999.wav\n",
            "[0.01160998]\n",
            "../data/sequence_data/per_drum/0_CC/04/CC_04_9973.wav\n",
            "[0.01160998 0.6037188  1.1958277  1.7763265 ]\n",
            "../data/sequence_data/per_drum/0_CC/08/CC_08_9987.wav\n",
            "[0.01160998]\n",
            "../data/sequence_data/per_drum/0_CC/08/CC_08_9968.wav\n",
            "[0.01160998]\n",
            "../data/sequence_data/per_drum/0_CC/04/CC_04_9994.wav\n",
            "[0.01160998 0.59210885 1.1609977  1.7414966 ]\n",
            "../data/sequence_data/per_drum/0_CC/04/CC_04_9990.wav\n",
            "[0.01160998 0.6153288  1.2306576  1.8227664 ]\n",
            "../data/sequence_data/per_drum/0_CC/04/CC_04_9976.wav\n",
            "[0.01160998 0.6037188  1.1726077  1.7414966 ]\n",
            "../data/sequence_data/per_drum/0_CC/04/CC_04_9960.wav\n",
            "[0.01160998 0.6037188  1.2074376  1.7879364 ]\n",
            "../data/sequence_data/per_drum/0_CC/08/CC_08_9977.wav\n",
            "[0.01160998]\n",
            "../data/sequence_data/per_drum/0_CC/08/CC_08_9956.wav\n",
            "[0.01160998]\n",
            "../data/sequence_data/per_drum/0_CC/04/CC_04_9978.wav\n",
            "[0.03482993 1.6137868  2.2175057  2.8212245 ]\n",
            "../data/sequence_data/per_drum/0_CC/04/CC_04_9999.wav\n",
            "[0.01160998 0.6153288  1.2074376  1.8111565 ]\n",
            "../data/sequence_data/per_drum/0_CC/04/CC_04_9998.wav\n",
            "[0.01160998 0.62693876 1.2074376  1.7531066 ]\n",
            "../data/sequence_data/per_drum/0_CC/08/CC_08_9972.wav\n",
            "[0.01160998]\n",
            "../data/sequence_data/per_drum/0_CC/08/CC_08_9966.wav\n",
            "[0.01160998]\n",
            "../data/sequence_data/per_drum/0_CC/04/CC_04_9971.wav\n",
            "[0.01160998 0.6037188  1.1958277  1.7647165 ]\n",
            "../data/sequence_data/per_drum/0_CC/08/CC_08_9997.wav\n",
            "[0.01160998]\n",
            "../data/sequence_data/per_drum/0_CC/04/CC_04_9957.wav\n",
            "[0.01160998 0.5804989  1.1842177  1.7763265 ]\n",
            "../data/sequence_data/per_drum/0_CC/08/CC_08_9957.wav\n",
            "[0.01160998]\n",
            "../data/sequence_data/per_drum/0_CC/04/CC_04_9962.wav\n",
            "[0.01160998 0.6037188  1.1609977  1.7414966 ]\n",
            "../data/sequence_data/per_drum/0_CC/08/CC_08_9979.wav\n",
            "[0.01160998]\n",
            "../data/sequence_data/per_drum/0_CC/04/CC_04_9987.wav\n",
            "[0.01160998 0.6153288  1.2422676  1.8343765 ]\n",
            "../data/sequence_data/per_drum/0_CC/04/CC_04_9981.wav\n",
            "[0.01160998 0.6037188  1.2190477  1.7995465 ]\n",
            "../data/sequence_data/per_drum/0_CC/04/CC_04_9996.wav\n",
            "[0.01160998 0.6037188  1.2074376  1.7531066 ]\n",
            "../data/sequence_data/per_drum/0_CC/08/CC_08_9958.wav\n",
            "[0.01160998]\n",
            "../data/sequence_data/per_drum/0_CC/08/CC_08_9965.wav\n",
            "[0.01160998]\n",
            "../data/sequence_data/per_drum/0_CC/08/CC_08_9996.wav\n",
            "[0.01160998]\n",
            "../data/sequence_data/per_drum/0_CC/08/CC_08_9951.wav\n",
            "[0.01160998]\n",
            "../data/sequence_data/per_drum/0_CC/04/CC_04_9969.wav\n",
            "[0.01160998 0.62693876 1.2306576  1.8343765 ]\n",
            "../data/sequence_data/per_drum/0_CC/08/CC_08_9995.wav\n",
            "[0.01160998]\n",
            "../data/sequence_data/per_drum/0_CC/04/CC_04_9959.wav\n",
            "[0.01160998 0.6153288  1.2422676  1.8227664 ]\n",
            "../data/sequence_data/per_drum/0_CC/08/CC_08_9960.wav\n",
            "[0.01160998]\n",
            "../data/sequence_data/per_drum/0_CC/04/CC_04_9965.wav\n",
            "[0.01160998 0.6153288  1.2074376  1.7879364 ]\n",
            "../data/sequence_data/per_drum/0_CC/04/CC_04_9992.wav\n",
            "[0.01160998 0.6153288  1.2074376  1.7763265 ]\n",
            "../data/sequence_data/per_drum/0_CC/08/CC_08_9955.wav\n",
            "[0.01160998]\n",
            "../data/sequence_data/per_drum/0_CC/08/CC_08_9963.wav\n",
            "[0.01160998]\n",
            "../data/sequence_data/per_drum/0_CC/08/CC_08_9954.wav\n",
            "[0.01160998]\n",
            "../data/sequence_data/per_drum/0_CC/04/CC_04_9967.wav\n",
            "[0.01160998 0.6037188  1.1842177  1.7647165 ]\n",
            "../data/sequence_data/per_drum/0_CC/04/CC_04_9955.wav\n",
            "[0.01160998 0.59210885 1.1842177  1.7647165 ]\n",
            "../data/sequence_data/per_drum/0_CC/08/CC_08_9990.wav\n",
            "[0.01160998]\n",
            "../data/sequence_data/per_drum/0_CC/04/CC_04_9995.wav\n",
            "[0.01160998 0.5688889  1.1493877  1.7182766 ]\n",
            "../data/sequence_data/per_drum/0_CC/04/CC_04_9953.wav\n",
            "[0.01160998 0.6037188  1.1958277  1.7647165 ]\n",
            "../data/sequence_data/per_drum/0_CC/04/CC_04_9972.wav\n",
            "[0.01160998 0.59210885 1.1726077  1.7531066 ]\n",
            "../data/sequence_data/per_drum/0_CC/04/CC_04_9985.wav\n",
            "[0.01160998 0.6037188  1.2074376  1.7995465 ]\n",
            "../data/sequence_data/per_drum/0_CC/04/CC_04_9961.wav\n",
            "[0.17414966 1.6253968  2.2291157  2.8444445 ]\n"
          ]
        }
      ],
      "source": [
        "X_data, Y_data = data_labeling(X_data_full)"
      ]
    },
    {
      "cell_type": "code",
      "execution_count": 26,
      "metadata": {
        "colab": {
          "base_uri": "https://localhost:8080/"
        },
        "id": "BteL2fXzLeHG",
        "outputId": "ae876e37-c5a5-4bc2-e113-bd33b7daeaf7"
      },
      "outputs": [
        {
          "data": {
            "text/plain": [
              "(101, 1024, 1025)"
            ]
          },
          "execution_count": 26,
          "metadata": {},
          "output_type": "execute_result"
        }
      ],
      "source": [
        "X_data.shape"
      ]
    },
    {
      "cell_type": "code",
      "execution_count": 27,
      "metadata": {
        "colab": {
          "base_uri": "https://localhost:8080/"
        },
        "id": "G9c-Nr_5p22v",
        "outputId": "a4a5e058-8698-4d8a-d5fa-9205425f0565"
      },
      "outputs": [
        {
          "data": {
            "text/plain": [
              "((81, 1024, 1025), (81, 1024))"
            ]
          },
          "execution_count": 27,
          "metadata": {},
          "output_type": "execute_result"
        }
      ],
      "source": [
        "# split train & test dataset\n",
        "test_cnt = (int)(X_data.shape[0] * 0.2)\n",
        "\n",
        "X_train, Y_train = X_data[:-test_cnt], Y_data[:-test_cnt]\n",
        "X_test, Y_test = X_data[-test_cnt:], Y_data[-test_cnt:]\n",
        "\n",
        "X_train.shape, Y_train.shape"
      ]
    },
    {
      "cell_type": "markdown",
      "metadata": {},
      "source": [
        "### trash"
      ]
    },
    {
      "cell_type": "code",
      "execution_count": 12,
      "metadata": {
        "colab": {
          "base_uri": "https://localhost:8080/"
        },
        "id": "vcojYOdh70hy",
        "outputId": "f3a3d81b-c67d-4987-c523-0549bcbe51f9"
      },
      "outputs": [
        {
          "data": {
            "text/plain": [
              "((81, 1024, 1), (20, 1024, 1))"
            ]
          },
          "execution_count": 12,
          "metadata": {},
          "output_type": "execute_result"
        }
      ],
      "source": [
        "# Y_train reshape\n",
        "Y_train = Y_train.reshape((Y_train.shape[0], Y_train.shape[1], 1))\n",
        "Y_test = Y_test.reshape((Y_test.shape[0], Y_test.shape[1], 1))\n",
        "\n",
        "Y_train.shape, Y_test.shape"
      ]
    },
    {
      "cell_type": "markdown",
      "metadata": {
        "id": "Y4Juvy5smi-s"
      },
      "source": [
        "### STFT 그래프"
      ]
    },
    {
      "cell_type": "code",
      "execution_count": 10,
      "metadata": {
        "colab": {
          "base_uri": "https://localhost:8080/",
          "height": 490
        },
        "id": "c4K5ZRm_WvFK",
        "outputId": "8b43d18c-257b-4c01-dc21-ee5c0674fc98"
      },
      "outputs": [
        {
          "data": {
            "text/plain": [
              "<matplotlib.colorbar.Colorbar at 0x7f76147b52d0>"
            ]
          },
          "execution_count": 10,
          "metadata": {},
          "output_type": "execute_result"
        },
        {
          "data": {
            "image/png": "[encoded data removed]",
            "text/plain": [
              "<Figure size 640x480 with 2 Axes>"
            ]
          },
          "metadata": {},
          "output_type": "display_data"
        }
      ],
      "source": [
        "import matplotlib.pyplot as plt\n",
        "fig, ax = plt.subplots()\n",
        "img = librosa.display.specshow(librosa.amplitude_to_db(X_data[0],\n",
        "                                                       ref=np.max),\n",
        "                               y_axis='log', x_axis='time', ax=ax)\n",
        "ax.set_title('Power spectrogram')\n",
        "fig.colorbar(img, ax=ax, format=\"%+2.0f dB\")"
      ]
    },
    {
      "cell_type": "markdown",
      "metadata": {},
      "source": [
        "## 여러 악기 한 번에 라벨링"
      ]
    },
    {
      "cell_type": "code",
      "execution_count": 3,
      "metadata": {},
      "outputs": [],
      "source": [
        "code2drum = {0:'CC', 1:'HH', 2:'RC', 3:'ST', 4:'MT', 5:'SD', 6:'FT', 7:'KK'}\n",
        "# -- {'CC':0, 'HH':1, ...}\n",
        "drum2code = {v: k for k, v in code2drum.items()}\n",
        "# -- {0:'CC', 1:'HH', ...}\n",
        "\n",
        "onehot_drum2code = {}\n",
        "# -- {'CC':[1,0,0,0,0,0,0,0], 'HH':[0,1,0,0,0,0,0,0], ...}\n",
        "for code, index in drum2code.items():\n",
        "    drum_mapping = [0] * len(drum2code)\n",
        "    drum_mapping[index] = 1\n",
        "    onehot_drum2code[code] = drum_mapping\n",
        "\n",
        "pattern = {'HH':onehot_drum2code['HH'],\n",
        "           'SD':onehot_drum2code['SD'],\n",
        "           'HH_KK':[0,1,0,0,0,0,0,1],\n",
        "           'HH_SD':[0,1,0,0,0,1,0,0]}\n",
        "\n",
        "p_hh_kk = pattern['HH_KK']\n",
        "p_sd = pattern['SD']\n",
        "p_hh = pattern['HH']\n",
        "p_hh_sd = pattern['HH_SD']\n",
        "\n",
        "p1_2code = [p_hh_kk,\n",
        "            p_hh,\n",
        "            p_hh_sd,\n",
        "            p_hh,\n",
        "            p_hh_kk,\n",
        "            p_hh_kk,\n",
        "            p_hh_sd,\n",
        "            p_hh]\n",
        "p2_2code = [p_hh_kk,\n",
        "            p_hh,\n",
        "            p_hh,\n",
        "            p_hh,\n",
        "            p_sd,\n",
        "            p_hh,\n",
        "            p_hh,\n",
        "            p_hh,\n",
        "            p_hh_kk,\n",
        "            p_hh,\n",
        "            p_hh,\n",
        "            p_hh,\n",
        "            p_sd,\n",
        "            p_hh,\n",
        "            p_hh,\n",
        "            p_hh]\n",
        "            \n",
        "pattern2code = {'P1':p1_2code, 'P2':p2_2code}"
      ]
    },
    {
      "cell_type": "code",
      "execution_count": 4,
      "metadata": {},
      "outputs": [],
      "source": [
        "import os\n",
        "\n",
        "# load audio path\n",
        "# [pattern, per_drum]\n",
        "# per_drum: [1_HH, 2_RC, ...], pattern: [P1, P2, ...]\n",
        "# 04, 08, 16\n",
        "def get_audio_paths(root_path):\n",
        "  if os.path.isfile(root_path):\n",
        "    if root_path.endswith('wav'):\n",
        "      return [root_path]\n",
        "    else:\n",
        "      return []  \n",
        "\n",
        "  folders = os.listdir(root_path)\n",
        "  audio_paths = []\n",
        "\n",
        "  for d in folders:\n",
        "    new_root_path = os.path.join(root_path, d)\n",
        "    audio_paths += get_audio_paths(new_root_path)\n",
        "      \n",
        "  return audio_paths"
      ]
    },
    {
      "cell_type": "code",
      "execution_count": 5,
      "metadata": {},
      "outputs": [
        {
          "data": {
            "text/plain": [
              "['../data/sequence_data/per_drum/0_CC/04/CC_04_9998.wav',\n",
              " '../data/sequence_data/per_drum/1_HH/04/HH_04_0040.wav',\n",
              " '../data/sequence_data/per_drum/0_CC/04/CC_04_9958.wav',\n",
              " '../data/sequence_data/pattern/P1/08/P1_08_0013.wav',\n",
              " '../data/sequence_data/per_drum/5_SD/08/SD_08_0014.wav',\n",
              " '../data/sequence_data/per_drum/5_SD/16/SD_16_0008.wav',\n",
              " '../data/sequence_data/per_drum/5_SD/08/SD_08_0043.wav',\n",
              " '../data/sequence_data/per_drum/5_SD/04/SD_04_0030.wav',\n",
              " '../data/sequence_data/per_drum/1_HH/16/HH_16_0011.wav',\n",
              " '../data/sequence_data/per_drum/7_KK/08/KK_08_0004.wav',\n",
              " '../data/sequence_data/per_drum/5_SD/08/SD_08_0035.wav',\n",
              " '../data/sequence_data/per_drum/0_CC/04/CC_04_9981.wav',\n",
              " '../data/sequence_data/per_drum/0_CC/08/CC_08_9967.wav',\n",
              " '../data/sequence_data/per_drum/1_HH/16/HH_16_0060.wav',\n",
              " '../data/sequence_data/per_drum/7_KK/04/KK_04_0044.wav',\n",
              " '../data/sequence_data/per_drum/7_KK/04/KK_04_0025.wav',\n",
              " '../data/sequence_data/per_drum/1_HH/04/HH_04_0028.wav',\n",
              " '../data/sequence_data/per_drum/5_SD/08/SD_08_0033.wav',\n",
              " '../data/sequence_data/per_drum/1_HH/04/HH_04_0025.wav',\n",
              " '../data/sequence_data/per_drum/0_CC/04/CC_04_9954.wav',\n",
              " '../data/sequence_data/per_drum/7_KK/08/KK_08_0025.wav',\n",
              " '../data/sequence_data/per_drum/7_KK/04/KK_04_0011.wav',\n",
              " '../data/sequence_data/per_drum/7_KK/04/KK_04_0006.wav',\n",
              " '../data/sequence_data/per_drum/5_SD/08/SD_08_0017.wav',\n",
              " '../data/sequence_data/per_drum/5_SD/16/SD_16_0030.wav',\n",
              " '../data/sequence_data/per_drum/0_CC/04/CC_04_9993.wav',\n",
              " '../data/sequence_data/per_drum/7_KK/04/KK_04_0056.wav',\n",
              " '../data/sequence_data/pattern/P1/08/P1_08_0023.wav',\n",
              " '../data/sequence_data/per_drum/7_KK/04/KK_04_0049.wav',\n",
              " '../data/sequence_data/per_drum/1_HH/16/HH_16_0030.wav',\n",
              " '../data/sequence_data/per_drum/7_KK/08/KK_08_0032.wav',\n",
              " '../data/sequence_data/per_drum/0_CC/08/CC_08_9974.wav',\n",
              " '../data/sequence_data/per_drum/1_HH/16/HH_16_0036.wav',\n",
              " '../data/sequence_data/per_drum/7_KK/08/KK_08_0040.wav',\n",
              " '../data/sequence_data/per_drum/5_SD/16/SD_16_0043.wav',\n",
              " '../data/sequence_data/per_drum/5_SD/16/SD_16_0047.wav',\n",
              " '../data/sequence_data/per_drum/0_CC/08/CC_08_9970.wav',\n",
              " '../data/sequence_data/per_drum/7_KK/04/KK_04_0035.wav',\n",
              " '../data/sequence_data/per_drum/7_KK/04/KK_04_0058.wav',\n",
              " '../data/sequence_data/pattern/P1/08/P1_08_0008.wav',\n",
              " '../data/sequence_data/per_drum/0_CC/08/CC_08_9956.wav',\n",
              " '../data/sequence_data/per_drum/1_HH/08/HH_08_0023.wav',\n",
              " '../data/sequence_data/per_drum/5_SD/16/SD_16_0037.wav',\n",
              " '../data/sequence_data/per_drum/5_SD/04/SD_04_0041.wav',\n",
              " '../data/sequence_data/per_drum/1_HH/08/HH_08_0013.wav',\n",
              " '../data/sequence_data/per_drum/7_KK/04/KK_04_0047.wav',\n",
              " '../data/sequence_data/per_drum/0_CC/08/CC_08_9979.wav',\n",
              " '../data/sequence_data/per_drum/1_HH/04/HH_04_0046.wav',\n",
              " '../data/sequence_data/per_drum/7_KK/04/KK_04_0016.wav',\n",
              " '../data/sequence_data/per_drum/1_HH/08/HH_08_0030.wav',\n",
              " '../data/sequence_data/per_drum/7_KK/08/KK_08_0056.wav',\n",
              " '../data/sequence_data/per_drum/7_KK/08/KK_08_0053.wav',\n",
              " '../data/sequence_data/per_drum/5_SD/08/SD_08_0009.wav',\n",
              " '../data/sequence_data/per_drum/5_SD/04/SD_04_0006.wav',\n",
              " '../data/sequence_data/per_drum/0_CC/08/CC_08_9988.wav',\n",
              " '../data/sequence_data/per_drum/0_CC/04/CC_04_9970.wav',\n",
              " '../data/sequence_data/per_drum/5_SD/04/SD_04_0022.wav',\n",
              " '../data/sequence_data/per_drum/0_CC/04/CC_04_9989.wav',\n",
              " '../data/sequence_data/per_drum/7_KK/08/KK_08_0035.wav',\n",
              " '../data/sequence_data/per_drum/7_KK/04/KK_04_0012.wav',\n",
              " '../data/sequence_data/per_drum/7_KK/08/KK_08_0062.wav',\n",
              " '../data/sequence_data/per_drum/7_KK/08/KK_08_0034.wav',\n",
              " '../data/sequence_data/per_drum/5_SD/08/SD_08_0027.wav',\n",
              " '../data/sequence_data/per_drum/1_HH/04/HH_04_0045.wav',\n",
              " '../data/sequence_data/per_drum/1_HH/04/HH_04_0008.wav',\n",
              " '../data/sequence_data/per_drum/7_KK/08/KK_08_0026.wav',\n",
              " '../data/sequence_data/per_drum/0_CC/08/CC_08_9984.wav',\n",
              " '../data/sequence_data/per_drum/5_SD/04/SD_04_0058.wav',\n",
              " '../data/sequence_data/per_drum/5_SD/08/SD_08_0012.wav',\n",
              " '../data/sequence_data/per_drum/1_HH/08/HH_08_0007.wav',\n",
              " '../data/sequence_data/per_drum/0_CC/08/CC_08_9996.wav',\n",
              " '../data/sequence_data/per_drum/5_SD/16/SD_16_0027.wav',\n",
              " '../data/sequence_data/per_drum/7_KK/08/KK_08_0005.wav',\n",
              " '../data/sequence_data/per_drum/5_SD/04/SD_04_0040.wav',\n",
              " '../data/sequence_data/pattern/P1/08/P1_08_0028.wav',\n",
              " '../data/sequence_data/per_drum/0_CC/08/CC_08_9980.wav',\n",
              " '../data/sequence_data/per_drum/0_CC/04/CC_04_9979.wav',\n",
              " '../data/sequence_data/per_drum/5_SD/16/SD_16_0009.wav',\n",
              " '../data/sequence_data/per_drum/7_KK/04/KK_04_0020.wav',\n",
              " '../data/sequence_data/pattern/P1/08/P1_08_0005.wav',\n",
              " '../data/sequence_data/per_drum/7_KK/08/KK_08_0018.wav',\n",
              " '../data/sequence_data/per_drum/5_SD/04/SD_04_0012.wav',\n",
              " '../data/sequence_data/per_drum/1_HH/08/HH_08_0011.wav',\n",
              " '../data/sequence_data/per_drum/7_KK/08/KK_08_0021.wav',\n",
              " '../data/sequence_data/pattern/P1/08/P1_08_0001.wav',\n",
              " '../data/sequence_data/per_drum/1_HH/08/HH_08_0055.wav',\n",
              " '../data/sequence_data/per_drum/1_HH/16/HH_16_0031.wav',\n",
              " '../data/sequence_data/per_drum/1_HH/04/HH_04_0012.wav',\n",
              " '../data/sequence_data/per_drum/7_KK/04/KK_04_0019.wav',\n",
              " '../data/sequence_data/per_drum/0_CC/04/CC_04_9972.wav',\n",
              " '../data/sequence_data/per_drum/0_CC/04/CC_04_9971.wav',\n",
              " '../data/sequence_data/per_drum/5_SD/08/SD_08_0032.wav',\n",
              " '../data/sequence_data/per_drum/5_SD/04/SD_04_0033.wav',\n",
              " '../data/sequence_data/per_drum/5_SD/04/SD_04_0003.wav',\n",
              " '../data/sequence_data/per_drum/1_HH/16/HH_16_0055.wav',\n",
              " '../data/sequence_data/per_drum/0_CC/04/CC_04_9963.wav',\n",
              " '../data/sequence_data/per_drum/1_HH/16/HH_16_0057.wav',\n",
              " '../data/sequence_data/per_drum/7_KK/08/KK_08_0015.wav',\n",
              " '../data/sequence_data/per_drum/1_HH/04/HH_04_0022.wav',\n",
              " '../data/sequence_data/per_drum/7_KK/08/KK_08_0007.wav',\n",
              " '../data/sequence_data/per_drum/5_SD/16/SD_16_0006.wav',\n",
              " '../data/sequence_data/per_drum/1_HH/08/HH_08_0001.wav',\n",
              " '../data/sequence_data/per_drum/7_KK/08/KK_08_0055.wav',\n",
              " '../data/sequence_data/per_drum/7_KK/04/KK_04_0008.wav',\n",
              " '../data/sequence_data/per_drum/0_CC/04/CC_04_9999.wav',\n",
              " '../data/sequence_data/per_drum/1_HH/08/HH_08_0044.wav',\n",
              " '../data/sequence_data/per_drum/0_CC/08/CC_08_9981.wav',\n",
              " '../data/sequence_data/per_drum/5_SD/08/SD_08_0041.wav',\n",
              " '../data/sequence_data/per_drum/1_HH/08/HH_08_0049.wav',\n",
              " '../data/sequence_data/per_drum/5_SD/08/SD_08_0026.wav',\n",
              " '../data/sequence_data/per_drum/5_SD/16/SD_16_0034.wav',\n",
              " '../data/sequence_data/per_drum/1_HH/16/HH_16_0058.wav',\n",
              " '../data/sequence_data/pattern/P1/08/P1_08_0024.wav',\n",
              " '../data/sequence_data/per_drum/0_CC/08/CC_08_9961.wav',\n",
              " '../data/sequence_data/per_drum/5_SD/16/SD_16_0045.wav',\n",
              " '../data/sequence_data/per_drum/1_HH/16/HH_16_0050.wav',\n",
              " '../data/sequence_data/per_drum/1_HH/04/HH_04_0029.wav',\n",
              " '../data/sequence_data/per_drum/0_CC/08/CC_08_9966.wav',\n",
              " '../data/sequence_data/per_drum/1_HH/16/HH_16_0017.wav',\n",
              " '../data/sequence_data/pattern/P1/08/P1_08_0019.wav',\n",
              " '../data/sequence_data/per_drum/0_CC/08/CC_08_9959.wav',\n",
              " '../data/sequence_data/per_drum/7_KK/04/KK_04_0001.wav',\n",
              " '../data/sequence_data/pattern/P1/08/P1_08_0018.wav',\n",
              " '../data/sequence_data/per_drum/1_HH/16/HH_16_0033.wav',\n",
              " '../data/sequence_data/per_drum/0_CC/08/CC_08_9978.wav',\n",
              " '../data/sequence_data/per_drum/1_HH/08/HH_08_0052.wav',\n",
              " '../data/sequence_data/per_drum/1_HH/16/HH_16_0003.wav',\n",
              " '../data/sequence_data/per_drum/7_KK/08/KK_08_0046.wav',\n",
              " '../data/sequence_data/per_drum/5_SD/08/SD_08_0039.wav',\n",
              " '../data/sequence_data/pattern/P1/08/P1_08_0002.wav',\n",
              " '../data/sequence_data/per_drum/5_SD/16/SD_16_0020.wav',\n",
              " '../data/sequence_data/per_drum/1_HH/08/HH_08_0046.wav',\n",
              " '../data/sequence_data/per_drum/7_KK/08/KK_08_0016.wav',\n",
              " '../data/sequence_data/per_drum/1_HH/16/HH_16_0029.wav',\n",
              " '../data/sequence_data/per_drum/5_SD/04/SD_04_0035.wav',\n",
              " '../data/sequence_data/per_drum/7_KK/08/KK_08_0019.wav',\n",
              " '../data/sequence_data/per_drum/1_HH/04/HH_04_0014.wav',\n",
              " '../data/sequence_data/per_drum/7_KK/04/KK_04_0059.wav',\n",
              " '../data/sequence_data/pattern/P1/08/P1_08_0027.wav',\n",
              " '../data/sequence_data/per_drum/5_SD/16/SD_16_0032.wav',\n",
              " '../data/sequence_data/per_drum/1_HH/04/HH_04_0039.wav',\n",
              " '../data/sequence_data/per_drum/0_CC/08/CC_08_9987.wav',\n",
              " '../data/sequence_data/per_drum/5_SD/16/SD_16_0016.wav',\n",
              " '../data/sequence_data/per_drum/5_SD/04/SD_04_0036.wav',\n",
              " '../data/sequence_data/per_drum/7_KK/04/KK_04_0031.wav',\n",
              " '../data/sequence_data/per_drum/7_KK/04/KK_04_0057.wav',\n",
              " '../data/sequence_data/per_drum/5_SD/16/SD_16_0024.wav',\n",
              " '../data/sequence_data/per_drum/5_SD/08/SD_08_0052.wav',\n",
              " '../data/sequence_data/per_drum/1_HH/08/HH_08_0038.wav',\n",
              " '../data/sequence_data/per_drum/5_SD/16/SD_16_0019.wav',\n",
              " '../data/sequence_data/per_drum/1_HH/16/HH_16_0047.wav',\n",
              " '../data/sequence_data/per_drum/1_HH/08/HH_08_0033.wav',\n",
              " '../data/sequence_data/per_drum/1_HH/16/HH_16_0034.wav',\n",
              " '../data/sequence_data/per_drum/1_HH/04/HH_04_0018.wav',\n",
              " '../data/sequence_data/per_drum/7_KK/04/KK_04_0052.wav',\n",
              " '../data/sequence_data/per_drum/1_HH/04/HH_04_0001.wav',\n",
              " '../data/sequence_data/per_drum/0_CC/04/CC_04_9992.wav',\n",
              " '../data/sequence_data/per_drum/1_HH/04/HH_04_0038.wav',\n",
              " '../data/sequence_data/per_drum/7_KK/08/KK_08_0054.wav',\n",
              " '../data/sequence_data/per_drum/1_HH/16/HH_16_0004.wav',\n",
              " '../data/sequence_data/per_drum/7_KK/04/KK_04_0028.wav',\n",
              " '../data/sequence_data/per_drum/7_KK/08/KK_08_0013.wav',\n",
              " '../data/sequence_data/per_drum/1_HH/04/HH_04_0034.wav',\n",
              " '../data/sequence_data/per_drum/7_KK/04/KK_04_0055.wav',\n",
              " '../data/sequence_data/per_drum/0_CC/08/CC_08_9990.wav',\n",
              " '../data/sequence_data/per_drum/7_KK/04/KK_04_0036.wav',\n",
              " '../data/sequence_data/per_drum/5_SD/04/SD_04_0017.wav',\n",
              " '../data/sequence_data/per_drum/5_SD/04/SD_04_0016.wav',\n",
              " '../data/sequence_data/per_drum/5_SD/04/SD_04_0004.wav',\n",
              " '../data/sequence_data/per_drum/7_KK/04/KK_04_0010.wav',\n",
              " '../data/sequence_data/per_drum/1_HH/16/HH_16_0051.wav',\n",
              " '../data/sequence_data/per_drum/7_KK/08/KK_08_0030.wav',\n",
              " '../data/sequence_data/per_drum/5_SD/08/SD_08_0004.wav',\n",
              " '../data/sequence_data/per_drum/0_CC/08/CC_08_9986.wav',\n",
              " '../data/sequence_data/per_drum/7_KK/04/KK_04_0024.wav',\n",
              " '../data/sequence_data/per_drum/5_SD/08/SD_08_0042.wav',\n",
              " '../data/sequence_data/per_drum/1_HH/08/HH_08_0035.wav',\n",
              " '../data/sequence_data/per_drum/7_KK/08/KK_08_0033.wav',\n",
              " '../data/sequence_data/per_drum/0_CC/08/CC_08_9976.wav',\n",
              " '../data/sequence_data/pattern/P1/08/P1_08_0020.wav',\n",
              " '../data/sequence_data/per_drum/7_KK/04/KK_04_0050.wav',\n",
              " '../data/sequence_data/per_drum/5_SD/04/SD_04_0046.wav',\n",
              " '../data/sequence_data/per_drum/5_SD/04/SD_04_0001.wav',\n",
              " '../data/sequence_data/per_drum/1_HH/16/HH_16_0001.wav',\n",
              " '../data/sequence_data/per_drum/7_KK/08/KK_08_0012.wav',\n",
              " '../data/sequence_data/per_drum/1_HH/16/HH_16_0040.wav',\n",
              " '../data/sequence_data/per_drum/1_HH/16/HH_16_0028.wav',\n",
              " '../data/sequence_data/per_drum/0_CC/04/CC_04_9984.wav',\n",
              " '../data/sequence_data/per_drum/5_SD/04/SD_04_0031.wav',\n",
              " '../data/sequence_data/per_drum/1_HH/08/HH_08_0019.wav',\n",
              " '../data/sequence_data/per_drum/0_CC/04/CC_04_9965.wav',\n",
              " '../data/sequence_data/per_drum/7_KK/08/KK_08_0043.wav',\n",
              " '../data/sequence_data/per_drum/5_SD/08/SD_08_0031.wav',\n",
              " '../data/sequence_data/per_drum/5_SD/04/SD_04_0050.wav',\n",
              " '../data/sequence_data/per_drum/5_SD/08/SD_08_0048.wav',\n",
              " '../data/sequence_data/per_drum/1_HH/16/HH_16_0041.wav',\n",
              " '../data/sequence_data/per_drum/1_HH/08/HH_08_0016.wav',\n",
              " '../data/sequence_data/per_drum/1_HH/04/HH_04_0043.wav',\n",
              " '../data/sequence_data/per_drum/0_CC/04/CC_04_9974.wav',\n",
              " '../data/sequence_data/pattern/P1/08/P1_08_0010.wav',\n",
              " '../data/sequence_data/per_drum/1_HH/04/HH_04_0031.wav',\n",
              " '../data/sequence_data/per_drum/1_HH/08/HH_08_0050.wav',\n",
              " '../data/sequence_data/per_drum/0_CC/04/CC_04_9978.wav',\n",
              " '../data/sequence_data/per_drum/5_SD/16/SD_16_0025.wav',\n",
              " '../data/sequence_data/per_drum/7_KK/04/KK_04_0021.wav',\n",
              " '../data/sequence_data/per_drum/1_HH/16/HH_16_0045.wav',\n",
              " '../data/sequence_data/per_drum/0_CC/04/CC_04_9986.wav',\n",
              " '../data/sequence_data/per_drum/1_HH/08/HH_08_0047.wav',\n",
              " '../data/sequence_data/per_drum/0_CC/08/CC_08_9982.wav',\n",
              " '../data/sequence_data/per_drum/7_KK/08/KK_08_0049.wav',\n",
              " '../data/sequence_data/per_drum/5_SD/16/SD_16_0005.wav',\n",
              " '../data/sequence_data/per_drum/0_CC/08/CC_08_9952.wav',\n",
              " '../data/sequence_data/per_drum/1_HH/08/HH_08_0053.wav',\n",
              " '../data/sequence_data/per_drum/7_KK/08/KK_08_0029.wav',\n",
              " '../data/sequence_data/per_drum/5_SD/04/SD_04_0055.wav',\n",
              " '../data/sequence_data/pattern/P1/08/P1_08_0012.wav',\n",
              " '../data/sequence_data/pattern/P1/08/P1_08_0003.wav',\n",
              " '../data/sequence_data/per_drum/0_CC/04/CC_04_9952.wav',\n",
              " '../data/sequence_data/per_drum/1_HH/08/HH_08_0042.wav',\n",
              " '../data/sequence_data/per_drum/5_SD/16/SD_16_0036.wav',\n",
              " '../data/sequence_data/per_drum/0_CC/04/CC_04_9949.wav',\n",
              " '../data/sequence_data/per_drum/7_KK/08/KK_08_0044.wav',\n",
              " '../data/sequence_data/per_drum/1_HH/16/HH_16_0056.wav',\n",
              " '../data/sequence_data/pattern/P1/08/P1_08_0015.wav',\n",
              " '../data/sequence_data/per_drum/5_SD/16/SD_16_0018.wav',\n",
              " '../data/sequence_data/per_drum/7_KK/04/KK_04_0007.wav',\n",
              " '../data/sequence_data/per_drum/5_SD/08/SD_08_0022.wav',\n",
              " '../data/sequence_data/per_drum/7_KK/08/KK_08_0003.wav',\n",
              " '../data/sequence_data/per_drum/0_CC/04/CC_04_9966.wav',\n",
              " '../data/sequence_data/per_drum/5_SD/16/SD_16_0021.wav',\n",
              " '../data/sequence_data/per_drum/0_CC/08/CC_08_9953.wav',\n",
              " '../data/sequence_data/per_drum/5_SD/04/SD_04_0011.wav',\n",
              " '../data/sequence_data/per_drum/7_KK/08/KK_08_0006.wav',\n",
              " '../data/sequence_data/per_drum/5_SD/08/SD_08_0011.wav',\n",
              " '../data/sequence_data/per_drum/5_SD/08/SD_08_0010.wav',\n",
              " '../data/sequence_data/per_drum/1_HH/04/HH_04_0030.wav',\n",
              " '../data/sequence_data/per_drum/0_CC/08/CC_08_9999.wav',\n",
              " '../data/sequence_data/per_drum/5_SD/08/SD_08_0050.wav',\n",
              " '../data/sequence_data/per_drum/7_KK/04/KK_04_0004.wav',\n",
              " '../data/sequence_data/per_drum/5_SD/04/SD_04_0014.wav',\n",
              " '../data/sequence_data/per_drum/0_CC/08/CC_08_9992.wav',\n",
              " '../data/sequence_data/per_drum/1_HH/16/HH_16_0064.wav',\n",
              " '../data/sequence_data/per_drum/1_HH/16/HH_16_0023.wav',\n",
              " '../data/sequence_data/per_drum/7_KK/04/KK_04_0048.wav',\n",
              " '../data/sequence_data/per_drum/0_CC/04/CC_04_9980.wav',\n",
              " '../data/sequence_data/per_drum/5_SD/16/SD_16_0053.wav',\n",
              " '../data/sequence_data/per_drum/5_SD/04/SD_04_0029.wav',\n",
              " '../data/sequence_data/per_drum/7_KK/04/KK_04_0015.wav',\n",
              " '../data/sequence_data/per_drum/1_HH/04/HH_04_0011.wav',\n",
              " '../data/sequence_data/pattern/P1/08/P1_08_0011.wav',\n",
              " '../data/sequence_data/per_drum/0_CC/04/CC_04_9991.wav',\n",
              " '../data/sequence_data/per_drum/0_CC/04/CC_04_9976.wav',\n",
              " '../data/sequence_data/per_drum/1_HH/04/HH_04_0004.wav',\n",
              " '../data/sequence_data/per_drum/1_HH/08/HH_08_0040.wav',\n",
              " '../data/sequence_data/per_drum/1_HH/16/HH_16_0049.wav',\n",
              " '../data/sequence_data/per_drum/5_SD/16/SD_16_0042.wav',\n",
              " '../data/sequence_data/per_drum/0_CC/08/CC_08_9960.wav',\n",
              " '../data/sequence_data/per_drum/5_SD/16/SD_16_0044.wav',\n",
              " '../data/sequence_data/per_drum/5_SD/08/SD_08_0023.wav',\n",
              " '../data/sequence_data/per_drum/0_CC/08/CC_08_9994.wav',\n",
              " '../data/sequence_data/per_drum/0_CC/04/CC_04_9996.wav',\n",
              " '../data/sequence_data/per_drum/1_HH/08/HH_08_0012.wav',\n",
              " '../data/sequence_data/per_drum/1_HH/16/HH_16_0009.wav',\n",
              " '../data/sequence_data/per_drum/1_HH/08/HH_08_0014.wav',\n",
              " '../data/sequence_data/per_drum/5_SD/08/SD_08_0008.wav',\n",
              " '../data/sequence_data/per_drum/7_KK/04/KK_04_0053.wav',\n",
              " '../data/sequence_data/per_drum/7_KK/04/KK_04_0026.wav',\n",
              " '../data/sequence_data/per_drum/0_CC/04/CC_04_9951.wav',\n",
              " '../data/sequence_data/per_drum/5_SD/16/SD_16_0048.wav',\n",
              " '../data/sequence_data/pattern/P1/08/P1_08_0014.wav',\n",
              " '../data/sequence_data/per_drum/5_SD/08/SD_08_0049.wav',\n",
              " '../data/sequence_data/per_drum/7_KK/04/KK_04_0029.wav',\n",
              " '../data/sequence_data/pattern/P1/08/P1_08_0007.wav',\n",
              " '../data/sequence_data/per_drum/1_HH/08/HH_08_0029.wav',\n",
              " '../data/sequence_data/per_drum/1_HH/16/HH_16_0015.wav',\n",
              " '../data/sequence_data/per_drum/1_HH/08/HH_08_0004.wav',\n",
              " '../data/sequence_data/per_drum/5_SD/04/SD_04_0044.wav',\n",
              " '../data/sequence_data/per_drum/0_CC/04/CC_04_9995.wav',\n",
              " '../data/sequence_data/per_drum/1_HH/08/HH_08_0009.wav',\n",
              " '../data/sequence_data/per_drum/1_HH/04/HH_04_0026.wav',\n",
              " '../data/sequence_data/per_drum/5_SD/04/SD_04_0037.wav',\n",
              " '../data/sequence_data/per_drum/0_CC/08/CC_08_9958.wav',\n",
              " '../data/sequence_data/per_drum/5_SD/16/SD_16_0003.wav',\n",
              " '../data/sequence_data/per_drum/5_SD/16/SD_16_0004.wav',\n",
              " '../data/sequence_data/per_drum/0_CC/04/CC_04_9964.wav',\n",
              " '../data/sequence_data/per_drum/1_HH/08/HH_08_0034.wav',\n",
              " '../data/sequence_data/per_drum/0_CC/08/CC_08_9991.wav',\n",
              " '../data/sequence_data/per_drum/7_KK/08/KK_08_0052.wav',\n",
              " '../data/sequence_data/per_drum/5_SD/04/SD_04_0048.wav',\n",
              " '../data/sequence_data/per_drum/1_HH/04/HH_04_0021.wav',\n",
              " '../data/sequence_data/pattern/P1/08/P1_08_0022.wav',\n",
              " '../data/sequence_data/per_drum/0_CC/08/CC_08_9951.wav',\n",
              " '../data/sequence_data/per_drum/1_HH/16/HH_16_0006.wav',\n",
              " '../data/sequence_data/per_drum/1_HH/08/HH_08_0051.wav',\n",
              " '../data/sequence_data/per_drum/5_SD/08/SD_08_0002.wav',\n",
              " '../data/sequence_data/per_drum/7_KK/04/KK_04_0060.wav',\n",
              " '../data/sequence_data/per_drum/7_KK/04/KK_04_0033.wav',\n",
              " '../data/sequence_data/per_drum/1_HH/16/HH_16_0059.wav',\n",
              " '../data/sequence_data/per_drum/5_SD/16/SD_16_0007.wav',\n",
              " '../data/sequence_data/per_drum/5_SD/04/SD_04_0025.wav',\n",
              " '../data/sequence_data/per_drum/5_SD/04/SD_04_0021.wav',\n",
              " '../data/sequence_data/per_drum/5_SD/16/SD_16_0015.wav',\n",
              " '../data/sequence_data/pattern/P2/16/P2_16_0001.wav',\n",
              " '../data/sequence_data/per_drum/1_HH/04/HH_04_0002.wav',\n",
              " '../data/sequence_data/per_drum/0_CC/04/CC_04_9968.wav',\n",
              " '../data/sequence_data/per_drum/0_CC/04/CC_04_9967.wav',\n",
              " '../data/sequence_data/per_drum/1_HH/16/HH_16_0026.wav',\n",
              " '../data/sequence_data/per_drum/7_KK/08/KK_08_0023.wav',\n",
              " '../data/sequence_data/per_drum/5_SD/04/SD_04_0015.wav',\n",
              " '../data/sequence_data/per_drum/0_CC/04/CC_04_9950.wav',\n",
              " '../data/sequence_data/per_drum/1_HH/04/HH_04_0035.wav',\n",
              " '../data/sequence_data/per_drum/1_HH/04/HH_04_0013.wav',\n",
              " '../data/sequence_data/per_drum/1_HH/16/HH_16_0063.wav',\n",
              " '../data/sequence_data/per_drum/7_KK/08/KK_08_0038.wav',\n",
              " '../data/sequence_data/per_drum/7_KK/04/KK_04_0018.wav',\n",
              " '../data/sequence_data/per_drum/1_HH/16/HH_16_0018.wav',\n",
              " '../data/sequence_data/pattern/P1/08/P1_08_0006.wav',\n",
              " '../data/sequence_data/per_drum/1_HH/16/HH_16_0042.wav',\n",
              " '../data/sequence_data/per_drum/7_KK/08/KK_08_0028.wav',\n",
              " '../data/sequence_data/per_drum/1_HH/08/HH_08_0008.wav',\n",
              " '../data/sequence_data/per_drum/0_CC/04/CC_04_9957.wav',\n",
              " '../data/sequence_data/per_drum/5_SD/04/SD_04_0038.wav',\n",
              " '../data/sequence_data/per_drum/5_SD/04/SD_04_0013.wav',\n",
              " '../data/sequence_data/per_drum/7_KK/08/KK_08_0024.wav',\n",
              " '../data/sequence_data/per_drum/1_HH/08/HH_08_0037.wav',\n",
              " '../data/sequence_data/per_drum/0_CC/08/CC_08_9973.wav',\n",
              " '../data/sequence_data/per_drum/5_SD/16/SD_16_0040.wav',\n",
              " '../data/sequence_data/per_drum/1_HH/16/HH_16_0044.wav',\n",
              " '../data/sequence_data/per_drum/7_KK/04/KK_04_0013.wav',\n",
              " '../data/sequence_data/per_drum/1_HH/04/HH_04_0016.wav',\n",
              " '../data/sequence_data/per_drum/7_KK/08/KK_08_0036.wav',\n",
              " '../data/sequence_data/per_drum/1_HH/08/HH_08_0028.wav',\n",
              " '../data/sequence_data/per_drum/7_KK/08/KK_08_0057.wav',\n",
              " '../data/sequence_data/per_drum/1_HH/16/HH_16_0046.wav',\n",
              " '../data/sequence_data/per_drum/1_HH/04/HH_04_0010.wav',\n",
              " '../data/sequence_data/per_drum/5_SD/16/SD_16_0010.wav',\n",
              " '../data/sequence_data/per_drum/7_KK/04/KK_04_0039.wav',\n",
              " '../data/sequence_data/per_drum/5_SD/04/SD_04_0027.wav',\n",
              " '../data/sequence_data/per_drum/1_HH/08/HH_08_0032.wav',\n",
              " '../data/sequence_data/per_drum/1_HH/08/HH_08_0027.wav',\n",
              " '../data/sequence_data/per_drum/1_HH/16/HH_16_0013.wav',\n",
              " '../data/sequence_data/per_drum/5_SD/08/SD_08_0019.wav',\n",
              " '../data/sequence_data/per_drum/5_SD/04/SD_04_0053.wav',\n",
              " '../data/sequence_data/per_drum/7_KK/08/KK_08_0008.wav',\n",
              " '../data/sequence_data/per_drum/1_HH/16/HH_16_0053.wav',\n",
              " '../data/sequence_data/per_drum/5_SD/04/SD_04_0039.wav',\n",
              " '../data/sequence_data/per_drum/5_SD/08/SD_08_0028.wav',\n",
              " '../data/sequence_data/per_drum/0_CC/08/CC_08_9971.wav',\n",
              " '../data/sequence_data/per_drum/5_SD/04/SD_04_0047.wav',\n",
              " '../data/sequence_data/per_drum/1_HH/04/HH_04_0048.wav',\n",
              " '../data/sequence_data/per_drum/1_HH/04/HH_04_0050.wav',\n",
              " '../data/sequence_data/per_drum/7_KK/08/KK_08_0017.wav',\n",
              " '../data/sequence_data/per_drum/0_CC/04/CC_04_9955.wav',\n",
              " '../data/sequence_data/per_drum/1_HH/16/HH_16_0020.wav',\n",
              " '../data/sequence_data/per_drum/1_HH/08/HH_08_0043.wav',\n",
              " '../data/sequence_data/per_drum/5_SD/08/SD_08_0001.wav',\n",
              " '../data/sequence_data/per_drum/7_KK/04/KK_04_0042.wav',\n",
              " '../data/sequence_data/per_drum/1_HH/08/HH_08_0010.wav',\n",
              " '../data/sequence_data/per_drum/5_SD/08/SD_08_0046.wav',\n",
              " '../data/sequence_data/pattern/P1/08/P1_08_0025.wav',\n",
              " '../data/sequence_data/per_drum/5_SD/04/SD_04_0032.wav',\n",
              " '../data/sequence_data/per_drum/1_HH/08/HH_08_0026.wav',\n",
              " '../data/sequence_data/per_drum/7_KK/04/KK_04_0040.wav',\n",
              " '../data/sequence_data/per_drum/0_CC/04/CC_04_9959.wav',\n",
              " '../data/sequence_data/per_drum/7_KK/08/KK_08_0010.wav',\n",
              " '../data/sequence_data/per_drum/1_HH/08/HH_08_0017.wav',\n",
              " '../data/sequence_data/per_drum/1_HH/08/HH_08_0021.wav',\n",
              " '../data/sequence_data/per_drum/7_KK/04/KK_04_0022.wav',\n",
              " '../data/sequence_data/per_drum/5_SD/04/SD_04_0005.wav',\n",
              " '../data/sequence_data/per_drum/5_SD/04/SD_04_0042.wav',\n",
              " '../data/sequence_data/per_drum/1_HH/08/HH_08_0005.wav',\n",
              " '../data/sequence_data/per_drum/7_KK/08/KK_08_0022.wav',\n",
              " '../data/sequence_data/per_drum/0_CC/04/CC_04_9994.wav',\n",
              " '../data/sequence_data/per_drum/7_KK/08/KK_08_0059.wav',\n",
              " '../data/sequence_data/per_drum/1_HH/16/HH_16_0022.wav',\n",
              " '../data/sequence_data/per_drum/0_CC/08/CC_08_9950.wav',\n",
              " '../data/sequence_data/per_drum/0_CC/08/CC_08_9964.wav',\n",
              " '../data/sequence_data/per_drum/1_HH/04/HH_04_0007.wav',\n",
              " '../data/sequence_data/per_drum/1_HH/08/HH_08_0036.wav',\n",
              " '../data/sequence_data/per_drum/5_SD/08/SD_08_0007.wav',\n",
              " '../data/sequence_data/per_drum/7_KK/08/KK_08_0011.wav',\n",
              " '../data/sequence_data/per_drum/1_HH/04/HH_04_0042.wav',\n",
              " '../data/sequence_data/per_drum/1_HH/08/HH_08_0025.wav',\n",
              " '../data/sequence_data/per_drum/0_CC/04/CC_04_9987.wav',\n",
              " '../data/sequence_data/per_drum/7_KK/04/KK_04_0038.wav',\n",
              " '../data/sequence_data/per_drum/1_HH/08/HH_08_0054.wav',\n",
              " '../data/sequence_data/per_drum/5_SD/04/SD_04_0054.wav',\n",
              " '../data/sequence_data/pattern/P1/08/P1_08_0017.wav',\n",
              " '../data/sequence_data/per_drum/1_HH/08/HH_08_0041.wav',\n",
              " '../data/sequence_data/per_drum/7_KK/08/KK_08_0047.wav',\n",
              " '../data/sequence_data/per_drum/1_HH/04/HH_04_0023.wav',\n",
              " '../data/sequence_data/per_drum/1_HH/08/HH_08_0024.wav',\n",
              " '../data/sequence_data/per_drum/0_CC/04/CC_04_9985.wav',\n",
              " '../data/sequence_data/per_drum/7_KK/08/KK_08_0042.wav',\n",
              " '../data/sequence_data/per_drum/1_HH/04/HH_04_0005.wav',\n",
              " '../data/sequence_data/per_drum/5_SD/16/SD_16_0012.wav',\n",
              " '../data/sequence_data/per_drum/5_SD/08/SD_08_0021.wav',\n",
              " '../data/sequence_data/per_drum/1_HH/16/HH_16_0038.wav',\n",
              " '../data/sequence_data/per_drum/5_SD/08/SD_08_0006.wav',\n",
              " '../data/sequence_data/per_drum/7_KK/08/KK_08_0020.wav',\n",
              " '../data/sequence_data/per_drum/5_SD/16/SD_16_0052.wav',\n",
              " '../data/sequence_data/per_drum/0_CC/04/CC_04_9961.wav',\n",
              " '../data/sequence_data/per_drum/1_HH/04/HH_04_0044.wav',\n",
              " '../data/sequence_data/per_drum/1_HH/16/HH_16_0035.wav',\n",
              " '../data/sequence_data/per_drum/1_HH/08/HH_08_0031.wav',\n",
              " '../data/sequence_data/pattern/P1/08/P1_08_0009.wav',\n",
              " '../data/sequence_data/per_drum/1_HH/16/HH_16_0010.wav',\n",
              " '../data/sequence_data/per_drum/5_SD/16/SD_16_0033.wav',\n",
              " '../data/sequence_data/per_drum/5_SD/16/SD_16_0035.wav',\n",
              " '../data/sequence_data/per_drum/5_SD/08/SD_08_0037.wav',\n",
              " '../data/sequence_data/per_drum/1_HH/04/HH_04_0049.wav',\n",
              " '../data/sequence_data/per_drum/7_KK/08/KK_08_0051.wav',\n",
              " '../data/sequence_data/per_drum/5_SD/16/SD_16_0031.wav',\n",
              " '../data/sequence_data/per_drum/5_SD/04/SD_04_0023.wav',\n",
              " '../data/sequence_data/per_drum/5_SD/08/SD_08_0003.wav',\n",
              " '../data/sequence_data/per_drum/5_SD/04/SD_04_0043.wav',\n",
              " '../data/sequence_data/per_drum/5_SD/16/SD_16_0017.wav',\n",
              " '../data/sequence_data/per_drum/1_HH/04/HH_04_0015.wav',\n",
              " '../data/sequence_data/per_drum/0_CC/04/CC_04_9962.wav',\n",
              " '../data/sequence_data/per_drum/1_HH/16/HH_16_0027.wav',\n",
              " '../data/sequence_data/per_drum/5_SD/08/SD_08_0005.wav',\n",
              " '../data/sequence_data/per_drum/0_CC/04/CC_04_9988.wav',\n",
              " '../data/sequence_data/per_drum/1_HH/04/HH_04_0020.wav',\n",
              " '../data/sequence_data/per_drum/1_HH/16/HH_16_0062.wav',\n",
              " '../data/sequence_data/per_drum/7_KK/04/KK_04_0041.wav',\n",
              " '../data/sequence_data/per_drum/1_HH/04/HH_04_0037.wav',\n",
              " '../data/sequence_data/per_drum/7_KK/08/KK_08_0031.wav',\n",
              " '../data/sequence_data/per_drum/0_CC/08/CC_08_9997.wav',\n",
              " '../data/sequence_data/per_drum/1_HH/16/HH_16_0043.wav',\n",
              " '../data/sequence_data/per_drum/1_HH/08/HH_08_0022.wav',\n",
              " '../data/sequence_data/per_drum/5_SD/16/SD_16_0038.wav',\n",
              " '../data/sequence_data/per_drum/5_SD/08/SD_08_0040.wav',\n",
              " '../data/sequence_data/per_drum/0_CC/08/CC_08_9954.wav',\n",
              " '../data/sequence_data/per_drum/1_HH/16/HH_16_0061.wav',\n",
              " '../data/sequence_data/per_drum/1_HH/04/HH_04_0036.wav',\n",
              " '../data/sequence_data/per_drum/1_HH/16/HH_16_0052.wav',\n",
              " '../data/sequence_data/per_drum/1_HH/08/HH_08_0048.wav',\n",
              " '../data/sequence_data/per_drum/5_SD/16/SD_16_0011.wav',\n",
              " '../data/sequence_data/per_drum/5_SD/16/SD_16_0002.wav',\n",
              " '../data/sequence_data/per_drum/1_HH/08/HH_08_0045.wav',\n",
              " '../data/sequence_data/per_drum/0_CC/08/CC_08_9983.wav',\n",
              " '../data/sequence_data/per_drum/1_HH/04/HH_04_0003.wav',\n",
              " '../data/sequence_data/per_drum/5_SD/08/SD_08_0013.wav',\n",
              " '../data/sequence_data/per_drum/5_SD/08/SD_08_0034.wav',\n",
              " '../data/sequence_data/pattern/P2/16/P2_16_0002.wav',\n",
              " '../data/sequence_data/per_drum/0_CC/08/CC_08_9989.wav',\n",
              " '../data/sequence_data/per_drum/1_HH/16/HH_16_0019.wav',\n",
              " '../data/sequence_data/per_drum/0_CC/04/CC_04_9953.wav',\n",
              " '../data/sequence_data/per_drum/0_CC/04/CC_04_9983.wav',\n",
              " '../data/sequence_data/per_drum/5_SD/16/SD_16_0029.wav',\n",
              " '../data/sequence_data/per_drum/7_KK/04/KK_04_0014.wav',\n",
              " '../data/sequence_data/per_drum/1_HH/04/HH_04_0041.wav',\n",
              " '../data/sequence_data/per_drum/1_HH/16/HH_16_0048.wav',\n",
              " '../data/sequence_data/per_drum/0_CC/04/CC_04_9960.wav',\n",
              " '../data/sequence_data/per_drum/1_HH/04/HH_04_0032.wav',\n",
              " '../data/sequence_data/per_drum/5_SD/08/SD_08_0051.wav',\n",
              " '../data/sequence_data/per_drum/0_CC/08/CC_08_9993.wav',\n",
              " '../data/sequence_data/per_drum/5_SD/08/SD_08_0016.wav',\n",
              " '../data/sequence_data/per_drum/1_HH/16/HH_16_0021.wav',\n",
              " '../data/sequence_data/per_drum/7_KK/08/KK_08_0002.wav',\n",
              " '../data/sequence_data/per_drum/1_HH/16/HH_16_0016.wav',\n",
              " '../data/sequence_data/per_drum/0_CC/08/CC_08_9977.wav',\n",
              " '../data/sequence_data/per_drum/7_KK/04/KK_04_0032.wav',\n",
              " '../data/sequence_data/per_drum/5_SD/16/SD_16_0026.wav',\n",
              " '../data/sequence_data/per_drum/5_SD/04/SD_04_0018.wav',\n",
              " '../data/sequence_data/per_drum/1_HH/08/HH_08_0018.wav',\n",
              " '../data/sequence_data/per_drum/0_CC/08/CC_08_9955.wav',\n",
              " '../data/sequence_data/per_drum/5_SD/16/SD_16_0050.wav',\n",
              " '../data/sequence_data/per_drum/1_HH/08/HH_08_0002.wav',\n",
              " '../data/sequence_data/pattern/P1/08/P1_08_0021.wav',\n",
              " '../data/sequence_data/per_drum/0_CC/04/CC_04_9997.wav',\n",
              " '../data/sequence_data/per_drum/1_HH/08/HH_08_0003.wav',\n",
              " '../data/sequence_data/pattern/P1/08/P1_08_0026.wav',\n",
              " '../data/sequence_data/per_drum/5_SD/08/SD_08_0030.wav',\n",
              " '../data/sequence_data/per_drum/0_CC/08/CC_08_9975.wav',\n",
              " '../data/sequence_data/per_drum/1_HH/04/HH_04_0017.wav',\n",
              " '../data/sequence_data/per_drum/5_SD/04/SD_04_0026.wav',\n",
              " '../data/sequence_data/per_drum/5_SD/08/SD_08_0029.wav',\n",
              " '../data/sequence_data/pattern/P1/08/P1_08_0016.wav',\n",
              " '../data/sequence_data/per_drum/5_SD/16/SD_16_0046.wav',\n",
              " '../data/sequence_data/per_drum/1_HH/16/HH_16_0037.wav',\n",
              " '../data/sequence_data/per_drum/5_SD/08/SD_08_0025.wav',\n",
              " '../data/sequence_data/per_drum/7_KK/04/KK_04_0023.wav',\n",
              " '../data/sequence_data/per_drum/0_CC/08/CC_08_9998.wav',\n",
              " '../data/sequence_data/per_drum/1_HH/16/HH_16_0012.wav',\n",
              " '../data/sequence_data/per_drum/7_KK/08/KK_08_0009.wav',\n",
              " '../data/sequence_data/per_drum/5_SD/04/SD_04_0057.wav',\n",
              " '../data/sequence_data/per_drum/5_SD/16/SD_16_0054.wav',\n",
              " '../data/sequence_data/per_drum/1_HH/04/HH_04_0027.wav',\n",
              " '../data/sequence_data/per_drum/0_CC/08/CC_08_9995.wav',\n",
              " '../data/sequence_data/per_drum/5_SD/04/SD_04_0019.wav',\n",
              " '../data/sequence_data/per_drum/7_KK/04/KK_04_0027.wav',\n",
              " '../data/sequence_data/per_drum/7_KK/08/KK_08_0050.wav',\n",
              " '../data/sequence_data/per_drum/5_SD/04/SD_04_0051.wav',\n",
              " '../data/sequence_data/per_drum/7_KK/08/KK_08_0041.wav',\n",
              " '../data/sequence_data/per_drum/7_KK/08/KK_08_0039.wav',\n",
              " '../data/sequence_data/per_drum/5_SD/08/SD_08_0036.wav',\n",
              " '../data/sequence_data/per_drum/5_SD/16/SD_16_0041.wav',\n",
              " '../data/sequence_data/per_drum/5_SD/08/SD_08_0044.wav',\n",
              " '../data/sequence_data/per_drum/0_CC/08/CC_08_9963.wav',\n",
              " '../data/sequence_data/per_drum/5_SD/04/SD_04_0008.wav',\n",
              " '../data/sequence_data/per_drum/1_HH/08/HH_08_0006.wav',\n",
              " '../data/sequence_data/per_drum/0_CC/04/CC_04_9977.wav',\n",
              " '../data/sequence_data/per_drum/1_HH/04/HH_04_0033.wav',\n",
              " '../data/sequence_data/per_drum/7_KK/04/KK_04_0017.wav',\n",
              " '../data/sequence_data/per_drum/1_HH/04/HH_04_0051.wav',\n",
              " '../data/sequence_data/per_drum/5_SD/04/SD_04_0028.wav',\n",
              " '../data/sequence_data/per_drum/1_HH/08/HH_08_0015.wav',\n",
              " '../data/sequence_data/per_drum/1_HH/04/HH_04_0009.wav',\n",
              " '../data/sequence_data/per_drum/7_KK/08/KK_08_0061.wav',\n",
              " '../data/sequence_data/per_drum/1_HH/16/HH_16_0054.wav',\n",
              " '../data/sequence_data/per_drum/5_SD/08/SD_08_0024.wav',\n",
              " '../data/sequence_data/pattern/P1/08/P1_08_0004.wav',\n",
              " '../data/sequence_data/per_drum/7_KK/04/KK_04_0061.wav',\n",
              " '../data/sequence_data/per_drum/1_HH/16/HH_16_0008.wav',\n",
              " '../data/sequence_data/per_drum/7_KK/04/KK_04_0046.wav',\n",
              " '../data/sequence_data/per_drum/5_SD/08/SD_08_0047.wav',\n",
              " '../data/sequence_data/per_drum/1_HH/16/HH_16_0039.wav',\n",
              " '../data/sequence_data/per_drum/5_SD/16/SD_16_0051.wav',\n",
              " '../data/sequence_data/per_drum/0_CC/08/CC_08_9968.wav',\n",
              " '../data/sequence_data/per_drum/7_KK/08/KK_08_0001.wav',\n",
              " '../data/sequence_data/per_drum/7_KK/04/KK_04_0054.wav',\n",
              " '../data/sequence_data/per_drum/0_CC/04/CC_04_9973.wav',\n",
              " '../data/sequence_data/per_drum/7_KK/04/KK_04_0003.wav',\n",
              " '../data/sequence_data/per_drum/5_SD/16/SD_16_0028.wav',\n",
              " '../data/sequence_data/per_drum/7_KK/04/KK_04_0005.wav',\n",
              " '../data/sequence_data/per_drum/5_SD/04/SD_04_0034.wav',\n",
              " '../data/sequence_data/per_drum/7_KK/08/KK_08_0060.wav',\n",
              " '../data/sequence_data/per_drum/0_CC/08/CC_08_9949.wav',\n",
              " '../data/sequence_data/per_drum/0_CC/04/CC_04_9982.wav',\n",
              " '../data/sequence_data/per_drum/0_CC/08/CC_08_9972.wav',\n",
              " '../data/sequence_data/per_drum/5_SD/16/SD_16_0014.wav',\n",
              " '../data/sequence_data/per_drum/1_HH/08/HH_08_0039.wav',\n",
              " '../data/sequence_data/per_drum/7_KK/04/KK_04_0043.wav',\n",
              " '../data/sequence_data/per_drum/5_SD/08/SD_08_0020.wav',\n",
              " '../data/sequence_data/per_drum/5_SD/16/SD_16_0013.wav',\n",
              " '../data/sequence_data/per_drum/0_CC/08/CC_08_9969.wav',\n",
              " '../data/sequence_data/per_drum/5_SD/08/SD_08_0015.wav',\n",
              " '../data/sequence_data/per_drum/7_KK/04/KK_04_0034.wav',\n",
              " '../data/sequence_data/per_drum/5_SD/04/SD_04_0052.wav',\n",
              " '../data/sequence_data/per_drum/5_SD/08/SD_08_0018.wav',\n",
              " '../data/sequence_data/per_drum/5_SD/04/SD_04_0056.wav',\n",
              " '../data/sequence_data/per_drum/0_CC/04/CC_04_9956.wav',\n",
              " '../data/sequence_data/per_drum/7_KK/08/KK_08_0058.wav',\n",
              " '../data/sequence_data/per_drum/5_SD/04/SD_04_0049.wav',\n",
              " '../data/sequence_data/per_drum/0_CC/04/CC_04_9990.wav',\n",
              " '../data/sequence_data/per_drum/0_CC/08/CC_08_9957.wav',\n",
              " '../data/sequence_data/per_drum/1_HH/16/HH_16_0007.wav',\n",
              " '../data/sequence_data/per_drum/1_HH/16/HH_16_0002.wav',\n",
              " '../data/sequence_data/per_drum/5_SD/16/SD_16_0023.wav',\n",
              " '../data/sequence_data/per_drum/7_KK/08/KK_08_0045.wav',\n",
              " '../data/sequence_data/per_drum/5_SD/04/SD_04_0024.wav',\n",
              " '../data/sequence_data/per_drum/5_SD/04/SD_04_0009.wav',\n",
              " '../data/sequence_data/per_drum/5_SD/04/SD_04_0020.wav',\n",
              " '../data/sequence_data/per_drum/7_KK/08/KK_08_0048.wav',\n",
              " '../data/sequence_data/per_drum/7_KK/04/KK_04_0030.wav',\n",
              " '../data/sequence_data/per_drum/5_SD/08/SD_08_0045.wav',\n",
              " '../data/sequence_data/per_drum/1_HH/04/HH_04_0006.wav',\n",
              " '../data/sequence_data/per_drum/7_KK/04/KK_04_0051.wav',\n",
              " '../data/sequence_data/per_drum/0_CC/08/CC_08_9962.wav',\n",
              " '../data/sequence_data/per_drum/1_HH/16/HH_16_0024.wav',\n",
              " '../data/sequence_data/per_drum/1_HH/08/HH_08_0020.wav',\n",
              " '../data/sequence_data/per_drum/7_KK/04/KK_04_0037.wav',\n",
              " '../data/sequence_data/per_drum/5_SD/04/SD_04_0007.wav',\n",
              " '../data/sequence_data/per_drum/5_SD/16/SD_16_0022.wav',\n",
              " '../data/sequence_data/per_drum/0_CC/08/CC_08_9985.wav',\n",
              " '../data/sequence_data/per_drum/0_CC/08/CC_08_9965.wav',\n",
              " '../data/sequence_data/per_drum/7_KK/08/KK_08_0037.wav',\n",
              " '../data/sequence_data/per_drum/5_SD/04/SD_04_0010.wav',\n",
              " '../data/sequence_data/per_drum/5_SD/16/SD_16_0001.wav',\n",
              " '../data/sequence_data/per_drum/7_KK/04/KK_04_0002.wav',\n",
              " '../data/sequence_data/per_drum/7_KK/08/KK_08_0027.wav',\n",
              " '../data/sequence_data/per_drum/1_HH/04/HH_04_0024.wav',\n",
              " '../data/sequence_data/per_drum/7_KK/04/KK_04_0045.wav',\n",
              " '../data/sequence_data/per_drum/5_SD/16/SD_16_0039.wav',\n",
              " '../data/sequence_data/per_drum/1_HH/16/HH_16_0005.wav',\n",
              " '../data/sequence_data/per_drum/5_SD/04/SD_04_0045.wav',\n",
              " '../data/sequence_data/per_drum/7_KK/04/KK_04_0009.wav',\n",
              " '../data/sequence_data/per_drum/1_HH/16/HH_16_0025.wav',\n",
              " '../data/sequence_data/per_drum/7_KK/08/KK_08_0014.wav',\n",
              " '../data/sequence_data/per_drum/1_HH/16/HH_16_0032.wav',\n",
              " '../data/sequence_data/per_drum/1_HH/04/HH_04_0047.wav',\n",
              " '../data/sequence_data/per_drum/5_SD/04/SD_04_0002.wav',\n",
              " '../data/sequence_data/per_drum/1_HH/16/HH_16_0014.wav',\n",
              " '../data/sequence_data/per_drum/0_CC/04/CC_04_9969.wav',\n",
              " '../data/sequence_data/per_drum/5_SD/08/SD_08_0038.wav',\n",
              " '../data/sequence_data/per_drum/1_HH/04/HH_04_0019.wav',\n",
              " '../data/sequence_data/per_drum/5_SD/16/SD_16_0049.wav']"
            ]
          },
          "execution_count": 5,
          "metadata": {},
          "output_type": "execute_result"
        }
      ],
      "source": [
        "import os\n",
        "import numpy as np\n",
        "import random\n",
        "\n",
        "root_path=\"../data/sequence_data/\"\n",
        "X_data_full = get_audio_paths(root_path)\n",
        "\n",
        "random.shuffle(X_data_full)\n",
        "X_data_full"
      ]
    },
    {
      "cell_type": "code",
      "execution_count": 6,
      "metadata": {},
      "outputs": [],
      "source": [
        "ONSET_DURATION = 0.1\n",
        "TIME_WIDTH = 1024\n",
        "N_FFT = 2048\n",
        "HOP_LENGTH = 512\n",
        "WIN_LENGTH = 2048"
      ]
    },
    {
      "cell_type": "code",
      "execution_count": 7,
      "metadata": {},
      "outputs": [],
      "source": [
        "import librosa\n",
        "import numpy as np\n",
        "\n",
        "def data_labeling(datas):\n",
        "  X_data = []\n",
        "  Y_data = []\n",
        "\n",
        "  # data load\n",
        "  for path in datas:\n",
        "    # load audio wav array\n",
        "    audio, sr = librosa.load(path, sr=SR)\n",
        "    print(path)\n",
        "    file_name = path[-14:]\n",
        "    file_name = file_name[:-4]\n",
        "    print(file_name)\n",
        "\n",
        "    # translate STFT\n",
        "    stft = librosa.stft(y=audio, n_fft=N_FFT, hop_length=HOP_LENGTH, win_length=WIN_LENGTH, window='hann')\n",
        "    stft = np.abs(stft, dtype=np.float64)\n",
        "    if stft.shape[1] < TIME_WIDTH:\n",
        "      stft_new = np.pad(stft, pad_width=((0,0), (0, TIME_WIDTH - stft.shape[1])), mode='constant')\n",
        "    else:\n",
        "      stft_new = stft[:, :TIME_WIDTH]\n",
        "    stft_new = np.transpose(stft_new)\n",
        "    X_data.append(stft_new)\n",
        "\n",
        "    # onset detection & labeling\n",
        "    # onset position : 1\n",
        "    # onset position with ONSET_DURATION : 0.5\n",
        "    # extra : 0\n",
        "    onsets_arr = onset_detect(path)\n",
        "    labels = [[0.0] * len(code2drum) for _ in range(TIME_WIDTH)]\n",
        "    pattern_idx = 0\n",
        "    for onset in onsets_arr:\n",
        "      soft_start_position = max((onset - ONSET_DURATION), 0) * SR / HOP_LENGTH\n",
        "      onset_position = onset * SR / HOP_LENGTH\n",
        "      soft_end_position = (onset + ONSET_DURATION) * SR / HOP_LENGTH\n",
        "      if any(drum in file_name for idx, drum in code2drum.items()): # per drum\n",
        "        one_hot_label = onehot_drum2code[file_name[:2]]\n",
        "      else: # pattern\n",
        "        pattern_name = file_name[:2] # -- P1\n",
        "        one_hot_label = pattern2code[pattern_name][pattern_idx]\n",
        "        pattern_idx += 1\n",
        "      for i in range((int)(soft_start_position), (int)(soft_end_position)):\n",
        "        if (np.array(labels[i]) == np.array(one_hot_label)).all():\n",
        "          continue\n",
        "        labels[i] = np.array(one_hot_label) / 2\n",
        "      labels[(int)(onset_position)] = one_hot_label\n",
        "\n",
        "\n",
        "    Y_data.append(labels)\n",
        "\n",
        "  return np.array(X_data), np.array(Y_data)"
      ]
    },
    {
      "cell_type": "code",
      "execution_count": 8,
      "metadata": {},
      "outputs": [
        {
          "data": {
            "text/plain": [
              "588"
            ]
          },
          "execution_count": 8,
          "metadata": {},
          "output_type": "execute_result"
        }
      ],
      "source": [
        "len(X_data_full)"
      ]
    },
    {
      "cell_type": "code",
      "execution_count": 9,
      "metadata": {},
      "outputs": [
        {
          "name": "stdout",
          "output_type": "stream",
          "text": [
            "../data/sequence_data/per_drum/0_CC/04/CC_04_9998.wav\n",
            "CC_04_9998\n",
            "../data/sequence_data/per_drum/1_HH/04/HH_04_0040.wav\n",
            "HH_04_0040\n",
            "../data/sequence_data/per_drum/0_CC/04/CC_04_9958.wav\n",
            "CC_04_9958\n",
            "../data/sequence_data/pattern/P1/08/P1_08_0013.wav\n",
            "P1_08_0013\n",
            "../data/sequence_data/per_drum/5_SD/08/SD_08_0014.wav\n",
            "SD_08_0014\n",
            "../data/sequence_data/per_drum/5_SD/16/SD_16_0008.wav\n",
            "SD_16_0008\n",
            "../data/sequence_data/per_drum/5_SD/08/SD_08_0043.wav\n",
            "SD_08_0043\n",
            "../data/sequence_data/per_drum/5_SD/04/SD_04_0030.wav\n",
            "SD_04_0030\n",
            "../data/sequence_data/per_drum/1_HH/16/HH_16_0011.wav\n",
            "HH_16_0011\n",
            "../data/sequence_data/per_drum/7_KK/08/KK_08_0004.wav\n",
            "KK_08_0004\n",
            "../data/sequence_data/per_drum/5_SD/08/SD_08_0035.wav\n",
            "SD_08_0035\n",
            "../data/sequence_data/per_drum/0_CC/04/CC_04_9981.wav\n",
            "CC_04_9981\n",
            "../data/sequence_data/per_drum/0_CC/08/CC_08_9967.wav\n",
            "CC_08_9967\n",
            "../data/sequence_data/per_drum/1_HH/16/HH_16_0060.wav\n",
            "HH_16_0060\n",
            "../data/sequence_data/per_drum/7_KK/04/KK_04_0044.wav\n",
            "KK_04_0044\n",
            "../data/sequence_data/per_drum/7_KK/04/KK_04_0025.wav\n",
            "KK_04_0025\n",
            "../data/sequence_data/per_drum/1_HH/04/HH_04_0028.wav\n",
            "HH_04_0028\n",
            "../data/sequence_data/per_drum/5_SD/08/SD_08_0033.wav\n",
            "SD_08_0033\n",
            "../data/sequence_data/per_drum/1_HH/04/HH_04_0025.wav\n",
            "HH_04_0025\n",
            "../data/sequence_data/per_drum/0_CC/04/CC_04_9954.wav\n",
            "CC_04_9954\n",
            "../data/sequence_data/per_drum/7_KK/08/KK_08_0025.wav\n",
            "KK_08_0025\n",
            "../data/sequence_data/per_drum/7_KK/04/KK_04_0011.wav\n",
            "KK_04_0011\n",
            "../data/sequence_data/per_drum/7_KK/04/KK_04_0006.wav\n",
            "KK_04_0006\n",
            "../data/sequence_data/per_drum/5_SD/08/SD_08_0017.wav\n",
            "SD_08_0017\n",
            "../data/sequence_data/per_drum/5_SD/16/SD_16_0030.wav\n",
            "SD_16_0030\n",
            "../data/sequence_data/per_drum/0_CC/04/CC_04_9993.wav\n",
            "CC_04_9993\n",
            "../data/sequence_data/per_drum/7_KK/04/KK_04_0056.wav\n",
            "KK_04_0056\n",
            "../data/sequence_data/pattern/P1/08/P1_08_0023.wav\n",
            "P1_08_0023\n",
            "../data/sequence_data/per_drum/7_KK/04/KK_04_0049.wav\n",
            "KK_04_0049\n",
            "../data/sequence_data/per_drum/1_HH/16/HH_16_0030.wav\n",
            "HH_16_0030\n",
            "../data/sequence_data/per_drum/7_KK/08/KK_08_0032.wav\n",
            "KK_08_0032\n",
            "../data/sequence_data/per_drum/0_CC/08/CC_08_9974.wav\n",
            "CC_08_9974\n",
            "../data/sequence_data/per_drum/1_HH/16/HH_16_0036.wav\n",
            "HH_16_0036\n",
            "../data/sequence_data/per_drum/7_KK/08/KK_08_0040.wav\n",
            "KK_08_0040\n",
            "../data/sequence_data/per_drum/5_SD/16/SD_16_0043.wav\n",
            "SD_16_0043\n",
            "../data/sequence_data/per_drum/5_SD/16/SD_16_0047.wav\n",
            "SD_16_0047\n",
            "../data/sequence_data/per_drum/0_CC/08/CC_08_9970.wav\n",
            "CC_08_9970\n",
            "../data/sequence_data/per_drum/7_KK/04/KK_04_0035.wav\n",
            "KK_04_0035\n",
            "../data/sequence_data/per_drum/7_KK/04/KK_04_0058.wav\n",
            "KK_04_0058\n",
            "../data/sequence_data/pattern/P1/08/P1_08_0008.wav\n",
            "P1_08_0008\n",
            "../data/sequence_data/per_drum/0_CC/08/CC_08_9956.wav\n",
            "CC_08_9956\n",
            "../data/sequence_data/per_drum/1_HH/08/HH_08_0023.wav\n",
            "HH_08_0023\n",
            "../data/sequence_data/per_drum/5_SD/16/SD_16_0037.wav\n",
            "SD_16_0037\n",
            "../data/sequence_data/per_drum/5_SD/04/SD_04_0041.wav\n",
            "SD_04_0041\n",
            "../data/sequence_data/per_drum/1_HH/08/HH_08_0013.wav\n",
            "HH_08_0013\n",
            "../data/sequence_data/per_drum/7_KK/04/KK_04_0047.wav\n",
            "KK_04_0047\n",
            "../data/sequence_data/per_drum/0_CC/08/CC_08_9979.wav\n",
            "CC_08_9979\n",
            "../data/sequence_data/per_drum/1_HH/04/HH_04_0046.wav\n",
            "HH_04_0046\n",
            "../data/sequence_data/per_drum/7_KK/04/KK_04_0016.wav\n",
            "KK_04_0016\n",
            "../data/sequence_data/per_drum/1_HH/08/HH_08_0030.wav\n",
            "HH_08_0030\n",
            "../data/sequence_data/per_drum/7_KK/08/KK_08_0056.wav\n",
            "KK_08_0056\n",
            "../data/sequence_data/per_drum/7_KK/08/KK_08_0053.wav\n",
            "KK_08_0053\n",
            "../data/sequence_data/per_drum/5_SD/08/SD_08_0009.wav\n",
            "SD_08_0009\n",
            "../data/sequence_data/per_drum/5_SD/04/SD_04_0006.wav\n",
            "SD_04_0006\n",
            "../data/sequence_data/per_drum/0_CC/08/CC_08_9988.wav\n",
            "CC_08_9988\n",
            "../data/sequence_data/per_drum/0_CC/04/CC_04_9970.wav\n",
            "CC_04_9970\n",
            "../data/sequence_data/per_drum/5_SD/04/SD_04_0022.wav\n",
            "SD_04_0022\n",
            "../data/sequence_data/per_drum/0_CC/04/CC_04_9989.wav\n",
            "CC_04_9989\n",
            "../data/sequence_data/per_drum/7_KK/08/KK_08_0035.wav\n",
            "KK_08_0035\n",
            "../data/sequence_data/per_drum/7_KK/04/KK_04_0012.wav\n",
            "KK_04_0012\n",
            "../data/sequence_data/per_drum/7_KK/08/KK_08_0062.wav\n",
            "KK_08_0062\n",
            "../data/sequence_data/per_drum/7_KK/08/KK_08_0034.wav\n",
            "KK_08_0034\n",
            "../data/sequence_data/per_drum/5_SD/08/SD_08_0027.wav\n",
            "SD_08_0027\n",
            "../data/sequence_data/per_drum/1_HH/04/HH_04_0045.wav\n",
            "HH_04_0045\n",
            "../data/sequence_data/per_drum/1_HH/04/HH_04_0008.wav\n",
            "HH_04_0008\n",
            "../data/sequence_data/per_drum/7_KK/08/KK_08_0026.wav\n",
            "KK_08_0026\n",
            "../data/sequence_data/per_drum/0_CC/08/CC_08_9984.wav\n",
            "CC_08_9984\n",
            "../data/sequence_data/per_drum/5_SD/04/SD_04_0058.wav\n",
            "SD_04_0058\n",
            "../data/sequence_data/per_drum/5_SD/08/SD_08_0012.wav\n",
            "SD_08_0012\n",
            "../data/sequence_data/per_drum/1_HH/08/HH_08_0007.wav\n",
            "HH_08_0007\n",
            "../data/sequence_data/per_drum/0_CC/08/CC_08_9996.wav\n",
            "CC_08_9996\n",
            "../data/sequence_data/per_drum/5_SD/16/SD_16_0027.wav\n",
            "SD_16_0027\n",
            "../data/sequence_data/per_drum/7_KK/08/KK_08_0005.wav\n",
            "KK_08_0005\n",
            "../data/sequence_data/per_drum/5_SD/04/SD_04_0040.wav\n",
            "SD_04_0040\n",
            "../data/sequence_data/pattern/P1/08/P1_08_0028.wav\n",
            "P1_08_0028\n",
            "../data/sequence_data/per_drum/0_CC/08/CC_08_9980.wav\n",
            "CC_08_9980\n",
            "../data/sequence_data/per_drum/0_CC/04/CC_04_9979.wav\n",
            "CC_04_9979\n",
            "../data/sequence_data/per_drum/5_SD/16/SD_16_0009.wav\n",
            "SD_16_0009\n",
            "../data/sequence_data/per_drum/7_KK/04/KK_04_0020.wav\n",
            "KK_04_0020\n",
            "../data/sequence_data/pattern/P1/08/P1_08_0005.wav\n",
            "P1_08_0005\n",
            "../data/sequence_data/per_drum/7_KK/08/KK_08_0018.wav\n",
            "KK_08_0018\n",
            "../data/sequence_data/per_drum/5_SD/04/SD_04_0012.wav\n",
            "SD_04_0012\n",
            "../data/sequence_data/per_drum/1_HH/08/HH_08_0011.wav\n",
            "HH_08_0011\n",
            "../data/sequence_data/per_drum/7_KK/08/KK_08_0021.wav\n",
            "KK_08_0021\n",
            "../data/sequence_data/pattern/P1/08/P1_08_0001.wav\n",
            "P1_08_0001\n",
            "../data/sequence_data/per_drum/1_HH/08/HH_08_0055.wav\n",
            "HH_08_0055\n",
            "../data/sequence_data/per_drum/1_HH/16/HH_16_0031.wav\n",
            "HH_16_0031\n",
            "../data/sequence_data/per_drum/1_HH/04/HH_04_0012.wav\n",
            "HH_04_0012\n",
            "../data/sequence_data/per_drum/7_KK/04/KK_04_0019.wav\n",
            "KK_04_0019\n",
            "../data/sequence_data/per_drum/0_CC/04/CC_04_9972.wav\n",
            "CC_04_9972\n",
            "../data/sequence_data/per_drum/0_CC/04/CC_04_9971.wav\n",
            "CC_04_9971\n",
            "../data/sequence_data/per_drum/5_SD/08/SD_08_0032.wav\n",
            "SD_08_0032\n",
            "../data/sequence_data/per_drum/5_SD/04/SD_04_0033.wav\n",
            "SD_04_0033\n",
            "../data/sequence_data/per_drum/5_SD/04/SD_04_0003.wav\n",
            "SD_04_0003\n",
            "../data/sequence_data/per_drum/1_HH/16/HH_16_0055.wav\n",
            "HH_16_0055\n",
            "../data/sequence_data/per_drum/0_CC/04/CC_04_9963.wav\n",
            "CC_04_9963\n",
            "../data/sequence_data/per_drum/1_HH/16/HH_16_0057.wav\n",
            "HH_16_0057\n",
            "../data/sequence_data/per_drum/7_KK/08/KK_08_0015.wav\n",
            "KK_08_0015\n",
            "../data/sequence_data/per_drum/1_HH/04/HH_04_0022.wav\n",
            "HH_04_0022\n",
            "../data/sequence_data/per_drum/7_KK/08/KK_08_0007.wav\n",
            "KK_08_0007\n",
            "../data/sequence_data/per_drum/5_SD/16/SD_16_0006.wav\n",
            "SD_16_0006\n",
            "../data/sequence_data/per_drum/1_HH/08/HH_08_0001.wav\n",
            "HH_08_0001\n",
            "../data/sequence_data/per_drum/7_KK/08/KK_08_0055.wav\n",
            "KK_08_0055\n",
            "../data/sequence_data/per_drum/7_KK/04/KK_04_0008.wav\n",
            "KK_04_0008\n",
            "../data/sequence_data/per_drum/0_CC/04/CC_04_9999.wav\n",
            "CC_04_9999\n",
            "../data/sequence_data/per_drum/1_HH/08/HH_08_0044.wav\n",
            "HH_08_0044\n",
            "../data/sequence_data/per_drum/0_CC/08/CC_08_9981.wav\n",
            "CC_08_9981\n",
            "../data/sequence_data/per_drum/5_SD/08/SD_08_0041.wav\n",
            "SD_08_0041\n",
            "../data/sequence_data/per_drum/1_HH/08/HH_08_0049.wav\n",
            "HH_08_0049\n",
            "../data/sequence_data/per_drum/5_SD/08/SD_08_0026.wav\n",
            "SD_08_0026\n",
            "../data/sequence_data/per_drum/5_SD/16/SD_16_0034.wav\n",
            "SD_16_0034\n",
            "../data/sequence_data/per_drum/1_HH/16/HH_16_0058.wav\n",
            "HH_16_0058\n",
            "../data/sequence_data/pattern/P1/08/P1_08_0024.wav\n",
            "P1_08_0024\n",
            "../data/sequence_data/per_drum/0_CC/08/CC_08_9961.wav\n",
            "CC_08_9961\n",
            "../data/sequence_data/per_drum/5_SD/16/SD_16_0045.wav\n",
            "SD_16_0045\n",
            "../data/sequence_data/per_drum/1_HH/16/HH_16_0050.wav\n",
            "HH_16_0050\n",
            "../data/sequence_data/per_drum/1_HH/04/HH_04_0029.wav\n",
            "HH_04_0029\n",
            "../data/sequence_data/per_drum/0_CC/08/CC_08_9966.wav\n",
            "CC_08_9966\n",
            "../data/sequence_data/per_drum/1_HH/16/HH_16_0017.wav\n",
            "HH_16_0017\n",
            "../data/sequence_data/pattern/P1/08/P1_08_0019.wav\n",
            "P1_08_0019\n",
            "../data/sequence_data/per_drum/0_CC/08/CC_08_9959.wav\n",
            "CC_08_9959\n",
            "../data/sequence_data/per_drum/7_KK/04/KK_04_0001.wav\n",
            "KK_04_0001\n",
            "../data/sequence_data/pattern/P1/08/P1_08_0018.wav\n",
            "P1_08_0018\n",
            "../data/sequence_data/per_drum/1_HH/16/HH_16_0033.wav\n",
            "HH_16_0033\n",
            "../data/sequence_data/per_drum/0_CC/08/CC_08_9978.wav\n",
            "CC_08_9978\n",
            "../data/sequence_data/per_drum/1_HH/08/HH_08_0052.wav\n",
            "HH_08_0052\n",
            "../data/sequence_data/per_drum/1_HH/16/HH_16_0003.wav\n",
            "HH_16_0003\n",
            "../data/sequence_data/per_drum/7_KK/08/KK_08_0046.wav\n",
            "KK_08_0046\n",
            "../data/sequence_data/per_drum/5_SD/08/SD_08_0039.wav\n",
            "SD_08_0039\n",
            "../data/sequence_data/pattern/P1/08/P1_08_0002.wav\n",
            "P1_08_0002\n",
            "../data/sequence_data/per_drum/5_SD/16/SD_16_0020.wav\n",
            "SD_16_0020\n",
            "../data/sequence_data/per_drum/1_HH/08/HH_08_0046.wav\n",
            "HH_08_0046\n",
            "../data/sequence_data/per_drum/7_KK/08/KK_08_0016.wav\n",
            "KK_08_0016\n",
            "../data/sequence_data/per_drum/1_HH/16/HH_16_0029.wav\n",
            "HH_16_0029\n",
            "../data/sequence_data/per_drum/5_SD/04/SD_04_0035.wav\n",
            "SD_04_0035\n",
            "../data/sequence_data/per_drum/7_KK/08/KK_08_0019.wav\n",
            "KK_08_0019\n",
            "../data/sequence_data/per_drum/1_HH/04/HH_04_0014.wav\n",
            "HH_04_0014\n",
            "../data/sequence_data/per_drum/7_KK/04/KK_04_0059.wav\n",
            "KK_04_0059\n",
            "../data/sequence_data/pattern/P1/08/P1_08_0027.wav\n",
            "P1_08_0027\n",
            "../data/sequence_data/per_drum/5_SD/16/SD_16_0032.wav\n",
            "SD_16_0032\n",
            "../data/sequence_data/per_drum/1_HH/04/HH_04_0039.wav\n",
            "HH_04_0039\n",
            "../data/sequence_data/per_drum/0_CC/08/CC_08_9987.wav\n",
            "CC_08_9987\n",
            "../data/sequence_data/per_drum/5_SD/16/SD_16_0016.wav\n",
            "SD_16_0016\n",
            "../data/sequence_data/per_drum/5_SD/04/SD_04_0036.wav\n",
            "SD_04_0036\n",
            "../data/sequence_data/per_drum/7_KK/04/KK_04_0031.wav\n",
            "KK_04_0031\n",
            "../data/sequence_data/per_drum/7_KK/04/KK_04_0057.wav\n",
            "KK_04_0057\n",
            "../data/sequence_data/per_drum/5_SD/16/SD_16_0024.wav\n",
            "SD_16_0024\n",
            "../data/sequence_data/per_drum/5_SD/08/SD_08_0052.wav\n",
            "SD_08_0052\n",
            "../data/sequence_data/per_drum/1_HH/08/HH_08_0038.wav\n",
            "HH_08_0038\n",
            "../data/sequence_data/per_drum/5_SD/16/SD_16_0019.wav\n",
            "SD_16_0019\n",
            "../data/sequence_data/per_drum/1_HH/16/HH_16_0047.wav\n",
            "HH_16_0047\n",
            "../data/sequence_data/per_drum/1_HH/08/HH_08_0033.wav\n",
            "HH_08_0033\n",
            "../data/sequence_data/per_drum/1_HH/16/HH_16_0034.wav\n",
            "HH_16_0034\n",
            "../data/sequence_data/per_drum/1_HH/04/HH_04_0018.wav\n",
            "HH_04_0018\n",
            "../data/sequence_data/per_drum/7_KK/04/KK_04_0052.wav\n",
            "KK_04_0052\n",
            "../data/sequence_data/per_drum/1_HH/04/HH_04_0001.wav\n",
            "HH_04_0001\n",
            "../data/sequence_data/per_drum/0_CC/04/CC_04_9992.wav\n",
            "CC_04_9992\n",
            "../data/sequence_data/per_drum/1_HH/04/HH_04_0038.wav\n",
            "HH_04_0038\n",
            "../data/sequence_data/per_drum/7_KK/08/KK_08_0054.wav\n",
            "KK_08_0054\n",
            "../data/sequence_data/per_drum/1_HH/16/HH_16_0004.wav\n",
            "HH_16_0004\n",
            "../data/sequence_data/per_drum/7_KK/04/KK_04_0028.wav\n",
            "KK_04_0028\n",
            "../data/sequence_data/per_drum/7_KK/08/KK_08_0013.wav\n",
            "KK_08_0013\n",
            "../data/sequence_data/per_drum/1_HH/04/HH_04_0034.wav\n",
            "HH_04_0034\n",
            "../data/sequence_data/per_drum/7_KK/04/KK_04_0055.wav\n",
            "KK_04_0055\n",
            "../data/sequence_data/per_drum/0_CC/08/CC_08_9990.wav\n",
            "CC_08_9990\n",
            "../data/sequence_data/per_drum/7_KK/04/KK_04_0036.wav\n",
            "KK_04_0036\n",
            "../data/sequence_data/per_drum/5_SD/04/SD_04_0017.wav\n",
            "SD_04_0017\n",
            "../data/sequence_data/per_drum/5_SD/04/SD_04_0016.wav\n",
            "SD_04_0016\n",
            "../data/sequence_data/per_drum/5_SD/04/SD_04_0004.wav\n",
            "SD_04_0004\n",
            "../data/sequence_data/per_drum/7_KK/04/KK_04_0010.wav\n",
            "KK_04_0010\n",
            "../data/sequence_data/per_drum/1_HH/16/HH_16_0051.wav\n",
            "HH_16_0051\n",
            "../data/sequence_data/per_drum/7_KK/08/KK_08_0030.wav\n",
            "KK_08_0030\n",
            "../data/sequence_data/per_drum/5_SD/08/SD_08_0004.wav\n",
            "SD_08_0004\n",
            "../data/sequence_data/per_drum/0_CC/08/CC_08_9986.wav\n",
            "CC_08_9986\n",
            "../data/sequence_data/per_drum/7_KK/04/KK_04_0024.wav\n",
            "KK_04_0024\n",
            "../data/sequence_data/per_drum/5_SD/08/SD_08_0042.wav\n",
            "SD_08_0042\n",
            "../data/sequence_data/per_drum/1_HH/08/HH_08_0035.wav\n",
            "HH_08_0035\n",
            "../data/sequence_data/per_drum/7_KK/08/KK_08_0033.wav\n",
            "KK_08_0033\n",
            "../data/sequence_data/per_drum/0_CC/08/CC_08_9976.wav\n",
            "CC_08_9976\n",
            "../data/sequence_data/pattern/P1/08/P1_08_0020.wav\n",
            "P1_08_0020\n",
            "../data/sequence_data/per_drum/7_KK/04/KK_04_0050.wav\n",
            "KK_04_0050\n",
            "../data/sequence_data/per_drum/5_SD/04/SD_04_0046.wav\n",
            "SD_04_0046\n",
            "../data/sequence_data/per_drum/5_SD/04/SD_04_0001.wav\n",
            "SD_04_0001\n",
            "../data/sequence_data/per_drum/1_HH/16/HH_16_0001.wav\n",
            "HH_16_0001\n",
            "../data/sequence_data/per_drum/7_KK/08/KK_08_0012.wav\n",
            "KK_08_0012\n",
            "../data/sequence_data/per_drum/1_HH/16/HH_16_0040.wav\n",
            "HH_16_0040\n",
            "../data/sequence_data/per_drum/1_HH/16/HH_16_0028.wav\n",
            "HH_16_0028\n",
            "../data/sequence_data/per_drum/0_CC/04/CC_04_9984.wav\n",
            "CC_04_9984\n",
            "../data/sequence_data/per_drum/5_SD/04/SD_04_0031.wav\n",
            "SD_04_0031\n",
            "../data/sequence_data/per_drum/1_HH/08/HH_08_0019.wav\n",
            "HH_08_0019\n",
            "../data/sequence_data/per_drum/0_CC/04/CC_04_9965.wav\n",
            "CC_04_9965\n",
            "../data/sequence_data/per_drum/7_KK/08/KK_08_0043.wav\n",
            "KK_08_0043\n",
            "../data/sequence_data/per_drum/5_SD/08/SD_08_0031.wav\n",
            "SD_08_0031\n",
            "../data/sequence_data/per_drum/5_SD/04/SD_04_0050.wav\n",
            "SD_04_0050\n",
            "../data/sequence_data/per_drum/5_SD/08/SD_08_0048.wav\n",
            "SD_08_0048\n",
            "../data/sequence_data/per_drum/1_HH/16/HH_16_0041.wav\n",
            "HH_16_0041\n",
            "../data/sequence_data/per_drum/1_HH/08/HH_08_0016.wav\n",
            "HH_08_0016\n",
            "../data/sequence_data/per_drum/1_HH/04/HH_04_0043.wav\n",
            "HH_04_0043\n",
            "../data/sequence_data/per_drum/0_CC/04/CC_04_9974.wav\n",
            "CC_04_9974\n",
            "../data/sequence_data/pattern/P1/08/P1_08_0010.wav\n",
            "P1_08_0010\n"
          ]
        }
      ],
      "source": [
        "X_data, Y_data = data_labeling(X_data_full[:200])"
      ]
    },
    {
      "cell_type": "code",
      "execution_count": 10,
      "metadata": {},
      "outputs": [
        {
          "data": {
            "text/plain": [
              "((200, 1024, 1025), (200, 1024, 8))"
            ]
          },
          "execution_count": 10,
          "metadata": {},
          "output_type": "execute_result"
        }
      ],
      "source": [
        "X_data.shape, Y_data.shape"
      ]
    },
    {
      "cell_type": "markdown",
      "metadata": {},
      "source": [
        "### 라벨링 확인"
      ]
    },
    {
      "cell_type": "code",
      "execution_count": null,
      "metadata": {},
      "outputs": [],
      "source": [
        "Y_data"
      ]
    },
    {
      "cell_type": "code",
      "execution_count": 13,
      "metadata": {},
      "outputs": [
        {
          "data": {
            "image/png": "[encoded data removed]",
            "text/plain": [
              "<Figure size 640x480 with 8 Axes>"
            ]
          },
          "metadata": {},
          "output_type": "display_data"
        }
      ],
      "source": [
        "import matplotlib.pyplot as plt\n",
        "\n",
        "num = 0\n",
        "Y_data[num]\n",
        "for i in range(len(code2drum)):\n",
        "    plt.subplot(8,1,i+1)\n",
        "    plt.plot(Y_data[num,:,i])\n",
        "plt.title('Model label')\n",
        "plt.show()"
      ]
    },
    {
      "cell_type": "markdown",
      "metadata": {},
      "source": [
        "### 데이터셋 분리"
      ]
    },
    {
      "cell_type": "code",
      "execution_count": 14,
      "metadata": {},
      "outputs": [
        {
          "data": {
            "text/plain": [
              "((160, 1024, 1025), (160, 1024, 8))"
            ]
          },
          "execution_count": 14,
          "metadata": {},
          "output_type": "execute_result"
        }
      ],
      "source": [
        "# split train & test dataset\n",
        "test_cnt = (int)(X_data.shape[0] * 0.2)\n",
        "\n",
        "X_train, Y_train = X_data[:-test_cnt], Y_data[:-test_cnt]\n",
        "X_test, Y_test = X_data[-test_cnt:], Y_data[-test_cnt:]\n",
        "\n",
        "X_train.shape, Y_train.shape"
      ]
    },
    {
      "cell_type": "markdown",
      "metadata": {
        "id": "g-Jk8HP1mluF"
      },
      "source": [
        "# RNN 모델"
      ]
    },
    {
      "cell_type": "markdown",
      "metadata": {},
      "source": [
        "## 악기 모두 한 번에 분류"
      ]
    },
    {
      "cell_type": "code",
      "execution_count": null,
      "metadata": {},
      "outputs": [],
      "source": [
        "import tensorflow as tf\n",
        "\n",
        "# build the model\n",
        "model = tf.keras.Sequential()\n",
        "\n",
        "# bidirection-RNN layer\n",
        "unit_number = 50\n",
        "model.add(tf.keras.layers.Bidirectional(tf.keras.layers.SimpleRNN(unit_number, return_sequences=True, input_shape=(TIME_WIDTH, N_FFT // 2 + 1), activation='relu')))\n",
        "model.add(tf.keras.layers.Bidirectional(tf.keras.layers.SimpleRNN(unit_number, return_sequences=True, activation='relu')))\n",
        "model.add(tf.keras.layers.Bidirectional(tf.keras.layers.SimpleRNN(unit_number, return_sequences=True, activation='relu')))\n",
        "\n",
        "# Flatten layer\n",
        "model.add(tf.keras.layers.Flatten())\n",
        "\n",
        "# dense layer\n",
        "model.add(tf.keras.layers.Dense(TIME_WIDTH * len(code2drum), activation='sigmoid'))\n",
        "\n",
        "model.build((None, TIME_WIDTH, N_FFT // 2 + 1))\n",
        "model.summary()"
      ]
    },
    {
      "cell_type": "code",
      "execution_count": null,
      "metadata": {},
      "outputs": [],
      "source": [
        "# compile the model\n",
        "opt = tf.keras.optimizers.SGD(learning_rate=0.01, momentum=0.9)\n",
        "model.compile(loss='binary_crossentropy', optimizer=opt, metrics=['accuracy'])"
      ]
    },
    {
      "cell_type": "code",
      "execution_count": null,
      "metadata": {},
      "outputs": [],
      "source": [
        "# train the model\n",
        "history = model.fit(X_train, Y_train, epochs=20)"
      ]
    },
    {
      "cell_type": "code",
      "execution_count": null,
      "metadata": {},
      "outputs": [],
      "source": [
        "loss, accuracy = model.evaluate(X_test, Y_test)"
      ]
    },
    {
      "cell_type": "code",
      "execution_count": null,
      "metadata": {},
      "outputs": [],
      "source": [
        "import matplotlib.pyplot as plt\n",
        "\n",
        "num = 0\n",
        "X_predict = X_test[num].reshape((1, X_test[num].shape[0], X_test[num].shape[1]))\n",
        "print(X_predict.shape)\n",
        "prediction = model.predict(X_predict)\n",
        "\n",
        "print(prediction)\n",
        "\n",
        "predicted = prediction[0].reshape((TIME_WIDTH, len(code2drum)))\n",
        "\n",
        "for i in range(len(code2drum)):\n",
        "    plt.subplot(8,1,i+1)\n",
        "    plt.plot(predicted[num,:,i])\n",
        "plt.title('Model prediction result')\n",
        "plt.show()"
      ]
    },
    {
      "cell_type": "markdown",
      "metadata": {},
      "source": [
        "## crash"
      ]
    },
    {
      "cell_type": "code",
      "execution_count": 28,
      "metadata": {
        "colab": {
          "base_uri": "https://localhost:8080/"
        },
        "id": "Spqrgng2mnLL",
        "outputId": "e12f67a4-fe03-45b4-b54b-4363a91ef498"
      },
      "outputs": [
        {
          "name": "stdout",
          "output_type": "stream",
          "text": [
            "Model: \"sequential_1\"\n",
            "_________________________________________________________________\n",
            " Layer (type)                Output Shape              Param #   \n",
            "=================================================================\n",
            " bidirectional_3 (Bidirecti  (None, 1024, 100)         107600    \n",
            " onal)                                                           \n",
            "                                                                 \n",
            " bidirectional_4 (Bidirecti  (None, 1024, 100)         15100     \n",
            " onal)                                                           \n",
            "                                                                 \n",
            " bidirectional_5 (Bidirecti  (None, 1024, 100)         15100     \n",
            " onal)                                                           \n",
            "                                                                 \n",
            " flatten_1 (Flatten)         (None, 102400)            0         \n",
            "                                                                 \n",
            " dense_1 (Dense)             (None, 1024)              104858624 \n",
            "                                                                 \n",
            "=================================================================\n",
            "Total params: 104996424 (400.53 MB)\n",
            "Trainable params: 104996424 (400.53 MB)\n",
            "Non-trainable params: 0 (0.00 Byte)\n",
            "_________________________________________________________________\n"
          ]
        }
      ],
      "source": [
        "import tensorflow as tf\n",
        "\n",
        "# build the model\n",
        "model_cc = tf.keras.Sequential()\n",
        "\n",
        "# bidirection-RNN layer\n",
        "model_cc.add(tf.keras.layers.Bidirectional(tf.keras.layers.SimpleRNN(50, return_sequences=True, input_shape=(TIME_WIDTH, N_FFT // 2 + 1), activation='relu')))\n",
        "model_cc.add(tf.keras.layers.Bidirectional(tf.keras.layers.SimpleRNN(50, return_sequences=True, activation='relu')))\n",
        "model_cc.add(tf.keras.layers.Bidirectional(tf.keras.layers.SimpleRNN(50, return_sequences=True, activation='relu')))\n",
        "\n",
        "# Flatten layer\n",
        "model_cc.add(tf.keras.layers.Flatten())\n",
        "\n",
        "# dense layer\n",
        "model_cc.add(tf.keras.layers.Dense(TIME_WIDTH, activation='sigmoid'))\n",
        "\n",
        "model_cc.build((None, TIME_WIDTH, N_FFT // 2 + 1))\n",
        "model_cc.summary()\n"
      ]
    },
    {
      "cell_type": "code",
      "execution_count": 29,
      "metadata": {
        "id": "O8gAXiJNw-ij"
      },
      "outputs": [],
      "source": [
        "# compile the model_cc\n",
        "opt_cc = tf.keras.optimizers.SGD(learning_rate=0.01, momentum=0.9)\n",
        "model_cc.compile(loss='binary_crossentropy', optimizer=opt_cc, metrics=['accuracy'])"
      ]
    },
    {
      "cell_type": "code",
      "execution_count": null,
      "metadata": {
        "colab": {
          "base_uri": "https://localhost:8080/"
        },
        "id": "-Gv1XFFMxNJC",
        "outputId": "df47e484-39f2-4200-c346-bc4a2fc60382"
      },
      "outputs": [],
      "source": [
        "# train the model_cc\n",
        "history_cc = model_cc.fit(X_train, Y_train, epochs=20)"
      ]
    },
    {
      "cell_type": "code",
      "execution_count": 14,
      "metadata": {
        "colab": {
          "base_uri": "https://localhost:8080/",
          "height": 472
        },
        "id": "EtsvUGS1xO7A",
        "outputId": "6ef73a34-b07c-4311-e8c5-0309e3333450"
      },
      "outputs": [
        {
          "data": {
            "image/png": "[encoded data removed]",
            "text/plain": [
              "<Figure size 640x480 with 1 Axes>"
            ]
          },
          "metadata": {},
          "output_type": "display_data"
        }
      ],
      "source": [
        "import matplotlib.pyplot as plt\n",
        "\n",
        "# plot the loss results\n",
        "plt.plot(history_cc.history['loss'])\n",
        "plt.title('Model Loss')\n",
        "plt.ylabel('Loss')\n",
        "plt.xlabel('Epoch')\n",
        "plt.show()"
      ]
    },
    {
      "cell_type": "code",
      "execution_count": 15,
      "metadata": {
        "colab": {
          "base_uri": "https://localhost:8080/",
          "height": 472
        },
        "id": "G7ub96Hhxdnb",
        "outputId": "e729d16c-222b-4d6a-936d-d07000b4621e"
      },
      "outputs": [
        {
          "data": {
            "image/png": "[encoded data removed]",
            "text/plain": [
              "<Figure size 640x480 with 1 Axes>"
            ]
          },
          "metadata": {},
          "output_type": "display_data"
        }
      ],
      "source": [
        "# plot the accuracy results\n",
        "plt.plot(history_cc.history['accuracy'])\n",
        "plt.title('Model accuracy')\n",
        "plt.ylabel('Accuracy')\n",
        "plt.xlabel('Epoch')\n",
        "plt.show()"
      ]
    },
    {
      "cell_type": "code",
      "execution_count": 16,
      "metadata": {
        "colab": {
          "base_uri": "https://localhost:8080/"
        },
        "id": "BazEbg4e9FD5",
        "outputId": "30e171e4-e262-4ceb-d604-9dc15eecedab"
      },
      "outputs": [
        {
          "name": "stdout",
          "output_type": "stream",
          "text": [
            "1/1 [==============================] - 2s 2s/step - loss: 0.0433 - accuracy: 0.9000\n"
          ]
        }
      ],
      "source": [
        "loss, accuracy = model_cc.evaluate(X_test, Y_test)"
      ]
    },
    {
      "cell_type": "code",
      "execution_count": 17,
      "metadata": {
        "colab": {
          "base_uri": "https://localhost:8080/",
          "height": 452
        },
        "id": "eV5MGLwADcYI",
        "outputId": "577b2942-5569-4ac4-e252-db548d5983b2"
      },
      "outputs": [
        {
          "data": {
            "image/png": "[encoded data removed]",
            "text/plain": [
              "<Figure size 640x480 with 1 Axes>"
            ]
          },
          "metadata": {},
          "output_type": "display_data"
        }
      ],
      "source": [
        "import matplotlib.pyplot as plt\n",
        "\n",
        "num = 7\n",
        "Y_test[num]\n",
        "plt.plot(Y_test[num])\n",
        "plt.title('Model label')\n",
        "plt.show()"
      ]
    },
    {
      "cell_type": "code",
      "execution_count": 19,
      "metadata": {
        "colab": {
          "base_uri": "https://localhost:8080/",
          "height": 525
        },
        "id": "lGTyfTdp-UWN",
        "outputId": "bc8934f9-d37d-4a62-ad7b-772a850c567b"
      },
      "outputs": [
        {
          "name": "stdout",
          "output_type": "stream",
          "text": [
            "(1, 1024, 1025)\n",
            "1/1 [==============================] - 0s 333ms/step\n",
            "[[9.9992776e-01 4.6960628e-01 3.7264451e-01 ... 5.8435742e-04\n",
            "  1.1215102e-05 6.6362583e-05]]\n"
          ]
        },
        {
          "data": {
            "image/png": "[encoded data removed]",
            "text/plain": [
              "<Figure size 640x480 with 1 Axes>"
            ]
          },
          "metadata": {},
          "output_type": "display_data"
        }
      ],
      "source": [
        "import matplotlib.pyplot as plt\n",
        "\n",
        "num = 1\n",
        "X_predict = X_test[num].reshape((1, X_test[num].shape[0], X_test[num].shape[1]))\n",
        "print(X_predict.shape)\n",
        "prediction = model_cc.predict(X_predict)\n",
        "\n",
        "print(prediction)\n",
        "plt.plot(prediction[0])\n",
        "plt.title('Model prediction result')\n",
        "plt.show()"
      ]
    },
    {
      "cell_type": "markdown",
      "metadata": {},
      "source": [
        "## hi-hat"
      ]
    },
    {
      "cell_type": "code",
      "execution_count": null,
      "metadata": {},
      "outputs": [
        {
          "name": "stderr",
          "output_type": "stream",
          "text": [
            "2024-01-03 14:57:34.993197: I tensorflow/tsl/cuda/cudart_stub.cc:28] Could not find cuda drivers on your machine, GPU will not be used.\n",
            "2024-01-03 14:57:35.297783: E tensorflow/compiler/xla/stream_executor/cuda/cuda_dnn.cc:9342] Unable to register cuDNN factory: Attempting to register factory for plugin cuDNN when one has already been registered\n",
            "2024-01-03 14:57:35.297843: E tensorflow/compiler/xla/stream_executor/cuda/cuda_fft.cc:609] Unable to register cuFFT factory: Attempting to register factory for plugin cuFFT when one has already been registered\n",
            "2024-01-03 14:57:35.299805: E tensorflow/compiler/xla/stream_executor/cuda/cuda_blas.cc:1518] Unable to register cuBLAS factory: Attempting to register factory for plugin cuBLAS when one has already been registered\n",
            "2024-01-03 14:57:35.501575: I tensorflow/tsl/cuda/cudart_stub.cc:28] Could not find cuda drivers on your machine, GPU will not be used.\n",
            "2024-01-03 14:57:35.503141: I tensorflow/core/platform/cpu_feature_guard.cc:182] This TensorFlow binary is optimized to use available CPU instructions in performance-critical operations.\n",
            "To enable the following instructions: AVX2 FMA, in other operations, rebuild TensorFlow with the appropriate compiler flags.\n",
            "2024-01-03 14:57:37.538882: W tensorflow/compiler/tf2tensorrt/utils/py_utils.cc:38] TF-TRT Warning: Could not find TensorRT\n",
            "2024-01-03 14:57:40.302870: I tensorflow/compiler/xla/stream_executor/cuda/cuda_gpu_executor.cc:880] could not open file to read NUMA node: /sys/bus/pci/devices/0000:01:00.0/numa_node\n",
            "Your kernel may have been built without NUMA support.\n",
            "2024-01-03 14:57:40.508672: W tensorflow/core/common_runtime/gpu/gpu_device.cc:2211] Cannot dlopen some GPU libraries. Please make sure the missing libraries mentioned above are installed properly if you would like to use GPU. Follow the guide at https://www.tensorflow.org/install/gpu for how to download and setup the required libraries for your platform.\n",
            "Skipping registering GPU devices...\n",
            "2024-01-03 14:57:41.052478: W tensorflow/tsl/framework/cpu_allocator_impl.cc:83] Allocation of 419430400 exceeds 10% of free system memory.\n",
            "2024-01-03 14:57:41.143561: W tensorflow/tsl/framework/cpu_allocator_impl.cc:83] Allocation of 419430400 exceeds 10% of free system memory.\n"
          ]
        },
        {
          "name": "stdout",
          "output_type": "stream",
          "text": [
            "Model: \"sequential\"\n",
            "_________________________________________________________________\n",
            " Layer (type)                Output Shape              Param #   \n",
            "=================================================================\n",
            " bidirectional (Bidirection  (None, 1024, 100)         107600    \n",
            " al)                                                             \n",
            "                                                                 \n",
            " bidirectional_1 (Bidirecti  (None, 1024, 100)         15100     \n",
            " onal)                                                           \n",
            "                                                                 \n",
            " bidirectional_2 (Bidirecti  (None, 1024, 100)         15100     \n",
            " onal)                                                           \n",
            "                                                                 \n",
            " flatten (Flatten)           (None, 102400)            0         \n",
            "                                                                 \n",
            " dense (Dense)               (None, 1024)              104858624 \n",
            "                                                                 \n",
            "=================================================================\n",
            "Total params: 104996424 (400.53 MB)\n",
            "Trainable params: 104996424 (400.53 MB)\n",
            "Non-trainable params: 0 (0.00 Byte)\n",
            "_________________________________________________________________\n"
          ]
        },
        {
          "name": "stderr",
          "output_type": "stream",
          "text": [
            "2024-01-03 14:57:41.304080: W tensorflow/tsl/framework/cpu_allocator_impl.cc:83] Allocation of 419430400 exceeds 10% of free system memory.\n"
          ]
        },
        {
          "name": "stdout",
          "output_type": "stream",
          "text": [
            "Epoch 1/10\n"
          ]
        },
        {
          "name": "stderr",
          "output_type": "stream",
          "text": [
            "2024-01-03 14:57:42.552098: W tensorflow/tsl/framework/cpu_allocator_impl.cc:83] Allocation of 570982400 exceeds 10% of free system memory.\n",
            "2024-01-03 14:57:45.662687: W tensorflow/tsl/framework/cpu_allocator_impl.cc:83] Allocation of 419430400 exceeds 10% of free system memory.\n"
          ]
        },
        {
          "name": "stdout",
          "output_type": "stream",
          "text": [
            "5/5 [==============================] - 17s 2s/step - loss: 0.6056 - accuracy: 0.2500\n",
            "Epoch 2/10\n",
            "5/5 [==============================] - 9s 2s/step - loss: 0.1744 - accuracy: 0.8162\n",
            "Epoch 3/10\n",
            "5/5 [==============================] - 9s 2s/step - loss: 0.1336 - accuracy: 1.0000\n",
            "Epoch 4/10\n",
            "5/5 [==============================] - 9s 2s/step - loss: 0.1216 - accuracy: 1.0000\n",
            "Epoch 5/10\n",
            "5/5 [==============================] - 9s 2s/step - loss: 0.1125 - accuracy: 1.0000\n",
            "Epoch 6/10\n",
            "5/5 [==============================] - 9s 2s/step - loss: 0.1086 - accuracy: 1.0000\n",
            "Epoch 7/10\n",
            "5/5 [==============================] - 10s 2s/step - loss: 0.1064 - accuracy: 1.0000\n",
            "Epoch 8/10\n",
            "5/5 [==============================] - 9s 2s/step - loss: 0.1042 - accuracy: 1.0000\n",
            "Epoch 9/10\n",
            "5/5 [==============================] - 9s 2s/step - loss: 0.1030 - accuracy: 1.0000\n",
            "Epoch 10/10\n",
            "5/5 [==============================] - 10s 2s/step - loss: 0.1017 - accuracy: 1.0000\n"
          ]
        }
      ],
      "source": [
        "import tensorflow as tf\n",
        "\n",
        "# build the model\n",
        "model_hh = tf.keras.Sequential()\n",
        "\n",
        "# bidirection-RNN layer\n",
        "model_hh.add(tf.keras.layers.Bidirectional(tf.keras.layers.SimpleRNN(50, return_sequences=True, input_shape=(TIME_WIDTH, N_FFT // 2 + 1), activation='relu')))\n",
        "model_hh.add(tf.keras.layers.Bidirectional(tf.keras.layers.SimpleRNN(50, return_sequences=True, activation='relu')))\n",
        "model_hh.add(tf.keras.layers.Bidirectional(tf.keras.layers.SimpleRNN(50, return_sequences=True, activation='relu')))\n",
        "\n",
        "# Flatten layer\n",
        "model_hh.add(tf.keras.layers.Flatten())\n",
        "\n",
        "# dense layer\n",
        "model_hh.add(tf.keras.layers.Dense(TIME_WIDTH, activation='sigmoid'))\n",
        "\n",
        "model_hh.build((None, TIME_WIDTH, N_FFT // 2 + 1))\n",
        "model_hh.summary()\n",
        "\n",
        "# compile the model_hh\n",
        "opt = tf.keras.optimizers.SGD(learning_rate=0.01, momentum=0.9)\n",
        "model_hh.compile(loss='binary_crossentropy', optimizer=opt, metrics=['accuracy'])\n",
        "\n",
        "# train the model_hh\n",
        "history = model_hh.fit(X_train, Y_train, epochs=10)"
      ]
    },
    {
      "cell_type": "code",
      "execution_count": null,
      "metadata": {},
      "outputs": [
        {
          "name": "stdout",
          "output_type": "stream",
          "text": [
            "2/2 [==============================] - 5s 299ms/step - loss: 0.1131 - accuracy: 1.0000\n"
          ]
        }
      ],
      "source": [
        "loss, accuracy = model_hh.evaluate(X_test, Y_test)"
      ]
    },
    {
      "cell_type": "code",
      "execution_count": null,
      "metadata": {},
      "outputs": [
        {
          "data": {
            "image/png": "[encoded data removed]",
            "text/plain": [
              "<Figure size 640x480 with 1 Axes>"
            ]
          },
          "metadata": {},
          "output_type": "display_data"
        }
      ],
      "source": [
        "num = 2\n",
        "Y_test[num]\n",
        "plt.plot(Y_test[num])\n",
        "plt.title('Model label')\n",
        "plt.show()"
      ]
    },
    {
      "cell_type": "code",
      "execution_count": null,
      "metadata": {},
      "outputs": [
        {
          "name": "stdout",
          "output_type": "stream",
          "text": [
            "(1, 1024, 1025)\n",
            "1/1 [==============================] - 0s 381ms/step\n",
            "[[9.9851191e-01 3.6930293e-01 4.3923348e-01 ... 1.9211899e-05\n",
            "  2.0046436e-05 1.4242886e-05]]\n"
          ]
        },
        {
          "data": {
            "image/png": "[encoded data removed]",
            "text/plain": [
              "<Figure size 640x480 with 1 Axes>"
            ]
          },
          "metadata": {},
          "output_type": "display_data"
        }
      ],
      "source": [
        "import matplotlib.pyplot as plt\n",
        "\n",
        "X_predict = X_test[num].reshape((1, X_test[num].shape[0], X_test[num].shape[1]))\n",
        "print(X_predict.shape)\n",
        "prediction = model_hh.predict(X_predict)\n",
        "\n",
        "print(prediction)\n",
        "plt.plot(prediction[0])\n",
        "plt.title('Model prediction result')\n",
        "plt.show()"
      ]
    },
    {
      "cell_type": "markdown",
      "metadata": {},
      "source": [
        "## snare"
      ]
    },
    {
      "cell_type": "code",
      "execution_count": null,
      "metadata": {},
      "outputs": [
        {
          "name": "stderr",
          "output_type": "stream",
          "text": [
            "2024-01-03 14:57:34.993197: I tensorflow/tsl/cuda/cudart_stub.cc:28] Could not find cuda drivers on your machine, GPU will not be used.\n",
            "2024-01-03 14:57:35.297783: E tensorflow/compiler/xla/stream_executor/cuda/cuda_dnn.cc:9342] Unable to register cuDNN factory: Attempting to register factory for plugin cuDNN when one has already been registered\n",
            "2024-01-03 14:57:35.297843: E tensorflow/compiler/xla/stream_executor/cuda/cuda_fft.cc:609] Unable to register cuFFT factory: Attempting to register factory for plugin cuFFT when one has already been registered\n",
            "2024-01-03 14:57:35.299805: E tensorflow/compiler/xla/stream_executor/cuda/cuda_blas.cc:1518] Unable to register cuBLAS factory: Attempting to register factory for plugin cuBLAS when one has already been registered\n",
            "2024-01-03 14:57:35.501575: I tensorflow/tsl/cuda/cudart_stub.cc:28] Could not find cuda drivers on your machine, GPU will not be used.\n",
            "2024-01-03 14:57:35.503141: I tensorflow/core/platform/cpu_feature_guard.cc:182] This TensorFlow binary is optimized to use available CPU instructions in performance-critical operations.\n",
            "To enable the following instructions: AVX2 FMA, in other operations, rebuild TensorFlow with the appropriate compiler flags.\n",
            "2024-01-03 14:57:37.538882: W tensorflow/compiler/tf2tensorrt/utils/py_utils.cc:38] TF-TRT Warning: Could not find TensorRT\n",
            "2024-01-03 14:57:40.302870: I tensorflow/compiler/xla/stream_executor/cuda/cuda_gpu_executor.cc:880] could not open file to read NUMA node: /sys/bus/pci/devices/0000:01:00.0/numa_node\n",
            "Your kernel may have been built without NUMA support.\n",
            "2024-01-03 14:57:40.508672: W tensorflow/core/common_runtime/gpu/gpu_device.cc:2211] Cannot dlopen some GPU libraries. Please make sure the missing libraries mentioned above are installed properly if you would like to use GPU. Follow the guide at https://www.tensorflow.org/install/gpu for how to download and setup the required libraries for your platform.\n",
            "Skipping registering GPU devices...\n",
            "2024-01-03 14:57:41.052478: W tensorflow/tsl/framework/cpu_allocator_impl.cc:83] Allocation of 419430400 exceeds 10% of free system memory.\n",
            "2024-01-03 14:57:41.143561: W tensorflow/tsl/framework/cpu_allocator_impl.cc:83] Allocation of 419430400 exceeds 10% of free system memory.\n"
          ]
        },
        {
          "name": "stdout",
          "output_type": "stream",
          "text": [
            "Model: \"sequential\"\n",
            "_________________________________________________________________\n",
            " Layer (type)                Output Shape              Param #   \n",
            "=================================================================\n",
            " bidirectional (Bidirection  (None, 1024, 100)         107600    \n",
            " al)                                                             \n",
            "                                                                 \n",
            " bidirectional_1 (Bidirecti  (None, 1024, 100)         15100     \n",
            " onal)                                                           \n",
            "                                                                 \n",
            " bidirectional_2 (Bidirecti  (None, 1024, 100)         15100     \n",
            " onal)                                                           \n",
            "                                                                 \n",
            " flatten (Flatten)           (None, 102400)            0         \n",
            "                                                                 \n",
            " dense (Dense)               (None, 1024)              104858624 \n",
            "                                                                 \n",
            "=================================================================\n",
            "Total params: 104996424 (400.53 MB)\n",
            "Trainable params: 104996424 (400.53 MB)\n",
            "Non-trainable params: 0 (0.00 Byte)\n",
            "_________________________________________________________________\n"
          ]
        },
        {
          "name": "stderr",
          "output_type": "stream",
          "text": [
            "2024-01-03 14:57:41.304080: W tensorflow/tsl/framework/cpu_allocator_impl.cc:83] Allocation of 419430400 exceeds 10% of free system memory.\n"
          ]
        },
        {
          "name": "stdout",
          "output_type": "stream",
          "text": [
            "Epoch 1/10\n"
          ]
        },
        {
          "name": "stderr",
          "output_type": "stream",
          "text": [
            "2024-01-03 14:57:42.552098: W tensorflow/tsl/framework/cpu_allocator_impl.cc:83] Allocation of 570982400 exceeds 10% of free system memory.\n",
            "2024-01-03 14:57:45.662687: W tensorflow/tsl/framework/cpu_allocator_impl.cc:83] Allocation of 419430400 exceeds 10% of free system memory.\n"
          ]
        },
        {
          "name": "stdout",
          "output_type": "stream",
          "text": [
            "5/5 [==============================] - 17s 2s/step - loss: 0.6056 - accuracy: 0.2500\n",
            "Epoch 2/10\n",
            "5/5 [==============================] - 9s 2s/step - loss: 0.1744 - accuracy: 0.8162\n",
            "Epoch 3/10\n",
            "5/5 [==============================] - 9s 2s/step - loss: 0.1336 - accuracy: 1.0000\n",
            "Epoch 4/10\n",
            "5/5 [==============================] - 9s 2s/step - loss: 0.1216 - accuracy: 1.0000\n",
            "Epoch 5/10\n",
            "5/5 [==============================] - 9s 2s/step - loss: 0.1125 - accuracy: 1.0000\n",
            "Epoch 6/10\n",
            "5/5 [==============================] - 9s 2s/step - loss: 0.1086 - accuracy: 1.0000\n",
            "Epoch 7/10\n",
            "5/5 [==============================] - 10s 2s/step - loss: 0.1064 - accuracy: 1.0000\n",
            "Epoch 8/10\n",
            "5/5 [==============================] - 9s 2s/step - loss: 0.1042 - accuracy: 1.0000\n",
            "Epoch 9/10\n",
            "5/5 [==============================] - 9s 2s/step - loss: 0.1030 - accuracy: 1.0000\n",
            "Epoch 10/10\n",
            "5/5 [==============================] - 10s 2s/step - loss: 0.1017 - accuracy: 1.0000\n"
          ]
        }
      ],
      "source": [
        "import tensorflow as tf\n",
        "\n",
        "# build the model\n",
        "model_sn = tf.keras.Sequential()\n",
        "\n",
        "# bidirection-RNN layer\n",
        "model_sn.add(tf.keras.layers.Bidirectional(tf.keras.layers.SimpleRNN(50, return_sequences=True, input_shape=(TIME_WIDTH, N_FFT // 2 + 1), activation='relu')))\n",
        "model_sn.add(tf.keras.layers.Bidirectional(tf.keras.layers.SimpleRNN(50, return_sequences=True, activation='relu')))\n",
        "model_sn.add(tf.keras.layers.Bidirectional(tf.keras.layers.SimpleRNN(50, return_sequences=True, activation='relu')))\n",
        "\n",
        "# Flatten layer\n",
        "model_sn.add(tf.keras.layers.Flatten())\n",
        "\n",
        "# dense layer\n",
        "model_sn.add(tf.keras.layers.Dense(TIME_WIDTH, activation='sigmoid'))\n",
        "\n",
        "model_sn.build((None, TIME_WIDTH, N_FFT // 2 + 1))\n",
        "model_sn.summary()\n",
        "\n",
        "# compile the model_sn\n",
        "opt = tf.keras.optimizers.SGD(learning_rate=0.01, momentum=0.9)\n",
        "model_sn.compile(loss='binary_crossentropy', optimizer=opt, metrics=['accuracy'])\n",
        "\n",
        "# train the model_sn\n",
        "history = model_sn.fit(X_train, Y_train, epochs=10)"
      ]
    },
    {
      "cell_type": "code",
      "execution_count": null,
      "metadata": {},
      "outputs": [
        {
          "name": "stdout",
          "output_type": "stream",
          "text": [
            "2/2 [==============================] - 5s 299ms/step - loss: 0.1131 - accuracy: 1.0000\n"
          ]
        }
      ],
      "source": [
        "loss, accuracy = model_sn.evaluate(X_test, Y_test)"
      ]
    },
    {
      "cell_type": "code",
      "execution_count": null,
      "metadata": {},
      "outputs": [
        {
          "data": {
            "image/png": "[encoded data removed]",
            "text/plain": [
              "<Figure size 640x480 with 1 Axes>"
            ]
          },
          "metadata": {},
          "output_type": "display_data"
        }
      ],
      "source": [
        "num = 2\n",
        "Y_test[num]\n",
        "plt.plot(Y_test[num])\n",
        "plt.title('Model label')\n",
        "plt.show()"
      ]
    },
    {
      "cell_type": "code",
      "execution_count": null,
      "metadata": {},
      "outputs": [
        {
          "name": "stdout",
          "output_type": "stream",
          "text": [
            "(1, 1024, 1025)\n",
            "1/1 [==============================] - 0s 381ms/step\n",
            "[[9.9851191e-01 3.6930293e-01 4.3923348e-01 ... 1.9211899e-05\n",
            "  2.0046436e-05 1.4242886e-05]]\n"
          ]
        },
        {
          "data": {
            "image/png": "[encoded data removed]",
            "text/plain": [
              "<Figure size 640x480 with 1 Axes>"
            ]
          },
          "metadata": {},
          "output_type": "display_data"
        }
      ],
      "source": [
        "import matplotlib.pyplot as plt\n",
        "\n",
        "X_predict = X_test[num].reshape((1, X_test[num].shape[0], X_test[num].shape[1]))\n",
        "print(X_predict.shape)\n",
        "prediction = model_sn.predict(X_predict)\n",
        "\n",
        "print(prediction)\n",
        "plt.plot(prediction[0])\n",
        "plt.title('Model prediction result')\n",
        "plt.show()"
      ]
    },
    {
      "cell_type": "markdown",
      "metadata": {},
      "source": [
        "## kick"
      ]
    },
    {
      "cell_type": "code",
      "execution_count": null,
      "metadata": {},
      "outputs": [
        {
          "name": "stderr",
          "output_type": "stream",
          "text": [
            "2024-01-03 14:57:34.993197: I tensorflow/tsl/cuda/cudart_stub.cc:28] Could not find cuda drivers on your machine, GPU will not be used.\n",
            "2024-01-03 14:57:35.297783: E tensorflow/compiler/xla/stream_executor/cuda/cuda_dnn.cc:9342] Unable to register cuDNN factory: Attempting to register factory for plugin cuDNN when one has already been registered\n",
            "2024-01-03 14:57:35.297843: E tensorflow/compiler/xla/stream_executor/cuda/cuda_fft.cc:609] Unable to register cuFFT factory: Attempting to register factory for plugin cuFFT when one has already been registered\n",
            "2024-01-03 14:57:35.299805: E tensorflow/compiler/xla/stream_executor/cuda/cuda_blas.cc:1518] Unable to register cuBLAS factory: Attempting to register factory for plugin cuBLAS when one has already been registered\n",
            "2024-01-03 14:57:35.501575: I tensorflow/tsl/cuda/cudart_stub.cc:28] Could not find cuda drivers on your machine, GPU will not be used.\n",
            "2024-01-03 14:57:35.503141: I tensorflow/core/platform/cpu_feature_guard.cc:182] This TensorFlow binary is optimized to use available CPU instructions in performance-critical operations.\n",
            "To enable the following instructions: AVX2 FMA, in other operations, rebuild TensorFlow with the appropriate compiler flags.\n",
            "2024-01-03 14:57:37.538882: W tensorflow/compiler/tf2tensorrt/utils/py_utils.cc:38] TF-TRT Warning: Could not find TensorRT\n",
            "2024-01-03 14:57:40.302870: I tensorflow/compiler/xla/stream_executor/cuda/cuda_gpu_executor.cc:880] could not open file to read NUMA node: /sys/bus/pci/devices/0000:01:00.0/numa_node\n",
            "Your kernel may have been built without NUMA support.\n",
            "2024-01-03 14:57:40.508672: W tensorflow/core/common_runtime/gpu/gpu_device.cc:2211] Cannot dlopen some GPU libraries. Please make sure the missing libraries mentioned above are installed properly if you would like to use GPU. Follow the guide at https://www.tensorflow.org/install/gpu for how to download and setup the required libraries for your platform.\n",
            "Skipping registering GPU devices...\n",
            "2024-01-03 14:57:41.052478: W tensorflow/tsl/framework/cpu_allocator_impl.cc:83] Allocation of 419430400 exceeds 10% of free system memory.\n",
            "2024-01-03 14:57:41.143561: W tensorflow/tsl/framework/cpu_allocator_impl.cc:83] Allocation of 419430400 exceeds 10% of free system memory.\n"
          ]
        },
        {
          "name": "stdout",
          "output_type": "stream",
          "text": [
            "Model: \"sequential\"\n",
            "_________________________________________________________________\n",
            " Layer (type)                Output Shape              Param #   \n",
            "=================================================================\n",
            " bidirectional (Bidirection  (None, 1024, 100)         107600    \n",
            " al)                                                             \n",
            "                                                                 \n",
            " bidirectional_1 (Bidirecti  (None, 1024, 100)         15100     \n",
            " onal)                                                           \n",
            "                                                                 \n",
            " bidirectional_2 (Bidirecti  (None, 1024, 100)         15100     \n",
            " onal)                                                           \n",
            "                                                                 \n",
            " flatten (Flatten)           (None, 102400)            0         \n",
            "                                                                 \n",
            " dense (Dense)               (None, 1024)              104858624 \n",
            "                                                                 \n",
            "=================================================================\n",
            "Total params: 104996424 (400.53 MB)\n",
            "Trainable params: 104996424 (400.53 MB)\n",
            "Non-trainable params: 0 (0.00 Byte)\n",
            "_________________________________________________________________\n"
          ]
        },
        {
          "name": "stderr",
          "output_type": "stream",
          "text": [
            "2024-01-03 14:57:41.304080: W tensorflow/tsl/framework/cpu_allocator_impl.cc:83] Allocation of 419430400 exceeds 10% of free system memory.\n"
          ]
        },
        {
          "name": "stdout",
          "output_type": "stream",
          "text": [
            "Epoch 1/10\n"
          ]
        },
        {
          "name": "stderr",
          "output_type": "stream",
          "text": [
            "2024-01-03 14:57:42.552098: W tensorflow/tsl/framework/cpu_allocator_impl.cc:83] Allocation of 570982400 exceeds 10% of free system memory.\n",
            "2024-01-03 14:57:45.662687: W tensorflow/tsl/framework/cpu_allocator_impl.cc:83] Allocation of 419430400 exceeds 10% of free system memory.\n"
          ]
        },
        {
          "name": "stdout",
          "output_type": "stream",
          "text": [
            "5/5 [==============================] - 17s 2s/step - loss: 0.6056 - accuracy: 0.2500\n",
            "Epoch 2/10\n",
            "5/5 [==============================] - 9s 2s/step - loss: 0.1744 - accuracy: 0.8162\n",
            "Epoch 3/10\n",
            "5/5 [==============================] - 9s 2s/step - loss: 0.1336 - accuracy: 1.0000\n",
            "Epoch 4/10\n",
            "5/5 [==============================] - 9s 2s/step - loss: 0.1216 - accuracy: 1.0000\n",
            "Epoch 5/10\n",
            "5/5 [==============================] - 9s 2s/step - loss: 0.1125 - accuracy: 1.0000\n",
            "Epoch 6/10\n",
            "5/5 [==============================] - 9s 2s/step - loss: 0.1086 - accuracy: 1.0000\n",
            "Epoch 7/10\n",
            "5/5 [==============================] - 10s 2s/step - loss: 0.1064 - accuracy: 1.0000\n",
            "Epoch 8/10\n",
            "5/5 [==============================] - 9s 2s/step - loss: 0.1042 - accuracy: 1.0000\n",
            "Epoch 9/10\n",
            "5/5 [==============================] - 9s 2s/step - loss: 0.1030 - accuracy: 1.0000\n",
            "Epoch 10/10\n",
            "5/5 [==============================] - 10s 2s/step - loss: 0.1017 - accuracy: 1.0000\n"
          ]
        }
      ],
      "source": [
        "import tensorflow as tf\n",
        "\n",
        "# build the model\n",
        "model_kk = tf.keras.Sequential()\n",
        "\n",
        "# bidirection-RNN layer\n",
        "model_kk.add(tf.keras.layers.Bidirectional(tf.keras.layers.SimpleRNN(50, return_sequences=True, input_shape=(TIME_WIDTH, N_FFT // 2 + 1), activation='relu')))\n",
        "model_kk.add(tf.keras.layers.Bidirectional(tf.keras.layers.SimpleRNN(50, return_sequences=True, activation='relu')))\n",
        "model_kk.add(tf.keras.layers.Bidirectional(tf.keras.layers.SimpleRNN(50, return_sequences=True, activation='relu')))\n",
        "\n",
        "# Flatten layer\n",
        "model_kk.add(tf.keras.layers.Flatten())\n",
        "\n",
        "# dense layer\n",
        "model_kk.add(tf.keras.layers.Dense(TIME_WIDTH, activation='sigmoid'))\n",
        "\n",
        "model_kk.build((None, TIME_WIDTH, N_FFT // 2 + 1))\n",
        "model_kk.summary()\n",
        "\n",
        "# compile the model_kk\n",
        "opt = tf.keras.optimizers.SGD(learning_rate=0.01, momentum=0.9)\n",
        "model_kk.compile(loss='binary_crossentropy', optimizer=opt, metrics=['accuracy'])\n",
        "\n",
        "# train the model_kk\n",
        "history = model_kk.fit(X_train, Y_train, epochs=10)"
      ]
    },
    {
      "cell_type": "code",
      "execution_count": null,
      "metadata": {},
      "outputs": [
        {
          "name": "stdout",
          "output_type": "stream",
          "text": [
            "2/2 [==============================] - 5s 299ms/step - loss: 0.1131 - accuracy: 1.0000\n"
          ]
        }
      ],
      "source": [
        "loss, accuracy = model_kk.evaluate(X_test, Y_test)"
      ]
    },
    {
      "cell_type": "code",
      "execution_count": null,
      "metadata": {},
      "outputs": [
        {
          "data": {
            "image/png": "[encoded data removed]",
            "text/plain": [
              "<Figure size 640x480 with 1 Axes>"
            ]
          },
          "metadata": {},
          "output_type": "display_data"
        }
      ],
      "source": [
        "num = 2\n",
        "Y_test[num]\n",
        "plt.plot(Y_test[num])\n",
        "plt.title('Model label')\n",
        "plt.show()"
      ]
    },
    {
      "cell_type": "code",
      "execution_count": null,
      "metadata": {},
      "outputs": [
        {
          "name": "stdout",
          "output_type": "stream",
          "text": [
            "(1, 1024, 1025)\n",
            "1/1 [==============================] - 0s 381ms/step\n",
            "[[9.9851191e-01 3.6930293e-01 4.3923348e-01 ... 1.9211899e-05\n",
            "  2.0046436e-05 1.4242886e-05]]\n"
          ]
        },
        {
          "data": {
            "image/png": "[encoded data removed]",
            "text/plain": [
              "<Figure size 640x480 with 1 Axes>"
            ]
          },
          "metadata": {},
          "output_type": "display_data"
        }
      ],
      "source": [
        "import matplotlib.pyplot as plt\n",
        "\n",
        "X_predict = X_test[num].reshape((1, X_test[num].shape[0], X_test[num].shape[1]))\n",
        "print(X_predict.shape)\n",
        "prediction = model_kk.predict(X_predict)\n",
        "\n",
        "print(prediction)\n",
        "plt.plot(prediction[0])\n",
        "plt.title('Model prediction result')\n",
        "plt.show()"
      ]
    }
  ],
  "metadata": {
    "colab": {
      "collapsed_sections": [
        "d5mFcYohbqSy",
        "Yg6VVKUQg4pM",
        "Y4Juvy5smi-s"
      ],
      "provenance": []
    },
    "kernelspec": {
      "display_name": "drum_kernel",
      "language": "python",
      "name": "drum"
    },
    "language_info": {
      "codemirror_mode": {
        "name": "ipython",
        "version": 3
      },
      "file_extension": ".py",
      "mimetype": "text/x-python",
      "name": "python",
      "nbconvert_exporter": "python",
      "pygments_lexer": "ipython3",
      "version": "3.11.5"
    }
  },
  "nbformat": 4,
  "nbformat_minor": 0
}
