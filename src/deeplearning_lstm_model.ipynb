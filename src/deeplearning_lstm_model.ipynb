{
 "cells": [
  {
   "cell_type": "code",
   "execution_count": 159,
   "metadata": {},
   "outputs": [],
   "source": [
    "import os\n",
    "import librosa\n",
    "import numpy as np\n",
    "import pandas as pd\n",
    "\n",
    "import tensorflow as tf\n",
    "from tensorflow import keras\n",
    "from tensorflow.keras import layers \n",
    "\n",
    "\n",
    "from sklearn.preprocessing import LabelEncoder\n",
    "from sklearn.model_selection import train_test_split"
   ]
  },
  {
   "cell_type": "markdown",
   "metadata": {},
   "source": [
    "### 🎈 파라미터"
   ]
  },
  {
   "cell_type": "code",
   "execution_count": 160,
   "metadata": {},
   "outputs": [],
   "source": [
    "# 일정한 시간 간격으로 음압을 측정하는 주파수, 22050Hz\n",
    "hp_sample_rate = 22050\n",
    "\n",
    "# -- return 될 mfcc의 개수\n",
    "n_mfcc_feature = 100\n",
    "\n",
    "# -- wav를 작은 조각으로 자를 때 그 조각의 크기\n",
    "# -- 자연어 처리 분야에서 25ms를 기본으로 하고 있음, 552(22050Hz*0.025)\n",
    "window_len = int(np.ceil(hp_sample_rate * 0.025))\n",
    "\n",
    "# -- frame의 length 결정\n",
    "# -- window_len으로 잘린 작은 조각은 n_fft보다 작은 경우 0으로 padding을 붙여주어 n_fft만큼 크기가 맞춰짐.\n",
    "# -- window_len보다 크거나 같아야 함.\n",
    "n_fft_len = window_len\n",
    "\n",
    "# -- wav를 작은 조각으로 자를 때 자르는 간격\n",
    "# -- 10ms를 기본으로 하고 있음, 221(22050Hz*0.01)\n",
    "hop_len = int(np.ceil(hp_sample_rate * 0.01))\n",
    "\n",
    "# -- wav 길이가 다양하기 때문에, 길면 자르고 짧으면 padding 붙여서 일정하게 조절.\n",
    "# -- 잘린 wav가 평균 0.1sec~0.3sec이니까 20(0.2sec~0.3sec) 으로 결정\n",
    "max_pad_len = 20\n",
    "\n",
    "n_columns = 174    \n",
    "n_row = 40       \n",
    "n_channels = 1\n",
    "n_classes = 4"
   ]
  },
  {
   "cell_type": "markdown",
   "metadata": {},
   "source": [
    "- https://youdaeng-com.tistory.com/5\n",
    "- https://ahnjg.tistory.com/93"
   ]
  },
  {
   "cell_type": "code",
   "execution_count": 170,
   "metadata": {},
   "outputs": [
    {
     "name": "stdout",
     "output_type": "stream",
     "text": [
      "file name : ../data/wavs/test/Bass Sample 30.wav , length: 2.0 secs,  mfccs: (100, 20)\n"
     ]
    },
    {
     "name": "stderr",
     "output_type": "stream",
     "text": [
      "/home/jaeserrr/anaconda3/envs/drum/lib/python3.11/site-packages/sklearn/preprocessing/_data.py:247: UserWarning: Numerical issues were encountered when centering the data and might not be solved. Dataset may contain too large values. You may need to prescale your features.\n",
      "  warnings.warn(\n",
      "/home/jaeserrr/anaconda3/envs/drum/lib/python3.11/site-packages/sklearn/preprocessing/_data.py:266: UserWarning: Numerical issues were encountered when scaling the data and might not be solved. The standard deviation of the data is probably very close to 0. \n",
      "  warnings.warn(\n"
     ]
    },
    {
     "data": {
      "text/plain": [
       "<matplotlib.collections.QuadMesh at 0x7f51a58be490>"
      ]
     },
     "execution_count": 170,
     "metadata": {},
     "output_type": "execute_result"
    },
    {
     "data": {
      "image/png": "[encoded data removed]",
      "text/plain": [
       "<Figure size 640x480 with 1 Axes>"
      ]
     },
     "metadata": {},
     "output_type": "display_data"
    }
   ],
   "source": [
    "from sklearn import preprocessing\n",
    "\n",
    "root = \"../data/wavs/test/\"\n",
    "test = root + \"Bass Sample 30.wav\"\n",
    "\n",
    "def extract_feature(file_name):\n",
    "    try:\n",
    "        audio, sample_rate = librosa.load(file_name, sr=hp_sample_rate) # -- sr : 22050\n",
    "        mfccs = librosa.feature.mfcc(y=audio, sr=sample_rate, n_mfcc=n_mfcc_feature, n_fft=n_fft_len, hop_length=hop_len)\n",
    "\n",
    "        # -- 전처리 scaling\n",
    "        mfccs = preprocessing.scale(mfccs, axis=1)\n",
    "        pad2d = lambda a, i: a[:, 0:i] if a.shape[1] > i else np.hstack((a, np.zeros((a.shape[0], i-a.shape[1]))))\n",
    "        padded_mfcc = pad2d(mfccs, max_pad_len)\n",
    "\n",
    "        # pad_width = max_pad_len - mfccs.shape[1]\n",
    "        # mfccs = np.pad(mfccs, pad_width=((0,0), (0, pad_width)), mode='constant')\n",
    "        print('file name :', file_name, ', length:', audio.shape[0]/float(sample_rate), 'secs, ', 'mfccs:', padded_mfcc.shape)\n",
    "    except Exception as e:\n",
    "        print(\"Error encountered while parsing file: \", file_name)\n",
    "        print(e)\n",
    "        return None\n",
    "\n",
    "    return padded_mfcc\n",
    "\n",
    "result = extract_feature(test)\n",
    "librosa.display.specshow(result, sr=hp_sample_rate, x_axis='time')"
   ]
  },
  {
   "cell_type": "code",
   "execution_count": 162,
   "metadata": {},
   "outputs": [
    {
     "name": "stdout",
     "output_type": "stream",
     "text": [
      "160\n",
      "file name : ../data/wavs/train/Bass Sample 1.wav , length: 2.0 secs,  mfccs: (100, 20)\n",
      "file name : ../data/wavs/train/Bass Sample 10.wav , length: 2.0 secs,  mfccs: (100, 20)\n"
     ]
    },
    {
     "name": "stderr",
     "output_type": "stream",
     "text": [
      "/home/jaeserrr/anaconda3/envs/drum/lib/python3.11/site-packages/sklearn/preprocessing/_data.py:247: UserWarning: Numerical issues were encountered when centering the data and might not be solved. Dataset may contain too large values. You may need to prescale your features.\n",
      "  warnings.warn(\n",
      "/home/jaeserrr/anaconda3/envs/drum/lib/python3.11/site-packages/sklearn/preprocessing/_data.py:266: UserWarning: Numerical issues were encountered when scaling the data and might not be solved. The standard deviation of the data is probably very close to 0. \n",
      "  warnings.warn(\n",
      "/home/jaeserrr/anaconda3/envs/drum/lib/python3.11/site-packages/sklearn/preprocessing/_data.py:247: UserWarning: Numerical issues were encountered when centering the data and might not be solved. Dataset may contain too large values. You may need to prescale your features.\n",
      "  warnings.warn(\n",
      "/home/jaeserrr/anaconda3/envs/drum/lib/python3.11/site-packages/sklearn/preprocessing/_data.py:266: UserWarning: Numerical issues were encountered when scaling the data and might not be solved. The standard deviation of the data is probably very close to 0. \n",
      "  warnings.warn(\n",
      "/home/jaeserrr/anaconda3/envs/drum/lib/python3.11/site-packages/sklearn/preprocessing/_data.py:247: UserWarning: Numerical issues were encountered when centering the data and might not be solved. Dataset may contain too large values. You may need to prescale your features.\n",
      "  warnings.warn(\n",
      "/home/jaeserrr/anaconda3/envs/drum/lib/python3.11/site-packages/sklearn/preprocessing/_data.py:266: UserWarning: Numerical issues were encountered when scaling the data and might not be solved. The standard deviation of the data is probably very close to 0. \n",
      "  warnings.warn(\n",
      "/home/jaeserrr/anaconda3/envs/drum/lib/python3.11/site-packages/sklearn/preprocessing/_data.py:247: UserWarning: Numerical issues were encountered when centering the data and might not be solved. Dataset may contain too large values. You may need to prescale your features.\n",
      "  warnings.warn(\n",
      "/home/jaeserrr/anaconda3/envs/drum/lib/python3.11/site-packages/sklearn/preprocessing/_data.py:266: UserWarning: Numerical issues were encountered when scaling the data and might not be solved. The standard deviation of the data is probably very close to 0. \n",
      "  warnings.warn(\n"
     ]
    },
    {
     "name": "stdout",
     "output_type": "stream",
     "text": [
      "file name : ../data/wavs/train/Bass Sample 11.wav , length: 2.0 secs,  mfccs: (100, 20)\n",
      "file name : ../data/wavs/train/Bass Sample 12.wav , length: 2.0 secs,  mfccs: (100, 20)\n",
      "file name : ../data/wavs/train/Bass Sample 13.wav , length: 2.0 secs,  mfccs: (100, 20)\n",
      "file name : ../data/wavs/train/Bass Sample 14.wav , length: 2.0 secs,  mfccs: (100, 20)\n",
      "file name : ../data/wavs/train/Bass Sample 15.wav , length: 2.0 secs,  mfccs: (100, 20)\n"
     ]
    },
    {
     "name": "stderr",
     "output_type": "stream",
     "text": [
      "/home/jaeserrr/anaconda3/envs/drum/lib/python3.11/site-packages/sklearn/preprocessing/_data.py:247: UserWarning: Numerical issues were encountered when centering the data and might not be solved. Dataset may contain too large values. You may need to prescale your features.\n",
      "  warnings.warn(\n",
      "/home/jaeserrr/anaconda3/envs/drum/lib/python3.11/site-packages/sklearn/preprocessing/_data.py:266: UserWarning: Numerical issues were encountered when scaling the data and might not be solved. The standard deviation of the data is probably very close to 0. \n",
      "  warnings.warn(\n",
      "/home/jaeserrr/anaconda3/envs/drum/lib/python3.11/site-packages/sklearn/preprocessing/_data.py:247: UserWarning: Numerical issues were encountered when centering the data and might not be solved. Dataset may contain too large values. You may need to prescale your features.\n",
      "  warnings.warn(\n",
      "/home/jaeserrr/anaconda3/envs/drum/lib/python3.11/site-packages/sklearn/preprocessing/_data.py:266: UserWarning: Numerical issues were encountered when scaling the data and might not be solved. The standard deviation of the data is probably very close to 0. \n",
      "  warnings.warn(\n",
      "/home/jaeserrr/anaconda3/envs/drum/lib/python3.11/site-packages/sklearn/preprocessing/_data.py:247: UserWarning: Numerical issues were encountered when centering the data and might not be solved. Dataset may contain too large values. You may need to prescale your features.\n",
      "  warnings.warn(\n",
      "/home/jaeserrr/anaconda3/envs/drum/lib/python3.11/site-packages/sklearn/preprocessing/_data.py:266: UserWarning: Numerical issues were encountered when scaling the data and might not be solved. The standard deviation of the data is probably very close to 0. \n",
      "  warnings.warn(\n",
      "/home/jaeserrr/anaconda3/envs/drum/lib/python3.11/site-packages/sklearn/preprocessing/_data.py:247: UserWarning: Numerical issues were encountered when centering the data and might not be solved. Dataset may contain too large values. You may need to prescale your features.\n",
      "  warnings.warn(\n",
      "/home/jaeserrr/anaconda3/envs/drum/lib/python3.11/site-packages/sklearn/preprocessing/_data.py:266: UserWarning: Numerical issues were encountered when scaling the data and might not be solved. The standard deviation of the data is probably very close to 0. \n",
      "  warnings.warn(\n",
      "/home/jaeserrr/anaconda3/envs/drum/lib/python3.11/site-packages/sklearn/preprocessing/_data.py:247: UserWarning: Numerical issues were encountered when centering the data and might not be solved. Dataset may contain too large values. You may need to prescale your features.\n",
      "  warnings.warn(\n",
      "/home/jaeserrr/anaconda3/envs/drum/lib/python3.11/site-packages/sklearn/preprocessing/_data.py:266: UserWarning: Numerical issues were encountered when scaling the data and might not be solved. The standard deviation of the data is probably very close to 0. \n",
      "  warnings.warn(\n"
     ]
    },
    {
     "name": "stdout",
     "output_type": "stream",
     "text": [
      "file name : ../data/wavs/train/Bass Sample 16.wav , length: 2.0 secs,  mfccs: (100, 20)\n",
      "file name : ../data/wavs/train/Bass Sample 17.wav , length: 2.0 secs,  mfccs: (100, 20)\n",
      "file name : ../data/wavs/train/Bass Sample 18.wav , length: 2.0 secs,  mfccs: (100, 20)\n",
      "file name : ../data/wavs/train/Bass Sample 19.wav , length: 2.0 secs,  mfccs: (100, 20)\n",
      "file name : ../data/wavs/train/Bass Sample 2.wav , length: 2.0 secs,  mfccs: (100, 20)\n"
     ]
    },
    {
     "name": "stderr",
     "output_type": "stream",
     "text": [
      "/home/jaeserrr/anaconda3/envs/drum/lib/python3.11/site-packages/sklearn/preprocessing/_data.py:247: UserWarning: Numerical issues were encountered when centering the data and might not be solved. Dataset may contain too large values. You may need to prescale your features.\n",
      "  warnings.warn(\n",
      "/home/jaeserrr/anaconda3/envs/drum/lib/python3.11/site-packages/sklearn/preprocessing/_data.py:266: UserWarning: Numerical issues were encountered when scaling the data and might not be solved. The standard deviation of the data is probably very close to 0. \n",
      "  warnings.warn(\n",
      "/home/jaeserrr/anaconda3/envs/drum/lib/python3.11/site-packages/sklearn/preprocessing/_data.py:247: UserWarning: Numerical issues were encountered when centering the data and might not be solved. Dataset may contain too large values. You may need to prescale your features.\n",
      "  warnings.warn(\n",
      "/home/jaeserrr/anaconda3/envs/drum/lib/python3.11/site-packages/sklearn/preprocessing/_data.py:266: UserWarning: Numerical issues were encountered when scaling the data and might not be solved. The standard deviation of the data is probably very close to 0. \n",
      "  warnings.warn(\n",
      "/home/jaeserrr/anaconda3/envs/drum/lib/python3.11/site-packages/sklearn/preprocessing/_data.py:247: UserWarning: Numerical issues were encountered when centering the data and might not be solved. Dataset may contain too large values. You may need to prescale your features.\n",
      "  warnings.warn(\n",
      "/home/jaeserrr/anaconda3/envs/drum/lib/python3.11/site-packages/sklearn/preprocessing/_data.py:266: UserWarning: Numerical issues were encountered when scaling the data and might not be solved. The standard deviation of the data is probably very close to 0. \n",
      "  warnings.warn(\n",
      "/home/jaeserrr/anaconda3/envs/drum/lib/python3.11/site-packages/sklearn/preprocessing/_data.py:247: UserWarning: Numerical issues were encountered when centering the data and might not be solved. Dataset may contain too large values. You may need to prescale your features.\n",
      "  warnings.warn(\n",
      "/home/jaeserrr/anaconda3/envs/drum/lib/python3.11/site-packages/sklearn/preprocessing/_data.py:266: UserWarning: Numerical issues were encountered when scaling the data and might not be solved. The standard deviation of the data is probably very close to 0. \n",
      "  warnings.warn(\n",
      "/home/jaeserrr/anaconda3/envs/drum/lib/python3.11/site-packages/sklearn/preprocessing/_data.py:247: UserWarning: Numerical issues were encountered when centering the data and might not be solved. Dataset may contain too large values. You may need to prescale your features.\n",
      "  warnings.warn(\n",
      "/home/jaeserrr/anaconda3/envs/drum/lib/python3.11/site-packages/sklearn/preprocessing/_data.py:266: UserWarning: Numerical issues were encountered when scaling the data and might not be solved. The standard deviation of the data is probably very close to 0. \n",
      "  warnings.warn(\n"
     ]
    },
    {
     "name": "stdout",
     "output_type": "stream",
     "text": [
      "file name : ../data/wavs/train/Bass Sample 20.wav , length: 2.0 secs,  mfccs: (100, 20)\n",
      "file name : ../data/wavs/train/Bass Sample 21.wav , length: 2.0 secs,  mfccs: (100, 20)\n",
      "file name : ../data/wavs/train/Bass Sample 22.wav , length: 2.0 secs,  mfccs: (100, 20)\n",
      "file name : ../data/wavs/train/Bass Sample 23.wav , length: 2.0 secs,  mfccs: (100, 20)\n",
      "file name : ../data/wavs/train/Bass Sample 24.wav , length: 2.0 secs,  mfccs: (100, 20)\n"
     ]
    },
    {
     "name": "stderr",
     "output_type": "stream",
     "text": [
      "/home/jaeserrr/anaconda3/envs/drum/lib/python3.11/site-packages/sklearn/preprocessing/_data.py:247: UserWarning: Numerical issues were encountered when centering the data and might not be solved. Dataset may contain too large values. You may need to prescale your features.\n",
      "  warnings.warn(\n",
      "/home/jaeserrr/anaconda3/envs/drum/lib/python3.11/site-packages/sklearn/preprocessing/_data.py:266: UserWarning: Numerical issues were encountered when scaling the data and might not be solved. The standard deviation of the data is probably very close to 0. \n",
      "  warnings.warn(\n",
      "/home/jaeserrr/anaconda3/envs/drum/lib/python3.11/site-packages/sklearn/preprocessing/_data.py:247: UserWarning: Numerical issues were encountered when centering the data and might not be solved. Dataset may contain too large values. You may need to prescale your features.\n",
      "  warnings.warn(\n",
      "/home/jaeserrr/anaconda3/envs/drum/lib/python3.11/site-packages/sklearn/preprocessing/_data.py:266: UserWarning: Numerical issues were encountered when scaling the data and might not be solved. The standard deviation of the data is probably very close to 0. \n",
      "  warnings.warn(\n",
      "/home/jaeserrr/anaconda3/envs/drum/lib/python3.11/site-packages/sklearn/preprocessing/_data.py:247: UserWarning: Numerical issues were encountered when centering the data and might not be solved. Dataset may contain too large values. You may need to prescale your features.\n",
      "  warnings.warn(\n",
      "/home/jaeserrr/anaconda3/envs/drum/lib/python3.11/site-packages/sklearn/preprocessing/_data.py:266: UserWarning: Numerical issues were encountered when scaling the data and might not be solved. The standard deviation of the data is probably very close to 0. \n",
      "  warnings.warn(\n",
      "/home/jaeserrr/anaconda3/envs/drum/lib/python3.11/site-packages/sklearn/preprocessing/_data.py:247: UserWarning: Numerical issues were encountered when centering the data and might not be solved. Dataset may contain too large values. You may need to prescale your features.\n",
      "  warnings.warn(\n",
      "/home/jaeserrr/anaconda3/envs/drum/lib/python3.11/site-packages/sklearn/preprocessing/_data.py:266: UserWarning: Numerical issues were encountered when scaling the data and might not be solved. The standard deviation of the data is probably very close to 0. \n",
      "  warnings.warn(\n",
      "/home/jaeserrr/anaconda3/envs/drum/lib/python3.11/site-packages/sklearn/preprocessing/_data.py:247: UserWarning: Numerical issues were encountered when centering the data and might not be solved. Dataset may contain too large values. You may need to prescale your features.\n",
      "  warnings.warn(\n",
      "/home/jaeserrr/anaconda3/envs/drum/lib/python3.11/site-packages/sklearn/preprocessing/_data.py:266: UserWarning: Numerical issues were encountered when scaling the data and might not be solved. The standard deviation of the data is probably very close to 0. \n",
      "  warnings.warn(\n"
     ]
    },
    {
     "name": "stdout",
     "output_type": "stream",
     "text": [
      "file name : ../data/wavs/train/Bass Sample 25.wav , length: 2.0 secs,  mfccs: (100, 20)\n",
      "file name : ../data/wavs/train/Bass Sample 26.wav , length: 2.0 secs,  mfccs: (100, 20)\n",
      "file name : ../data/wavs/train/Bass Sample 27.wav , length: 2.0 secs,  mfccs: (100, 20)\n",
      "file name : ../data/wavs/train/Bass Sample 28.wav , length: 2.0 secs,  mfccs: (100, 20)\n"
     ]
    },
    {
     "name": "stderr",
     "output_type": "stream",
     "text": [
      "/home/jaeserrr/anaconda3/envs/drum/lib/python3.11/site-packages/sklearn/preprocessing/_data.py:247: UserWarning: Numerical issues were encountered when centering the data and might not be solved. Dataset may contain too large values. You may need to prescale your features.\n",
      "  warnings.warn(\n",
      "/home/jaeserrr/anaconda3/envs/drum/lib/python3.11/site-packages/sklearn/preprocessing/_data.py:266: UserWarning: Numerical issues were encountered when scaling the data and might not be solved. The standard deviation of the data is probably very close to 0. \n",
      "  warnings.warn(\n",
      "/home/jaeserrr/anaconda3/envs/drum/lib/python3.11/site-packages/sklearn/preprocessing/_data.py:247: UserWarning: Numerical issues were encountered when centering the data and might not be solved. Dataset may contain too large values. You may need to prescale your features.\n",
      "  warnings.warn(\n",
      "/home/jaeserrr/anaconda3/envs/drum/lib/python3.11/site-packages/sklearn/preprocessing/_data.py:266: UserWarning: Numerical issues were encountered when scaling the data and might not be solved. The standard deviation of the data is probably very close to 0. \n",
      "  warnings.warn(\n",
      "/home/jaeserrr/anaconda3/envs/drum/lib/python3.11/site-packages/sklearn/preprocessing/_data.py:247: UserWarning: Numerical issues were encountered when centering the data and might not be solved. Dataset may contain too large values. You may need to prescale your features.\n",
      "  warnings.warn(\n",
      "/home/jaeserrr/anaconda3/envs/drum/lib/python3.11/site-packages/sklearn/preprocessing/_data.py:266: UserWarning: Numerical issues were encountered when scaling the data and might not be solved. The standard deviation of the data is probably very close to 0. \n",
      "  warnings.warn(\n",
      "/home/jaeserrr/anaconda3/envs/drum/lib/python3.11/site-packages/sklearn/preprocessing/_data.py:247: UserWarning: Numerical issues were encountered when centering the data and might not be solved. Dataset may contain too large values. You may need to prescale your features.\n",
      "  warnings.warn(\n",
      "/home/jaeserrr/anaconda3/envs/drum/lib/python3.11/site-packages/sklearn/preprocessing/_data.py:266: UserWarning: Numerical issues were encountered when scaling the data and might not be solved. The standard deviation of the data is probably very close to 0. \n",
      "  warnings.warn(\n",
      "/home/jaeserrr/anaconda3/envs/drum/lib/python3.11/site-packages/sklearn/preprocessing/_data.py:247: UserWarning: Numerical issues were encountered when centering the data and might not be solved. Dataset may contain too large values. You may need to prescale your features.\n",
      "  warnings.warn(\n",
      "/home/jaeserrr/anaconda3/envs/drum/lib/python3.11/site-packages/sklearn/preprocessing/_data.py:266: UserWarning: Numerical issues were encountered when scaling the data and might not be solved. The standard deviation of the data is probably very close to 0. \n",
      "  warnings.warn(\n"
     ]
    },
    {
     "name": "stdout",
     "output_type": "stream",
     "text": [
      "file name : ../data/wavs/train/Bass Sample 29.wav , length: 2.0 secs,  mfccs: (100, 20)\n",
      "file name : ../data/wavs/train/Bass Sample 3.wav , length: 2.0 secs,  mfccs: (100, 20)\n",
      "file name : ../data/wavs/train/Bass Sample 30.wav , length: 2.0 secs,  mfccs: (100, 20)\n",
      "file name : ../data/wavs/train/Bass Sample 31.wav , length: 2.0 secs,  mfccs: (100, 20)\n",
      "file name : ../data/wavs/train/Bass Sample 32.wav , length: 2.0 secs,  mfccs: (100, 20)\n"
     ]
    },
    {
     "name": "stderr",
     "output_type": "stream",
     "text": [
      "/home/jaeserrr/anaconda3/envs/drum/lib/python3.11/site-packages/sklearn/preprocessing/_data.py:247: UserWarning: Numerical issues were encountered when centering the data and might not be solved. Dataset may contain too large values. You may need to prescale your features.\n",
      "  warnings.warn(\n",
      "/home/jaeserrr/anaconda3/envs/drum/lib/python3.11/site-packages/sklearn/preprocessing/_data.py:266: UserWarning: Numerical issues were encountered when scaling the data and might not be solved. The standard deviation of the data is probably very close to 0. \n",
      "  warnings.warn(\n",
      "/home/jaeserrr/anaconda3/envs/drum/lib/python3.11/site-packages/sklearn/preprocessing/_data.py:247: UserWarning: Numerical issues were encountered when centering the data and might not be solved. Dataset may contain too large values. You may need to prescale your features.\n",
      "  warnings.warn(\n",
      "/home/jaeserrr/anaconda3/envs/drum/lib/python3.11/site-packages/sklearn/preprocessing/_data.py:266: UserWarning: Numerical issues were encountered when scaling the data and might not be solved. The standard deviation of the data is probably very close to 0. \n",
      "  warnings.warn(\n",
      "/home/jaeserrr/anaconda3/envs/drum/lib/python3.11/site-packages/sklearn/preprocessing/_data.py:247: UserWarning: Numerical issues were encountered when centering the data and might not be solved. Dataset may contain too large values. You may need to prescale your features.\n",
      "  warnings.warn(\n",
      "/home/jaeserrr/anaconda3/envs/drum/lib/python3.11/site-packages/sklearn/preprocessing/_data.py:266: UserWarning: Numerical issues were encountered when scaling the data and might not be solved. The standard deviation of the data is probably very close to 0. \n",
      "  warnings.warn(\n",
      "/home/jaeserrr/anaconda3/envs/drum/lib/python3.11/site-packages/sklearn/preprocessing/_data.py:247: UserWarning: Numerical issues were encountered when centering the data and might not be solved. Dataset may contain too large values. You may need to prescale your features.\n",
      "  warnings.warn(\n",
      "/home/jaeserrr/anaconda3/envs/drum/lib/python3.11/site-packages/sklearn/preprocessing/_data.py:266: UserWarning: Numerical issues were encountered when scaling the data and might not be solved. The standard deviation of the data is probably very close to 0. \n",
      "  warnings.warn(\n"
     ]
    },
    {
     "name": "stdout",
     "output_type": "stream",
     "text": [
      "file name : ../data/wavs/train/Bass Sample 33.wav , length: 2.0 secs,  mfccs: (100, 20)\n",
      "file name : ../data/wavs/train/Bass Sample 34.wav , length: 2.0 secs,  mfccs: (100, 20)\n",
      "file name : ../data/wavs/train/Bass Sample 35.wav , length: 2.0 secs,  mfccs: (100, 20)\n"
     ]
    },
    {
     "name": "stderr",
     "output_type": "stream",
     "text": [
      "/home/jaeserrr/anaconda3/envs/drum/lib/python3.11/site-packages/sklearn/preprocessing/_data.py:247: UserWarning: Numerical issues were encountered when centering the data and might not be solved. Dataset may contain too large values. You may need to prescale your features.\n",
      "  warnings.warn(\n",
      "/home/jaeserrr/anaconda3/envs/drum/lib/python3.11/site-packages/sklearn/preprocessing/_data.py:266: UserWarning: Numerical issues were encountered when scaling the data and might not be solved. The standard deviation of the data is probably very close to 0. \n",
      "  warnings.warn(\n",
      "/home/jaeserrr/anaconda3/envs/drum/lib/python3.11/site-packages/sklearn/preprocessing/_data.py:247: UserWarning: Numerical issues were encountered when centering the data and might not be solved. Dataset may contain too large values. You may need to prescale your features.\n",
      "  warnings.warn(\n",
      "/home/jaeserrr/anaconda3/envs/drum/lib/python3.11/site-packages/sklearn/preprocessing/_data.py:266: UserWarning: Numerical issues were encountered when scaling the data and might not be solved. The standard deviation of the data is probably very close to 0. \n",
      "  warnings.warn(\n",
      "/home/jaeserrr/anaconda3/envs/drum/lib/python3.11/site-packages/sklearn/preprocessing/_data.py:247: UserWarning: Numerical issues were encountered when centering the data and might not be solved. Dataset may contain too large values. You may need to prescale your features.\n",
      "  warnings.warn(\n",
      "/home/jaeserrr/anaconda3/envs/drum/lib/python3.11/site-packages/sklearn/preprocessing/_data.py:266: UserWarning: Numerical issues were encountered when scaling the data and might not be solved. The standard deviation of the data is probably very close to 0. \n",
      "  warnings.warn(\n"
     ]
    },
    {
     "name": "stdout",
     "output_type": "stream",
     "text": [
      "file name : ../data/wavs/train/Bass Sample 36.wav , length: 2.0 secs,  mfccs: (100, 20)\n",
      "file name : ../data/wavs/train/Bass Sample 37.wav , length: 2.0 secs,  mfccs: (100, 20)\n",
      "file name : ../data/wavs/train/Bass Sample 38.wav , length: 2.0 secs,  mfccs: (100, 20)\n",
      "file name : ../data/wavs/train/Bass Sample 39.wav , length: 2.0 secs,  mfccs: (100, 20)\n",
      "file name : ../data/wavs/train/Bass Sample 4.wav , length: 2.0 secs,  mfccs: (100, 20)\n"
     ]
    },
    {
     "name": "stderr",
     "output_type": "stream",
     "text": [
      "/home/jaeserrr/anaconda3/envs/drum/lib/python3.11/site-packages/sklearn/preprocessing/_data.py:247: UserWarning: Numerical issues were encountered when centering the data and might not be solved. Dataset may contain too large values. You may need to prescale your features.\n",
      "  warnings.warn(\n",
      "/home/jaeserrr/anaconda3/envs/drum/lib/python3.11/site-packages/sklearn/preprocessing/_data.py:266: UserWarning: Numerical issues were encountered when scaling the data and might not be solved. The standard deviation of the data is probably very close to 0. \n",
      "  warnings.warn(\n",
      "/home/jaeserrr/anaconda3/envs/drum/lib/python3.11/site-packages/sklearn/preprocessing/_data.py:247: UserWarning: Numerical issues were encountered when centering the data and might not be solved. Dataset may contain too large values. You may need to prescale your features.\n",
      "  warnings.warn(\n",
      "/home/jaeserrr/anaconda3/envs/drum/lib/python3.11/site-packages/sklearn/preprocessing/_data.py:266: UserWarning: Numerical issues were encountered when scaling the data and might not be solved. The standard deviation of the data is probably very close to 0. \n",
      "  warnings.warn(\n",
      "/home/jaeserrr/anaconda3/envs/drum/lib/python3.11/site-packages/sklearn/preprocessing/_data.py:247: UserWarning: Numerical issues were encountered when centering the data and might not be solved. Dataset may contain too large values. You may need to prescale your features.\n",
      "  warnings.warn(\n",
      "/home/jaeserrr/anaconda3/envs/drum/lib/python3.11/site-packages/sklearn/preprocessing/_data.py:266: UserWarning: Numerical issues were encountered when scaling the data and might not be solved. The standard deviation of the data is probably very close to 0. \n",
      "  warnings.warn(\n",
      "/home/jaeserrr/anaconda3/envs/drum/lib/python3.11/site-packages/sklearn/preprocessing/_data.py:247: UserWarning: Numerical issues were encountered when centering the data and might not be solved. Dataset may contain too large values. You may need to prescale your features.\n",
      "  warnings.warn(\n",
      "/home/jaeserrr/anaconda3/envs/drum/lib/python3.11/site-packages/sklearn/preprocessing/_data.py:266: UserWarning: Numerical issues were encountered when scaling the data and might not be solved. The standard deviation of the data is probably very close to 0. \n",
      "  warnings.warn(\n"
     ]
    },
    {
     "name": "stdout",
     "output_type": "stream",
     "text": [
      "file name : ../data/wavs/train/Bass Sample 40.wav , length: 2.0 secs,  mfccs: (100, 20)\n",
      "file name : ../data/wavs/train/Bass Sample 5.wav , length: 2.0 secs,  mfccs: (100, 20)\n",
      "file name : ../data/wavs/train/Bass Sample 6.wav , length: 2.0 secs,  mfccs: (100, 20)\n",
      "file name : ../data/wavs/train/Bass Sample 7.wav , length: 2.0 secs,  mfccs: (100, 20)\n"
     ]
    },
    {
     "name": "stderr",
     "output_type": "stream",
     "text": [
      "/home/jaeserrr/anaconda3/envs/drum/lib/python3.11/site-packages/sklearn/preprocessing/_data.py:247: UserWarning: Numerical issues were encountered when centering the data and might not be solved. Dataset may contain too large values. You may need to prescale your features.\n",
      "  warnings.warn(\n",
      "/home/jaeserrr/anaconda3/envs/drum/lib/python3.11/site-packages/sklearn/preprocessing/_data.py:266: UserWarning: Numerical issues were encountered when scaling the data and might not be solved. The standard deviation of the data is probably very close to 0. \n",
      "  warnings.warn(\n",
      "/home/jaeserrr/anaconda3/envs/drum/lib/python3.11/site-packages/sklearn/preprocessing/_data.py:247: UserWarning: Numerical issues were encountered when centering the data and might not be solved. Dataset may contain too large values. You may need to prescale your features.\n",
      "  warnings.warn(\n",
      "/home/jaeserrr/anaconda3/envs/drum/lib/python3.11/site-packages/sklearn/preprocessing/_data.py:266: UserWarning: Numerical issues were encountered when scaling the data and might not be solved. The standard deviation of the data is probably very close to 0. \n",
      "  warnings.warn(\n",
      "/home/jaeserrr/anaconda3/envs/drum/lib/python3.11/site-packages/sklearn/preprocessing/_data.py:247: UserWarning: Numerical issues were encountered when centering the data and might not be solved. Dataset may contain too large values. You may need to prescale your features.\n",
      "  warnings.warn(\n",
      "/home/jaeserrr/anaconda3/envs/drum/lib/python3.11/site-packages/sklearn/preprocessing/_data.py:266: UserWarning: Numerical issues were encountered when scaling the data and might not be solved. The standard deviation of the data is probably very close to 0. \n",
      "  warnings.warn(\n",
      "/home/jaeserrr/anaconda3/envs/drum/lib/python3.11/site-packages/sklearn/preprocessing/_data.py:247: UserWarning: Numerical issues were encountered when centering the data and might not be solved. Dataset may contain too large values. You may need to prescale your features.\n",
      "  warnings.warn(\n",
      "/home/jaeserrr/anaconda3/envs/drum/lib/python3.11/site-packages/sklearn/preprocessing/_data.py:266: UserWarning: Numerical issues were encountered when scaling the data and might not be solved. The standard deviation of the data is probably very close to 0. \n",
      "  warnings.warn(\n"
     ]
    },
    {
     "name": "stdout",
     "output_type": "stream",
     "text": [
      "file name : ../data/wavs/train/Bass Sample 8.wav , length: 2.0 secs,  mfccs: (100, 20)\n",
      "file name : ../data/wavs/train/Bass Sample 9.wav , length: 2.0 secs,  mfccs: (100, 20)\n",
      "file name : ../data/wavs/train/Overhead Sample 1.wav , length: 2.0 secs,  mfccs: (100, 20)\n",
      "file name : ../data/wavs/train/Overhead Sample 10.wav , length: 2.0 secs,  mfccs: (100, 20)\n",
      "file name : ../data/wavs/train/Overhead Sample 11.wav , length: 2.0 secs,  mfccs: (100, 20)\n"
     ]
    },
    {
     "name": "stderr",
     "output_type": "stream",
     "text": [
      "/home/jaeserrr/anaconda3/envs/drum/lib/python3.11/site-packages/sklearn/preprocessing/_data.py:247: UserWarning: Numerical issues were encountered when centering the data and might not be solved. Dataset may contain too large values. You may need to prescale your features.\n",
      "  warnings.warn(\n",
      "/home/jaeserrr/anaconda3/envs/drum/lib/python3.11/site-packages/sklearn/preprocessing/_data.py:266: UserWarning: Numerical issues were encountered when scaling the data and might not be solved. The standard deviation of the data is probably very close to 0. \n",
      "  warnings.warn(\n",
      "/home/jaeserrr/anaconda3/envs/drum/lib/python3.11/site-packages/sklearn/preprocessing/_data.py:247: UserWarning: Numerical issues were encountered when centering the data and might not be solved. Dataset may contain too large values. You may need to prescale your features.\n",
      "  warnings.warn(\n",
      "/home/jaeserrr/anaconda3/envs/drum/lib/python3.11/site-packages/sklearn/preprocessing/_data.py:266: UserWarning: Numerical issues were encountered when scaling the data and might not be solved. The standard deviation of the data is probably very close to 0. \n",
      "  warnings.warn(\n",
      "/home/jaeserrr/anaconda3/envs/drum/lib/python3.11/site-packages/sklearn/preprocessing/_data.py:247: UserWarning: Numerical issues were encountered when centering the data and might not be solved. Dataset may contain too large values. You may need to prescale your features.\n",
      "  warnings.warn(\n",
      "/home/jaeserrr/anaconda3/envs/drum/lib/python3.11/site-packages/sklearn/preprocessing/_data.py:266: UserWarning: Numerical issues were encountered when scaling the data and might not be solved. The standard deviation of the data is probably very close to 0. \n",
      "  warnings.warn(\n",
      "/home/jaeserrr/anaconda3/envs/drum/lib/python3.11/site-packages/sklearn/preprocessing/_data.py:247: UserWarning: Numerical issues were encountered when centering the data and might not be solved. Dataset may contain too large values. You may need to prescale your features.\n",
      "  warnings.warn(\n",
      "/home/jaeserrr/anaconda3/envs/drum/lib/python3.11/site-packages/sklearn/preprocessing/_data.py:266: UserWarning: Numerical issues were encountered when scaling the data and might not be solved. The standard deviation of the data is probably very close to 0. \n",
      "  warnings.warn(\n",
      "/home/jaeserrr/anaconda3/envs/drum/lib/python3.11/site-packages/sklearn/preprocessing/_data.py:247: UserWarning: Numerical issues were encountered when centering the data and might not be solved. Dataset may contain too large values. You may need to prescale your features.\n",
      "  warnings.warn(\n",
      "/home/jaeserrr/anaconda3/envs/drum/lib/python3.11/site-packages/sklearn/preprocessing/_data.py:266: UserWarning: Numerical issues were encountered when scaling the data and might not be solved. The standard deviation of the data is probably very close to 0. \n",
      "  warnings.warn(\n"
     ]
    },
    {
     "name": "stdout",
     "output_type": "stream",
     "text": [
      "file name : ../data/wavs/train/Overhead Sample 12.wav , length: 2.0 secs,  mfccs: (100, 20)\n",
      "file name : ../data/wavs/train/Overhead Sample 13.wav , length: 2.0 secs,  mfccs: (100, 20)\n",
      "file name : ../data/wavs/train/Overhead Sample 14.wav , length: 2.0 secs,  mfccs: (100, 20)\n",
      "file name : ../data/wavs/train/Overhead Sample 15.wav , length: 2.0 secs,  mfccs: (100, 20)\n",
      "file name : ../data/wavs/train/Overhead Sample 16.wav , length: 2.0 secs,  mfccs: (100, 20)\n"
     ]
    },
    {
     "name": "stderr",
     "output_type": "stream",
     "text": [
      "/home/jaeserrr/anaconda3/envs/drum/lib/python3.11/site-packages/sklearn/preprocessing/_data.py:247: UserWarning: Numerical issues were encountered when centering the data and might not be solved. Dataset may contain too large values. You may need to prescale your features.\n",
      "  warnings.warn(\n",
      "/home/jaeserrr/anaconda3/envs/drum/lib/python3.11/site-packages/sklearn/preprocessing/_data.py:266: UserWarning: Numerical issues were encountered when scaling the data and might not be solved. The standard deviation of the data is probably very close to 0. \n",
      "  warnings.warn(\n",
      "/home/jaeserrr/anaconda3/envs/drum/lib/python3.11/site-packages/sklearn/preprocessing/_data.py:247: UserWarning: Numerical issues were encountered when centering the data and might not be solved. Dataset may contain too large values. You may need to prescale your features.\n",
      "  warnings.warn(\n",
      "/home/jaeserrr/anaconda3/envs/drum/lib/python3.11/site-packages/sklearn/preprocessing/_data.py:266: UserWarning: Numerical issues were encountered when scaling the data and might not be solved. The standard deviation of the data is probably very close to 0. \n",
      "  warnings.warn(\n",
      "/home/jaeserrr/anaconda3/envs/drum/lib/python3.11/site-packages/sklearn/preprocessing/_data.py:247: UserWarning: Numerical issues were encountered when centering the data and might not be solved. Dataset may contain too large values. You may need to prescale your features.\n",
      "  warnings.warn(\n",
      "/home/jaeserrr/anaconda3/envs/drum/lib/python3.11/site-packages/sklearn/preprocessing/_data.py:266: UserWarning: Numerical issues were encountered when scaling the data and might not be solved. The standard deviation of the data is probably very close to 0. \n",
      "  warnings.warn(\n",
      "/home/jaeserrr/anaconda3/envs/drum/lib/python3.11/site-packages/sklearn/preprocessing/_data.py:247: UserWarning: Numerical issues were encountered when centering the data and might not be solved. Dataset may contain too large values. You may need to prescale your features.\n",
      "  warnings.warn(\n",
      "/home/jaeserrr/anaconda3/envs/drum/lib/python3.11/site-packages/sklearn/preprocessing/_data.py:266: UserWarning: Numerical issues were encountered when scaling the data and might not be solved. The standard deviation of the data is probably very close to 0. \n",
      "  warnings.warn(\n",
      "/home/jaeserrr/anaconda3/envs/drum/lib/python3.11/site-packages/sklearn/preprocessing/_data.py:247: UserWarning: Numerical issues were encountered when centering the data and might not be solved. Dataset may contain too large values. You may need to prescale your features.\n",
      "  warnings.warn(\n",
      "/home/jaeserrr/anaconda3/envs/drum/lib/python3.11/site-packages/sklearn/preprocessing/_data.py:266: UserWarning: Numerical issues were encountered when scaling the data and might not be solved. The standard deviation of the data is probably very close to 0. \n",
      "  warnings.warn(\n"
     ]
    },
    {
     "name": "stdout",
     "output_type": "stream",
     "text": [
      "file name : ../data/wavs/train/Overhead Sample 17.wav , length: 2.0 secs,  mfccs: (100, 20)\n",
      "file name : ../data/wavs/train/Overhead Sample 18.wav , length: 2.0 secs,  mfccs: (100, 20)\n",
      "file name : ../data/wavs/train/Overhead Sample 19.wav , length: 2.0 secs,  mfccs: (100, 20)\n",
      "file name : ../data/wavs/train/Overhead Sample 2.wav , length: 2.0 secs,  mfccs: (100, 20)\n",
      "file name : ../data/wavs/train/Overhead Sample 20.wav , length: 2.0 secs,  mfccs: (100, 20)\n"
     ]
    },
    {
     "name": "stderr",
     "output_type": "stream",
     "text": [
      "/home/jaeserrr/anaconda3/envs/drum/lib/python3.11/site-packages/sklearn/preprocessing/_data.py:247: UserWarning: Numerical issues were encountered when centering the data and might not be solved. Dataset may contain too large values. You may need to prescale your features.\n",
      "  warnings.warn(\n",
      "/home/jaeserrr/anaconda3/envs/drum/lib/python3.11/site-packages/sklearn/preprocessing/_data.py:266: UserWarning: Numerical issues were encountered when scaling the data and might not be solved. The standard deviation of the data is probably very close to 0. \n",
      "  warnings.warn(\n",
      "/home/jaeserrr/anaconda3/envs/drum/lib/python3.11/site-packages/sklearn/preprocessing/_data.py:247: UserWarning: Numerical issues were encountered when centering the data and might not be solved. Dataset may contain too large values. You may need to prescale your features.\n",
      "  warnings.warn(\n",
      "/home/jaeserrr/anaconda3/envs/drum/lib/python3.11/site-packages/sklearn/preprocessing/_data.py:266: UserWarning: Numerical issues were encountered when scaling the data and might not be solved. The standard deviation of the data is probably very close to 0. \n",
      "  warnings.warn(\n",
      "/home/jaeserrr/anaconda3/envs/drum/lib/python3.11/site-packages/sklearn/preprocessing/_data.py:247: UserWarning: Numerical issues were encountered when centering the data and might not be solved. Dataset may contain too large values. You may need to prescale your features.\n",
      "  warnings.warn(\n",
      "/home/jaeserrr/anaconda3/envs/drum/lib/python3.11/site-packages/sklearn/preprocessing/_data.py:266: UserWarning: Numerical issues were encountered when scaling the data and might not be solved. The standard deviation of the data is probably very close to 0. \n",
      "  warnings.warn(\n",
      "/home/jaeserrr/anaconda3/envs/drum/lib/python3.11/site-packages/sklearn/preprocessing/_data.py:247: UserWarning: Numerical issues were encountered when centering the data and might not be solved. Dataset may contain too large values. You may need to prescale your features.\n",
      "  warnings.warn(\n",
      "/home/jaeserrr/anaconda3/envs/drum/lib/python3.11/site-packages/sklearn/preprocessing/_data.py:266: UserWarning: Numerical issues were encountered when scaling the data and might not be solved. The standard deviation of the data is probably very close to 0. \n",
      "  warnings.warn(\n",
      "/home/jaeserrr/anaconda3/envs/drum/lib/python3.11/site-packages/sklearn/preprocessing/_data.py:247: UserWarning: Numerical issues were encountered when centering the data and might not be solved. Dataset may contain too large values. You may need to prescale your features.\n",
      "  warnings.warn(\n",
      "/home/jaeserrr/anaconda3/envs/drum/lib/python3.11/site-packages/sklearn/preprocessing/_data.py:266: UserWarning: Numerical issues were encountered when scaling the data and might not be solved. The standard deviation of the data is probably very close to 0. \n",
      "  warnings.warn(\n",
      "/home/jaeserrr/anaconda3/envs/drum/lib/python3.11/site-packages/sklearn/preprocessing/_data.py:247: UserWarning: Numerical issues were encountered when centering the data and might not be solved. Dataset may contain too large values. You may need to prescale your features.\n",
      "  warnings.warn(\n",
      "/home/jaeserrr/anaconda3/envs/drum/lib/python3.11/site-packages/sklearn/preprocessing/_data.py:266: UserWarning: Numerical issues were encountered when scaling the data and might not be solved. The standard deviation of the data is probably very close to 0. \n",
      "  warnings.warn(\n"
     ]
    },
    {
     "name": "stdout",
     "output_type": "stream",
     "text": [
      "file name : ../data/wavs/train/Overhead Sample 21.wav , length: 2.0 secs,  mfccs: (100, 20)\n",
      "file name : ../data/wavs/train/Overhead Sample 22.wav , length: 2.0 secs,  mfccs: (100, 20)\n"
     ]
    },
    {
     "name": "stderr",
     "output_type": "stream",
     "text": [
      "/home/jaeserrr/anaconda3/envs/drum/lib/python3.11/site-packages/sklearn/preprocessing/_data.py:247: UserWarning: Numerical issues were encountered when centering the data and might not be solved. Dataset may contain too large values. You may need to prescale your features.\n",
      "  warnings.warn(\n",
      "/home/jaeserrr/anaconda3/envs/drum/lib/python3.11/site-packages/sklearn/preprocessing/_data.py:266: UserWarning: Numerical issues were encountered when scaling the data and might not be solved. The standard deviation of the data is probably very close to 0. \n",
      "  warnings.warn(\n",
      "/home/jaeserrr/anaconda3/envs/drum/lib/python3.11/site-packages/sklearn/preprocessing/_data.py:247: UserWarning: Numerical issues were encountered when centering the data and might not be solved. Dataset may contain too large values. You may need to prescale your features.\n",
      "  warnings.warn(\n",
      "/home/jaeserrr/anaconda3/envs/drum/lib/python3.11/site-packages/sklearn/preprocessing/_data.py:266: UserWarning: Numerical issues were encountered when scaling the data and might not be solved. The standard deviation of the data is probably very close to 0. \n",
      "  warnings.warn(\n",
      "/home/jaeserrr/anaconda3/envs/drum/lib/python3.11/site-packages/sklearn/preprocessing/_data.py:247: UserWarning: Numerical issues were encountered when centering the data and might not be solved. Dataset may contain too large values. You may need to prescale your features.\n",
      "  warnings.warn(\n",
      "/home/jaeserrr/anaconda3/envs/drum/lib/python3.11/site-packages/sklearn/preprocessing/_data.py:266: UserWarning: Numerical issues were encountered when scaling the data and might not be solved. The standard deviation of the data is probably very close to 0. \n",
      "  warnings.warn(\n",
      "/home/jaeserrr/anaconda3/envs/drum/lib/python3.11/site-packages/sklearn/preprocessing/_data.py:247: UserWarning: Numerical issues were encountered when centering the data and might not be solved. Dataset may contain too large values. You may need to prescale your features.\n",
      "  warnings.warn(\n",
      "/home/jaeserrr/anaconda3/envs/drum/lib/python3.11/site-packages/sklearn/preprocessing/_data.py:266: UserWarning: Numerical issues were encountered when scaling the data and might not be solved. The standard deviation of the data is probably very close to 0. \n",
      "  warnings.warn(\n"
     ]
    },
    {
     "name": "stdout",
     "output_type": "stream",
     "text": [
      "file name : ../data/wavs/train/Overhead Sample 23.wav , length: 2.0 secs,  mfccs: (100, 20)\n",
      "file name : ../data/wavs/train/Overhead Sample 24.wav , length: 2.0 secs,  mfccs: (100, 20)\n",
      "file name : ../data/wavs/train/Overhead Sample 25.wav , length: 2.0 secs,  mfccs: (100, 20)\n",
      "file name : ../data/wavs/train/Overhead Sample 26.wav , length: 2.0 secs,  mfccs: (100, 20)\n"
     ]
    },
    {
     "name": "stderr",
     "output_type": "stream",
     "text": [
      "/home/jaeserrr/anaconda3/envs/drum/lib/python3.11/site-packages/sklearn/preprocessing/_data.py:247: UserWarning: Numerical issues were encountered when centering the data and might not be solved. Dataset may contain too large values. You may need to prescale your features.\n",
      "  warnings.warn(\n",
      "/home/jaeserrr/anaconda3/envs/drum/lib/python3.11/site-packages/sklearn/preprocessing/_data.py:266: UserWarning: Numerical issues were encountered when scaling the data and might not be solved. The standard deviation of the data is probably very close to 0. \n",
      "  warnings.warn(\n",
      "/home/jaeserrr/anaconda3/envs/drum/lib/python3.11/site-packages/sklearn/preprocessing/_data.py:247: UserWarning: Numerical issues were encountered when centering the data and might not be solved. Dataset may contain too large values. You may need to prescale your features.\n",
      "  warnings.warn(\n",
      "/home/jaeserrr/anaconda3/envs/drum/lib/python3.11/site-packages/sklearn/preprocessing/_data.py:266: UserWarning: Numerical issues were encountered when scaling the data and might not be solved. The standard deviation of the data is probably very close to 0. \n",
      "  warnings.warn(\n",
      "/home/jaeserrr/anaconda3/envs/drum/lib/python3.11/site-packages/sklearn/preprocessing/_data.py:247: UserWarning: Numerical issues were encountered when centering the data and might not be solved. Dataset may contain too large values. You may need to prescale your features.\n",
      "  warnings.warn(\n",
      "/home/jaeserrr/anaconda3/envs/drum/lib/python3.11/site-packages/sklearn/preprocessing/_data.py:266: UserWarning: Numerical issues were encountered when scaling the data and might not be solved. The standard deviation of the data is probably very close to 0. \n",
      "  warnings.warn(\n",
      "/home/jaeserrr/anaconda3/envs/drum/lib/python3.11/site-packages/sklearn/preprocessing/_data.py:247: UserWarning: Numerical issues were encountered when centering the data and might not be solved. Dataset may contain too large values. You may need to prescale your features.\n",
      "  warnings.warn(\n",
      "/home/jaeserrr/anaconda3/envs/drum/lib/python3.11/site-packages/sklearn/preprocessing/_data.py:266: UserWarning: Numerical issues were encountered when scaling the data and might not be solved. The standard deviation of the data is probably very close to 0. \n",
      "  warnings.warn(\n"
     ]
    },
    {
     "name": "stdout",
     "output_type": "stream",
     "text": [
      "file name : ../data/wavs/train/Overhead Sample 27.wav , length: 2.0 secs,  mfccs: (100, 20)\n",
      "file name : ../data/wavs/train/Overhead Sample 28.wav , length: 2.0 secs,  mfccs: (100, 20)\n",
      "file name : ../data/wavs/train/Overhead Sample 29.wav , length: 2.0 secs,  mfccs: (100, 20)\n",
      "file name : ../data/wavs/train/Overhead Sample 3.wav , length: 2.0 secs,  mfccs: (100, 20)\n"
     ]
    },
    {
     "name": "stderr",
     "output_type": "stream",
     "text": [
      "/home/jaeserrr/anaconda3/envs/drum/lib/python3.11/site-packages/sklearn/preprocessing/_data.py:247: UserWarning: Numerical issues were encountered when centering the data and might not be solved. Dataset may contain too large values. You may need to prescale your features.\n",
      "  warnings.warn(\n",
      "/home/jaeserrr/anaconda3/envs/drum/lib/python3.11/site-packages/sklearn/preprocessing/_data.py:266: UserWarning: Numerical issues were encountered when scaling the data and might not be solved. The standard deviation of the data is probably very close to 0. \n",
      "  warnings.warn(\n",
      "/home/jaeserrr/anaconda3/envs/drum/lib/python3.11/site-packages/sklearn/preprocessing/_data.py:247: UserWarning: Numerical issues were encountered when centering the data and might not be solved. Dataset may contain too large values. You may need to prescale your features.\n",
      "  warnings.warn(\n",
      "/home/jaeserrr/anaconda3/envs/drum/lib/python3.11/site-packages/sklearn/preprocessing/_data.py:266: UserWarning: Numerical issues were encountered when scaling the data and might not be solved. The standard deviation of the data is probably very close to 0. \n",
      "  warnings.warn(\n",
      "/home/jaeserrr/anaconda3/envs/drum/lib/python3.11/site-packages/sklearn/preprocessing/_data.py:247: UserWarning: Numerical issues were encountered when centering the data and might not be solved. Dataset may contain too large values. You may need to prescale your features.\n",
      "  warnings.warn(\n",
      "/home/jaeserrr/anaconda3/envs/drum/lib/python3.11/site-packages/sklearn/preprocessing/_data.py:266: UserWarning: Numerical issues were encountered when scaling the data and might not be solved. The standard deviation of the data is probably very close to 0. \n",
      "  warnings.warn(\n",
      "/home/jaeserrr/anaconda3/envs/drum/lib/python3.11/site-packages/sklearn/preprocessing/_data.py:247: UserWarning: Numerical issues were encountered when centering the data and might not be solved. Dataset may contain too large values. You may need to prescale your features.\n",
      "  warnings.warn(\n",
      "/home/jaeserrr/anaconda3/envs/drum/lib/python3.11/site-packages/sklearn/preprocessing/_data.py:266: UserWarning: Numerical issues were encountered when scaling the data and might not be solved. The standard deviation of the data is probably very close to 0. \n",
      "  warnings.warn(\n"
     ]
    },
    {
     "name": "stdout",
     "output_type": "stream",
     "text": [
      "file name : ../data/wavs/train/Overhead Sample 30.wav , length: 2.0 secs,  mfccs: (100, 20)\n",
      "file name : ../data/wavs/train/Overhead Sample 31.wav , length: 2.0 secs,  mfccs: (100, 20)\n",
      "file name : ../data/wavs/train/Overhead Sample 32.wav , length: 2.0 secs,  mfccs: (100, 20)\n",
      "file name : ../data/wavs/train/Overhead Sample 33.wav , length: 2.0 secs,  mfccs: (100, 20)\n"
     ]
    },
    {
     "name": "stderr",
     "output_type": "stream",
     "text": [
      "/home/jaeserrr/anaconda3/envs/drum/lib/python3.11/site-packages/sklearn/preprocessing/_data.py:247: UserWarning: Numerical issues were encountered when centering the data and might not be solved. Dataset may contain too large values. You may need to prescale your features.\n",
      "  warnings.warn(\n",
      "/home/jaeserrr/anaconda3/envs/drum/lib/python3.11/site-packages/sklearn/preprocessing/_data.py:266: UserWarning: Numerical issues were encountered when scaling the data and might not be solved. The standard deviation of the data is probably very close to 0. \n",
      "  warnings.warn(\n",
      "/home/jaeserrr/anaconda3/envs/drum/lib/python3.11/site-packages/sklearn/preprocessing/_data.py:247: UserWarning: Numerical issues were encountered when centering the data and might not be solved. Dataset may contain too large values. You may need to prescale your features.\n",
      "  warnings.warn(\n",
      "/home/jaeserrr/anaconda3/envs/drum/lib/python3.11/site-packages/sklearn/preprocessing/_data.py:266: UserWarning: Numerical issues were encountered when scaling the data and might not be solved. The standard deviation of the data is probably very close to 0. \n",
      "  warnings.warn(\n",
      "/home/jaeserrr/anaconda3/envs/drum/lib/python3.11/site-packages/sklearn/preprocessing/_data.py:247: UserWarning: Numerical issues were encountered when centering the data and might not be solved. Dataset may contain too large values. You may need to prescale your features.\n",
      "  warnings.warn(\n",
      "/home/jaeserrr/anaconda3/envs/drum/lib/python3.11/site-packages/sklearn/preprocessing/_data.py:266: UserWarning: Numerical issues were encountered when scaling the data and might not be solved. The standard deviation of the data is probably very close to 0. \n",
      "  warnings.warn(\n",
      "/home/jaeserrr/anaconda3/envs/drum/lib/python3.11/site-packages/sklearn/preprocessing/_data.py:247: UserWarning: Numerical issues were encountered when centering the data and might not be solved. Dataset may contain too large values. You may need to prescale your features.\n",
      "  warnings.warn(\n",
      "/home/jaeserrr/anaconda3/envs/drum/lib/python3.11/site-packages/sklearn/preprocessing/_data.py:266: UserWarning: Numerical issues were encountered when scaling the data and might not be solved. The standard deviation of the data is probably very close to 0. \n",
      "  warnings.warn(\n"
     ]
    },
    {
     "name": "stdout",
     "output_type": "stream",
     "text": [
      "file name : ../data/wavs/train/Overhead Sample 34.wav , length: 2.0 secs,  mfccs: (100, 20)\n",
      "file name : ../data/wavs/train/Overhead Sample 35.wav , length: 2.0 secs,  mfccs: (100, 20)\n",
      "file name : ../data/wavs/train/Overhead Sample 36.wav , length: 2.0 secs,  mfccs: (100, 20)\n",
      "file name : ../data/wavs/train/Overhead Sample 37.wav , length: 2.0 secs,  mfccs: (100, 20)\n"
     ]
    },
    {
     "name": "stderr",
     "output_type": "stream",
     "text": [
      "/home/jaeserrr/anaconda3/envs/drum/lib/python3.11/site-packages/sklearn/preprocessing/_data.py:247: UserWarning: Numerical issues were encountered when centering the data and might not be solved. Dataset may contain too large values. You may need to prescale your features.\n",
      "  warnings.warn(\n",
      "/home/jaeserrr/anaconda3/envs/drum/lib/python3.11/site-packages/sklearn/preprocessing/_data.py:266: UserWarning: Numerical issues were encountered when scaling the data and might not be solved. The standard deviation of the data is probably very close to 0. \n",
      "  warnings.warn(\n",
      "/home/jaeserrr/anaconda3/envs/drum/lib/python3.11/site-packages/sklearn/preprocessing/_data.py:247: UserWarning: Numerical issues were encountered when centering the data and might not be solved. Dataset may contain too large values. You may need to prescale your features.\n",
      "  warnings.warn(\n",
      "/home/jaeserrr/anaconda3/envs/drum/lib/python3.11/site-packages/sklearn/preprocessing/_data.py:266: UserWarning: Numerical issues were encountered when scaling the data and might not be solved. The standard deviation of the data is probably very close to 0. \n",
      "  warnings.warn(\n",
      "/home/jaeserrr/anaconda3/envs/drum/lib/python3.11/site-packages/sklearn/preprocessing/_data.py:247: UserWarning: Numerical issues were encountered when centering the data and might not be solved. Dataset may contain too large values. You may need to prescale your features.\n",
      "  warnings.warn(\n",
      "/home/jaeserrr/anaconda3/envs/drum/lib/python3.11/site-packages/sklearn/preprocessing/_data.py:266: UserWarning: Numerical issues were encountered when scaling the data and might not be solved. The standard deviation of the data is probably very close to 0. \n",
      "  warnings.warn(\n",
      "/home/jaeserrr/anaconda3/envs/drum/lib/python3.11/site-packages/sklearn/preprocessing/_data.py:247: UserWarning: Numerical issues were encountered when centering the data and might not be solved. Dataset may contain too large values. You may need to prescale your features.\n",
      "  warnings.warn(\n",
      "/home/jaeserrr/anaconda3/envs/drum/lib/python3.11/site-packages/sklearn/preprocessing/_data.py:266: UserWarning: Numerical issues were encountered when scaling the data and might not be solved. The standard deviation of the data is probably very close to 0. \n",
      "  warnings.warn(\n"
     ]
    },
    {
     "name": "stdout",
     "output_type": "stream",
     "text": [
      "file name : ../data/wavs/train/Overhead Sample 38.wav , length: 2.0 secs,  mfccs: (100, 20)\n",
      "file name : ../data/wavs/train/Overhead Sample 39.wav , length: 2.0 secs,  mfccs: (100, 20)\n",
      "file name : ../data/wavs/train/Overhead Sample 4.wav , length: 2.0 secs,  mfccs: (100, 20)\n",
      "file name : ../data/wavs/train/Overhead Sample 40.wav , length: 2.0 secs,  mfccs: (100, 20)\n"
     ]
    },
    {
     "name": "stderr",
     "output_type": "stream",
     "text": [
      "/home/jaeserrr/anaconda3/envs/drum/lib/python3.11/site-packages/sklearn/preprocessing/_data.py:247: UserWarning: Numerical issues were encountered when centering the data and might not be solved. Dataset may contain too large values. You may need to prescale your features.\n",
      "  warnings.warn(\n",
      "/home/jaeserrr/anaconda3/envs/drum/lib/python3.11/site-packages/sklearn/preprocessing/_data.py:266: UserWarning: Numerical issues were encountered when scaling the data and might not be solved. The standard deviation of the data is probably very close to 0. \n",
      "  warnings.warn(\n",
      "/home/jaeserrr/anaconda3/envs/drum/lib/python3.11/site-packages/sklearn/preprocessing/_data.py:247: UserWarning: Numerical issues were encountered when centering the data and might not be solved. Dataset may contain too large values. You may need to prescale your features.\n",
      "  warnings.warn(\n",
      "/home/jaeserrr/anaconda3/envs/drum/lib/python3.11/site-packages/sklearn/preprocessing/_data.py:266: UserWarning: Numerical issues were encountered when scaling the data and might not be solved. The standard deviation of the data is probably very close to 0. \n",
      "  warnings.warn(\n",
      "/home/jaeserrr/anaconda3/envs/drum/lib/python3.11/site-packages/sklearn/preprocessing/_data.py:247: UserWarning: Numerical issues were encountered when centering the data and might not be solved. Dataset may contain too large values. You may need to prescale your features.\n",
      "  warnings.warn(\n",
      "/home/jaeserrr/anaconda3/envs/drum/lib/python3.11/site-packages/sklearn/preprocessing/_data.py:266: UserWarning: Numerical issues were encountered when scaling the data and might not be solved. The standard deviation of the data is probably very close to 0. \n",
      "  warnings.warn(\n",
      "/home/jaeserrr/anaconda3/envs/drum/lib/python3.11/site-packages/sklearn/preprocessing/_data.py:247: UserWarning: Numerical issues were encountered when centering the data and might not be solved. Dataset may contain too large values. You may need to prescale your features.\n",
      "  warnings.warn(\n",
      "/home/jaeserrr/anaconda3/envs/drum/lib/python3.11/site-packages/sklearn/preprocessing/_data.py:266: UserWarning: Numerical issues were encountered when scaling the data and might not be solved. The standard deviation of the data is probably very close to 0. \n",
      "  warnings.warn(\n"
     ]
    },
    {
     "name": "stdout",
     "output_type": "stream",
     "text": [
      "file name : ../data/wavs/train/Overhead Sample 5.wav , length: 2.0 secs,  mfccs: (100, 20)\n",
      "file name : ../data/wavs/train/Overhead Sample 6.wav , length: 2.0 secs,  mfccs: (100, 20)\n",
      "file name : ../data/wavs/train/Overhead Sample 7.wav , length: 2.0 secs,  mfccs: (100, 20)\n",
      "file name : ../data/wavs/train/Overhead Sample 8.wav , length: 2.0 secs,  mfccs: (100, 20)\n"
     ]
    },
    {
     "name": "stderr",
     "output_type": "stream",
     "text": [
      "/home/jaeserrr/anaconda3/envs/drum/lib/python3.11/site-packages/sklearn/preprocessing/_data.py:247: UserWarning: Numerical issues were encountered when centering the data and might not be solved. Dataset may contain too large values. You may need to prescale your features.\n",
      "  warnings.warn(\n",
      "/home/jaeserrr/anaconda3/envs/drum/lib/python3.11/site-packages/sklearn/preprocessing/_data.py:266: UserWarning: Numerical issues were encountered when scaling the data and might not be solved. The standard deviation of the data is probably very close to 0. \n",
      "  warnings.warn(\n",
      "/home/jaeserrr/anaconda3/envs/drum/lib/python3.11/site-packages/sklearn/preprocessing/_data.py:247: UserWarning: Numerical issues were encountered when centering the data and might not be solved. Dataset may contain too large values. You may need to prescale your features.\n",
      "  warnings.warn(\n",
      "/home/jaeserrr/anaconda3/envs/drum/lib/python3.11/site-packages/sklearn/preprocessing/_data.py:266: UserWarning: Numerical issues were encountered when scaling the data and might not be solved. The standard deviation of the data is probably very close to 0. \n",
      "  warnings.warn(\n",
      "/home/jaeserrr/anaconda3/envs/drum/lib/python3.11/site-packages/sklearn/preprocessing/_data.py:247: UserWarning: Numerical issues were encountered when centering the data and might not be solved. Dataset may contain too large values. You may need to prescale your features.\n",
      "  warnings.warn(\n",
      "/home/jaeserrr/anaconda3/envs/drum/lib/python3.11/site-packages/sklearn/preprocessing/_data.py:266: UserWarning: Numerical issues were encountered when scaling the data and might not be solved. The standard deviation of the data is probably very close to 0. \n",
      "  warnings.warn(\n"
     ]
    },
    {
     "name": "stdout",
     "output_type": "stream",
     "text": [
      "file name : ../data/wavs/train/Overhead Sample 9.wav , length: 2.0 secs,  mfccs: (100, 20)\n",
      "file name : ../data/wavs/train/Snare Sample 1.wav , length: 2.0 secs,  mfccs: (100, 20)\n",
      "file name : ../data/wavs/train/Snare Sample 10.wav , length: 2.0 secs,  mfccs: (100, 20)\n"
     ]
    },
    {
     "name": "stderr",
     "output_type": "stream",
     "text": [
      "/home/jaeserrr/anaconda3/envs/drum/lib/python3.11/site-packages/sklearn/preprocessing/_data.py:247: UserWarning: Numerical issues were encountered when centering the data and might not be solved. Dataset may contain too large values. You may need to prescale your features.\n",
      "  warnings.warn(\n",
      "/home/jaeserrr/anaconda3/envs/drum/lib/python3.11/site-packages/sklearn/preprocessing/_data.py:266: UserWarning: Numerical issues were encountered when scaling the data and might not be solved. The standard deviation of the data is probably very close to 0. \n",
      "  warnings.warn(\n",
      "/home/jaeserrr/anaconda3/envs/drum/lib/python3.11/site-packages/sklearn/preprocessing/_data.py:247: UserWarning: Numerical issues were encountered when centering the data and might not be solved. Dataset may contain too large values. You may need to prescale your features.\n",
      "  warnings.warn(\n",
      "/home/jaeserrr/anaconda3/envs/drum/lib/python3.11/site-packages/sklearn/preprocessing/_data.py:266: UserWarning: Numerical issues were encountered when scaling the data and might not be solved. The standard deviation of the data is probably very close to 0. \n",
      "  warnings.warn(\n",
      "/home/jaeserrr/anaconda3/envs/drum/lib/python3.11/site-packages/sklearn/preprocessing/_data.py:247: UserWarning: Numerical issues were encountered when centering the data and might not be solved. Dataset may contain too large values. You may need to prescale your features.\n",
      "  warnings.warn(\n",
      "/home/jaeserrr/anaconda3/envs/drum/lib/python3.11/site-packages/sklearn/preprocessing/_data.py:266: UserWarning: Numerical issues were encountered when scaling the data and might not be solved. The standard deviation of the data is probably very close to 0. \n",
      "  warnings.warn(\n"
     ]
    },
    {
     "name": "stdout",
     "output_type": "stream",
     "text": [
      "file name : ../data/wavs/train/Snare Sample 11.wav , length: 2.0 secs,  mfccs: (100, 20)\n",
      "file name : ../data/wavs/train/Snare Sample 12.wav , length: 2.0 secs,  mfccs: (100, 20)\n",
      "file name : ../data/wavs/train/Snare Sample 13.wav , length: 2.0 secs,  mfccs: (100, 20)\n"
     ]
    },
    {
     "name": "stderr",
     "output_type": "stream",
     "text": [
      "/home/jaeserrr/anaconda3/envs/drum/lib/python3.11/site-packages/sklearn/preprocessing/_data.py:247: UserWarning: Numerical issues were encountered when centering the data and might not be solved. Dataset may contain too large values. You may need to prescale your features.\n",
      "  warnings.warn(\n",
      "/home/jaeserrr/anaconda3/envs/drum/lib/python3.11/site-packages/sklearn/preprocessing/_data.py:266: UserWarning: Numerical issues were encountered when scaling the data and might not be solved. The standard deviation of the data is probably very close to 0. \n",
      "  warnings.warn(\n",
      "/home/jaeserrr/anaconda3/envs/drum/lib/python3.11/site-packages/sklearn/preprocessing/_data.py:247: UserWarning: Numerical issues were encountered when centering the data and might not be solved. Dataset may contain too large values. You may need to prescale your features.\n",
      "  warnings.warn(\n",
      "/home/jaeserrr/anaconda3/envs/drum/lib/python3.11/site-packages/sklearn/preprocessing/_data.py:266: UserWarning: Numerical issues were encountered when scaling the data and might not be solved. The standard deviation of the data is probably very close to 0. \n",
      "  warnings.warn(\n"
     ]
    },
    {
     "name": "stdout",
     "output_type": "stream",
     "text": [
      "file name : ../data/wavs/train/Snare Sample 14.wav , length: 2.0 secs,  mfccs: (100, 20)\n",
      "file name : ../data/wavs/train/Snare Sample 15.wav , length: 2.0 secs,  mfccs: (100, 20)\n"
     ]
    },
    {
     "name": "stderr",
     "output_type": "stream",
     "text": [
      "/home/jaeserrr/anaconda3/envs/drum/lib/python3.11/site-packages/sklearn/preprocessing/_data.py:247: UserWarning: Numerical issues were encountered when centering the data and might not be solved. Dataset may contain too large values. You may need to prescale your features.\n",
      "  warnings.warn(\n",
      "/home/jaeserrr/anaconda3/envs/drum/lib/python3.11/site-packages/sklearn/preprocessing/_data.py:266: UserWarning: Numerical issues were encountered when scaling the data and might not be solved. The standard deviation of the data is probably very close to 0. \n",
      "  warnings.warn(\n",
      "/home/jaeserrr/anaconda3/envs/drum/lib/python3.11/site-packages/sklearn/preprocessing/_data.py:247: UserWarning: Numerical issues were encountered when centering the data and might not be solved. Dataset may contain too large values. You may need to prescale your features.\n",
      "  warnings.warn(\n",
      "/home/jaeserrr/anaconda3/envs/drum/lib/python3.11/site-packages/sklearn/preprocessing/_data.py:266: UserWarning: Numerical issues were encountered when scaling the data and might not be solved. The standard deviation of the data is probably very close to 0. \n",
      "  warnings.warn(\n",
      "/home/jaeserrr/anaconda3/envs/drum/lib/python3.11/site-packages/sklearn/preprocessing/_data.py:247: UserWarning: Numerical issues were encountered when centering the data and might not be solved. Dataset may contain too large values. You may need to prescale your features.\n",
      "  warnings.warn(\n",
      "/home/jaeserrr/anaconda3/envs/drum/lib/python3.11/site-packages/sklearn/preprocessing/_data.py:266: UserWarning: Numerical issues were encountered when scaling the data and might not be solved. The standard deviation of the data is probably very close to 0. \n",
      "  warnings.warn(\n"
     ]
    },
    {
     "name": "stdout",
     "output_type": "stream",
     "text": [
      "file name : ../data/wavs/train/Snare Sample 16.wav , length: 2.0 secs,  mfccs: (100, 20)\n",
      "file name : ../data/wavs/train/Snare Sample 17.wav , length: 2.0 secs,  mfccs: (100, 20)\n",
      "file name : ../data/wavs/train/Snare Sample 18.wav , length: 2.0 secs,  mfccs: (100, 20)\n"
     ]
    },
    {
     "name": "stderr",
     "output_type": "stream",
     "text": [
      "/home/jaeserrr/anaconda3/envs/drum/lib/python3.11/site-packages/sklearn/preprocessing/_data.py:247: UserWarning: Numerical issues were encountered when centering the data and might not be solved. Dataset may contain too large values. You may need to prescale your features.\n",
      "  warnings.warn(\n",
      "/home/jaeserrr/anaconda3/envs/drum/lib/python3.11/site-packages/sklearn/preprocessing/_data.py:266: UserWarning: Numerical issues were encountered when scaling the data and might not be solved. The standard deviation of the data is probably very close to 0. \n",
      "  warnings.warn(\n",
      "/home/jaeserrr/anaconda3/envs/drum/lib/python3.11/site-packages/sklearn/preprocessing/_data.py:247: UserWarning: Numerical issues were encountered when centering the data and might not be solved. Dataset may contain too large values. You may need to prescale your features.\n",
      "  warnings.warn(\n",
      "/home/jaeserrr/anaconda3/envs/drum/lib/python3.11/site-packages/sklearn/preprocessing/_data.py:266: UserWarning: Numerical issues were encountered when scaling the data and might not be solved. The standard deviation of the data is probably very close to 0. \n",
      "  warnings.warn(\n",
      "/home/jaeserrr/anaconda3/envs/drum/lib/python3.11/site-packages/sklearn/preprocessing/_data.py:247: UserWarning: Numerical issues were encountered when centering the data and might not be solved. Dataset may contain too large values. You may need to prescale your features.\n",
      "  warnings.warn(\n",
      "/home/jaeserrr/anaconda3/envs/drum/lib/python3.11/site-packages/sklearn/preprocessing/_data.py:266: UserWarning: Numerical issues were encountered when scaling the data and might not be solved. The standard deviation of the data is probably very close to 0. \n",
      "  warnings.warn(\n"
     ]
    },
    {
     "name": "stdout",
     "output_type": "stream",
     "text": [
      "file name : ../data/wavs/train/Snare Sample 19.wav , length: 2.0 secs,  mfccs: (100, 20)\n",
      "file name : ../data/wavs/train/Snare Sample 2.wav , length: 2.0 secs,  mfccs: (100, 20)\n",
      "file name : ../data/wavs/train/Snare Sample 20.wav , length: 2.0 secs,  mfccs: (100, 20)\n"
     ]
    },
    {
     "name": "stderr",
     "output_type": "stream",
     "text": [
      "/home/jaeserrr/anaconda3/envs/drum/lib/python3.11/site-packages/sklearn/preprocessing/_data.py:247: UserWarning: Numerical issues were encountered when centering the data and might not be solved. Dataset may contain too large values. You may need to prescale your features.\n",
      "  warnings.warn(\n",
      "/home/jaeserrr/anaconda3/envs/drum/lib/python3.11/site-packages/sklearn/preprocessing/_data.py:266: UserWarning: Numerical issues were encountered when scaling the data and might not be solved. The standard deviation of the data is probably very close to 0. \n",
      "  warnings.warn(\n",
      "/home/jaeserrr/anaconda3/envs/drum/lib/python3.11/site-packages/sklearn/preprocessing/_data.py:247: UserWarning: Numerical issues were encountered when centering the data and might not be solved. Dataset may contain too large values. You may need to prescale your features.\n",
      "  warnings.warn(\n",
      "/home/jaeserrr/anaconda3/envs/drum/lib/python3.11/site-packages/sklearn/preprocessing/_data.py:266: UserWarning: Numerical issues were encountered when scaling the data and might not be solved. The standard deviation of the data is probably very close to 0. \n",
      "  warnings.warn(\n",
      "/home/jaeserrr/anaconda3/envs/drum/lib/python3.11/site-packages/sklearn/preprocessing/_data.py:247: UserWarning: Numerical issues were encountered when centering the data and might not be solved. Dataset may contain too large values. You may need to prescale your features.\n",
      "  warnings.warn(\n",
      "/home/jaeserrr/anaconda3/envs/drum/lib/python3.11/site-packages/sklearn/preprocessing/_data.py:266: UserWarning: Numerical issues were encountered when scaling the data and might not be solved. The standard deviation of the data is probably very close to 0. \n",
      "  warnings.warn(\n"
     ]
    },
    {
     "name": "stdout",
     "output_type": "stream",
     "text": [
      "file name : ../data/wavs/train/Snare Sample 21.wav , length: 2.0 secs,  mfccs: (100, 20)\n",
      "file name : ../data/wavs/train/Snare Sample 22.wav , length: 2.0 secs,  mfccs: (100, 20)\n",
      "file name : ../data/wavs/train/Snare Sample 23.wav , length: 2.0 secs,  mfccs: (100, 20)\n"
     ]
    },
    {
     "name": "stderr",
     "output_type": "stream",
     "text": [
      "/home/jaeserrr/anaconda3/envs/drum/lib/python3.11/site-packages/sklearn/preprocessing/_data.py:247: UserWarning: Numerical issues were encountered when centering the data and might not be solved. Dataset may contain too large values. You may need to prescale your features.\n",
      "  warnings.warn(\n",
      "/home/jaeserrr/anaconda3/envs/drum/lib/python3.11/site-packages/sklearn/preprocessing/_data.py:266: UserWarning: Numerical issues were encountered when scaling the data and might not be solved. The standard deviation of the data is probably very close to 0. \n",
      "  warnings.warn(\n",
      "/home/jaeserrr/anaconda3/envs/drum/lib/python3.11/site-packages/sklearn/preprocessing/_data.py:247: UserWarning: Numerical issues were encountered when centering the data and might not be solved. Dataset may contain too large values. You may need to prescale your features.\n",
      "  warnings.warn(\n",
      "/home/jaeserrr/anaconda3/envs/drum/lib/python3.11/site-packages/sklearn/preprocessing/_data.py:266: UserWarning: Numerical issues were encountered when scaling the data and might not be solved. The standard deviation of the data is probably very close to 0. \n",
      "  warnings.warn(\n",
      "/home/jaeserrr/anaconda3/envs/drum/lib/python3.11/site-packages/sklearn/preprocessing/_data.py:247: UserWarning: Numerical issues were encountered when centering the data and might not be solved. Dataset may contain too large values. You may need to prescale your features.\n",
      "  warnings.warn(\n",
      "/home/jaeserrr/anaconda3/envs/drum/lib/python3.11/site-packages/sklearn/preprocessing/_data.py:266: UserWarning: Numerical issues were encountered when scaling the data and might not be solved. The standard deviation of the data is probably very close to 0. \n",
      "  warnings.warn(\n"
     ]
    },
    {
     "name": "stdout",
     "output_type": "stream",
     "text": [
      "file name : ../data/wavs/train/Snare Sample 24.wav , length: 2.0 secs,  mfccs: (100, 20)\n",
      "file name : ../data/wavs/train/Snare Sample 25.wav , length: 2.0 secs,  mfccs: (100, 20)\n",
      "file name : ../data/wavs/train/Snare Sample 26.wav , length: 2.0 secs,  mfccs: (100, 20)\n"
     ]
    },
    {
     "name": "stderr",
     "output_type": "stream",
     "text": [
      "/home/jaeserrr/anaconda3/envs/drum/lib/python3.11/site-packages/sklearn/preprocessing/_data.py:247: UserWarning: Numerical issues were encountered when centering the data and might not be solved. Dataset may contain too large values. You may need to prescale your features.\n",
      "  warnings.warn(\n",
      "/home/jaeserrr/anaconda3/envs/drum/lib/python3.11/site-packages/sklearn/preprocessing/_data.py:266: UserWarning: Numerical issues were encountered when scaling the data and might not be solved. The standard deviation of the data is probably very close to 0. \n",
      "  warnings.warn(\n",
      "/home/jaeserrr/anaconda3/envs/drum/lib/python3.11/site-packages/sklearn/preprocessing/_data.py:247: UserWarning: Numerical issues were encountered when centering the data and might not be solved. Dataset may contain too large values. You may need to prescale your features.\n",
      "  warnings.warn(\n",
      "/home/jaeserrr/anaconda3/envs/drum/lib/python3.11/site-packages/sklearn/preprocessing/_data.py:266: UserWarning: Numerical issues were encountered when scaling the data and might not be solved. The standard deviation of the data is probably very close to 0. \n",
      "  warnings.warn(\n",
      "/home/jaeserrr/anaconda3/envs/drum/lib/python3.11/site-packages/sklearn/preprocessing/_data.py:247: UserWarning: Numerical issues were encountered when centering the data and might not be solved. Dataset may contain too large values. You may need to prescale your features.\n",
      "  warnings.warn(\n",
      "/home/jaeserrr/anaconda3/envs/drum/lib/python3.11/site-packages/sklearn/preprocessing/_data.py:266: UserWarning: Numerical issues were encountered when scaling the data and might not be solved. The standard deviation of the data is probably very close to 0. \n",
      "  warnings.warn(\n"
     ]
    },
    {
     "name": "stdout",
     "output_type": "stream",
     "text": [
      "file name : ../data/wavs/train/Snare Sample 27.wav , length: 2.0 secs,  mfccs: (100, 20)\n",
      "file name : ../data/wavs/train/Snare Sample 28.wav , length: 2.0 secs,  mfccs: (100, 20)\n",
      "file name : ../data/wavs/train/Snare Sample 29.wav , length: 2.0 secs,  mfccs: (100, 20)\n"
     ]
    },
    {
     "name": "stderr",
     "output_type": "stream",
     "text": [
      "/home/jaeserrr/anaconda3/envs/drum/lib/python3.11/site-packages/sklearn/preprocessing/_data.py:247: UserWarning: Numerical issues were encountered when centering the data and might not be solved. Dataset may contain too large values. You may need to prescale your features.\n",
      "  warnings.warn(\n",
      "/home/jaeserrr/anaconda3/envs/drum/lib/python3.11/site-packages/sklearn/preprocessing/_data.py:266: UserWarning: Numerical issues were encountered when scaling the data and might not be solved. The standard deviation of the data is probably very close to 0. \n",
      "  warnings.warn(\n",
      "/home/jaeserrr/anaconda3/envs/drum/lib/python3.11/site-packages/sklearn/preprocessing/_data.py:247: UserWarning: Numerical issues were encountered when centering the data and might not be solved. Dataset may contain too large values. You may need to prescale your features.\n",
      "  warnings.warn(\n",
      "/home/jaeserrr/anaconda3/envs/drum/lib/python3.11/site-packages/sklearn/preprocessing/_data.py:266: UserWarning: Numerical issues were encountered when scaling the data and might not be solved. The standard deviation of the data is probably very close to 0. \n",
      "  warnings.warn(\n",
      "/home/jaeserrr/anaconda3/envs/drum/lib/python3.11/site-packages/sklearn/preprocessing/_data.py:247: UserWarning: Numerical issues were encountered when centering the data and might not be solved. Dataset may contain too large values. You may need to prescale your features.\n",
      "  warnings.warn(\n",
      "/home/jaeserrr/anaconda3/envs/drum/lib/python3.11/site-packages/sklearn/preprocessing/_data.py:266: UserWarning: Numerical issues were encountered when scaling the data and might not be solved. The standard deviation of the data is probably very close to 0. \n",
      "  warnings.warn(\n"
     ]
    },
    {
     "name": "stdout",
     "output_type": "stream",
     "text": [
      "file name : ../data/wavs/train/Snare Sample 3.wav , length: 2.0 secs,  mfccs: (100, 20)\n",
      "file name : ../data/wavs/train/Snare Sample 30.wav , length: 2.0 secs,  mfccs: (100, 20)\n",
      "file name : ../data/wavs/train/Snare Sample 31.wav , length: 2.0 secs,  mfccs: (100, 20)\n"
     ]
    },
    {
     "name": "stderr",
     "output_type": "stream",
     "text": [
      "/home/jaeserrr/anaconda3/envs/drum/lib/python3.11/site-packages/sklearn/preprocessing/_data.py:247: UserWarning: Numerical issues were encountered when centering the data and might not be solved. Dataset may contain too large values. You may need to prescale your features.\n",
      "  warnings.warn(\n",
      "/home/jaeserrr/anaconda3/envs/drum/lib/python3.11/site-packages/sklearn/preprocessing/_data.py:266: UserWarning: Numerical issues were encountered when scaling the data and might not be solved. The standard deviation of the data is probably very close to 0. \n",
      "  warnings.warn(\n",
      "/home/jaeserrr/anaconda3/envs/drum/lib/python3.11/site-packages/sklearn/preprocessing/_data.py:247: UserWarning: Numerical issues were encountered when centering the data and might not be solved. Dataset may contain too large values. You may need to prescale your features.\n",
      "  warnings.warn(\n",
      "/home/jaeserrr/anaconda3/envs/drum/lib/python3.11/site-packages/sklearn/preprocessing/_data.py:266: UserWarning: Numerical issues were encountered when scaling the data and might not be solved. The standard deviation of the data is probably very close to 0. \n",
      "  warnings.warn(\n"
     ]
    },
    {
     "name": "stdout",
     "output_type": "stream",
     "text": [
      "file name : ../data/wavs/train/Snare Sample 32.wav , length: 2.0 secs,  mfccs: (100, 20)\n",
      "file name : ../data/wavs/train/Snare Sample 33.wav , length: 2.0 secs,  mfccs: (100, 20)\n"
     ]
    },
    {
     "name": "stderr",
     "output_type": "stream",
     "text": [
      "/home/jaeserrr/anaconda3/envs/drum/lib/python3.11/site-packages/sklearn/preprocessing/_data.py:247: UserWarning: Numerical issues were encountered when centering the data and might not be solved. Dataset may contain too large values. You may need to prescale your features.\n",
      "  warnings.warn(\n",
      "/home/jaeserrr/anaconda3/envs/drum/lib/python3.11/site-packages/sklearn/preprocessing/_data.py:266: UserWarning: Numerical issues were encountered when scaling the data and might not be solved. The standard deviation of the data is probably very close to 0. \n",
      "  warnings.warn(\n",
      "/home/jaeserrr/anaconda3/envs/drum/lib/python3.11/site-packages/sklearn/preprocessing/_data.py:247: UserWarning: Numerical issues were encountered when centering the data and might not be solved. Dataset may contain too large values. You may need to prescale your features.\n",
      "  warnings.warn(\n",
      "/home/jaeserrr/anaconda3/envs/drum/lib/python3.11/site-packages/sklearn/preprocessing/_data.py:266: UserWarning: Numerical issues were encountered when scaling the data and might not be solved. The standard deviation of the data is probably very close to 0. \n",
      "  warnings.warn(\n",
      "/home/jaeserrr/anaconda3/envs/drum/lib/python3.11/site-packages/sklearn/preprocessing/_data.py:247: UserWarning: Numerical issues were encountered when centering the data and might not be solved. Dataset may contain too large values. You may need to prescale your features.\n",
      "  warnings.warn(\n",
      "/home/jaeserrr/anaconda3/envs/drum/lib/python3.11/site-packages/sklearn/preprocessing/_data.py:266: UserWarning: Numerical issues were encountered when scaling the data and might not be solved. The standard deviation of the data is probably very close to 0. \n",
      "  warnings.warn(\n"
     ]
    },
    {
     "name": "stdout",
     "output_type": "stream",
     "text": [
      "file name : ../data/wavs/train/Snare Sample 34.wav , length: 2.0 secs,  mfccs: (100, 20)\n",
      "file name : ../data/wavs/train/Snare Sample 35.wav , length: 2.0 secs,  mfccs: (100, 20)\n",
      "file name : ../data/wavs/train/Snare Sample 36.wav , length: 2.0 secs,  mfccs: (100, 20)\n"
     ]
    },
    {
     "name": "stderr",
     "output_type": "stream",
     "text": [
      "/home/jaeserrr/anaconda3/envs/drum/lib/python3.11/site-packages/sklearn/preprocessing/_data.py:247: UserWarning: Numerical issues were encountered when centering the data and might not be solved. Dataset may contain too large values. You may need to prescale your features.\n",
      "  warnings.warn(\n",
      "/home/jaeserrr/anaconda3/envs/drum/lib/python3.11/site-packages/sklearn/preprocessing/_data.py:266: UserWarning: Numerical issues were encountered when scaling the data and might not be solved. The standard deviation of the data is probably very close to 0. \n",
      "  warnings.warn(\n",
      "/home/jaeserrr/anaconda3/envs/drum/lib/python3.11/site-packages/sklearn/preprocessing/_data.py:247: UserWarning: Numerical issues were encountered when centering the data and might not be solved. Dataset may contain too large values. You may need to prescale your features.\n",
      "  warnings.warn(\n",
      "/home/jaeserrr/anaconda3/envs/drum/lib/python3.11/site-packages/sklearn/preprocessing/_data.py:266: UserWarning: Numerical issues were encountered when scaling the data and might not be solved. The standard deviation of the data is probably very close to 0. \n",
      "  warnings.warn(\n",
      "/home/jaeserrr/anaconda3/envs/drum/lib/python3.11/site-packages/sklearn/preprocessing/_data.py:247: UserWarning: Numerical issues were encountered when centering the data and might not be solved. Dataset may contain too large values. You may need to prescale your features.\n",
      "  warnings.warn(\n",
      "/home/jaeserrr/anaconda3/envs/drum/lib/python3.11/site-packages/sklearn/preprocessing/_data.py:266: UserWarning: Numerical issues were encountered when scaling the data and might not be solved. The standard deviation of the data is probably very close to 0. \n",
      "  warnings.warn(\n"
     ]
    },
    {
     "name": "stdout",
     "output_type": "stream",
     "text": [
      "file name : ../data/wavs/train/Snare Sample 37.wav , length: 2.0 secs,  mfccs: (100, 20)\n",
      "file name : ../data/wavs/train/Snare Sample 38.wav , length: 2.0 secs,  mfccs: (100, 20)\n",
      "file name : ../data/wavs/train/Snare Sample 39.wav , length: 2.0 secs,  mfccs: (100, 20)\n"
     ]
    },
    {
     "name": "stderr",
     "output_type": "stream",
     "text": [
      "/home/jaeserrr/anaconda3/envs/drum/lib/python3.11/site-packages/sklearn/preprocessing/_data.py:247: UserWarning: Numerical issues were encountered when centering the data and might not be solved. Dataset may contain too large values. You may need to prescale your features.\n",
      "  warnings.warn(\n",
      "/home/jaeserrr/anaconda3/envs/drum/lib/python3.11/site-packages/sklearn/preprocessing/_data.py:266: UserWarning: Numerical issues were encountered when scaling the data and might not be solved. The standard deviation of the data is probably very close to 0. \n",
      "  warnings.warn(\n",
      "/home/jaeserrr/anaconda3/envs/drum/lib/python3.11/site-packages/sklearn/preprocessing/_data.py:247: UserWarning: Numerical issues were encountered when centering the data and might not be solved. Dataset may contain too large values. You may need to prescale your features.\n",
      "  warnings.warn(\n",
      "/home/jaeserrr/anaconda3/envs/drum/lib/python3.11/site-packages/sklearn/preprocessing/_data.py:266: UserWarning: Numerical issues were encountered when scaling the data and might not be solved. The standard deviation of the data is probably very close to 0. \n",
      "  warnings.warn(\n"
     ]
    },
    {
     "name": "stdout",
     "output_type": "stream",
     "text": [
      "file name : ../data/wavs/train/Snare Sample 4.wav , length: 2.0 secs,  mfccs: (100, 20)\n",
      "file name : ../data/wavs/train/Snare Sample 40.wav , length: 2.0 secs,  mfccs: (100, 20)\n"
     ]
    },
    {
     "name": "stderr",
     "output_type": "stream",
     "text": [
      "/home/jaeserrr/anaconda3/envs/drum/lib/python3.11/site-packages/sklearn/preprocessing/_data.py:247: UserWarning: Numerical issues were encountered when centering the data and might not be solved. Dataset may contain too large values. You may need to prescale your features.\n",
      "  warnings.warn(\n",
      "/home/jaeserrr/anaconda3/envs/drum/lib/python3.11/site-packages/sklearn/preprocessing/_data.py:266: UserWarning: Numerical issues were encountered when scaling the data and might not be solved. The standard deviation of the data is probably very close to 0. \n",
      "  warnings.warn(\n",
      "/home/jaeserrr/anaconda3/envs/drum/lib/python3.11/site-packages/sklearn/preprocessing/_data.py:247: UserWarning: Numerical issues were encountered when centering the data and might not be solved. Dataset may contain too large values. You may need to prescale your features.\n",
      "  warnings.warn(\n",
      "/home/jaeserrr/anaconda3/envs/drum/lib/python3.11/site-packages/sklearn/preprocessing/_data.py:266: UserWarning: Numerical issues were encountered when scaling the data and might not be solved. The standard deviation of the data is probably very close to 0. \n",
      "  warnings.warn(\n",
      "/home/jaeserrr/anaconda3/envs/drum/lib/python3.11/site-packages/sklearn/preprocessing/_data.py:247: UserWarning: Numerical issues were encountered when centering the data and might not be solved. Dataset may contain too large values. You may need to prescale your features.\n",
      "  warnings.warn(\n",
      "/home/jaeserrr/anaconda3/envs/drum/lib/python3.11/site-packages/sklearn/preprocessing/_data.py:266: UserWarning: Numerical issues were encountered when scaling the data and might not be solved. The standard deviation of the data is probably very close to 0. \n",
      "  warnings.warn(\n"
     ]
    },
    {
     "name": "stdout",
     "output_type": "stream",
     "text": [
      "file name : ../data/wavs/train/Snare Sample 5.wav , length: 2.0 secs,  mfccs: (100, 20)\n",
      "file name : ../data/wavs/train/Snare Sample 6.wav , length: 2.0 secs,  mfccs: (100, 20)\n",
      "file name : ../data/wavs/train/Snare Sample 7.wav , length: 2.0 secs,  mfccs: (100, 20)\n"
     ]
    },
    {
     "name": "stderr",
     "output_type": "stream",
     "text": [
      "/home/jaeserrr/anaconda3/envs/drum/lib/python3.11/site-packages/sklearn/preprocessing/_data.py:247: UserWarning: Numerical issues were encountered when centering the data and might not be solved. Dataset may contain too large values. You may need to prescale your features.\n",
      "  warnings.warn(\n",
      "/home/jaeserrr/anaconda3/envs/drum/lib/python3.11/site-packages/sklearn/preprocessing/_data.py:266: UserWarning: Numerical issues were encountered when scaling the data and might not be solved. The standard deviation of the data is probably very close to 0. \n",
      "  warnings.warn(\n",
      "/home/jaeserrr/anaconda3/envs/drum/lib/python3.11/site-packages/sklearn/preprocessing/_data.py:247: UserWarning: Numerical issues were encountered when centering the data and might not be solved. Dataset may contain too large values. You may need to prescale your features.\n",
      "  warnings.warn(\n",
      "/home/jaeserrr/anaconda3/envs/drum/lib/python3.11/site-packages/sklearn/preprocessing/_data.py:266: UserWarning: Numerical issues were encountered when scaling the data and might not be solved. The standard deviation of the data is probably very close to 0. \n",
      "  warnings.warn(\n",
      "/home/jaeserrr/anaconda3/envs/drum/lib/python3.11/site-packages/sklearn/preprocessing/_data.py:247: UserWarning: Numerical issues were encountered when centering the data and might not be solved. Dataset may contain too large values. You may need to prescale your features.\n",
      "  warnings.warn(\n",
      "/home/jaeserrr/anaconda3/envs/drum/lib/python3.11/site-packages/sklearn/preprocessing/_data.py:266: UserWarning: Numerical issues were encountered when scaling the data and might not be solved. The standard deviation of the data is probably very close to 0. \n",
      "  warnings.warn(\n"
     ]
    },
    {
     "name": "stdout",
     "output_type": "stream",
     "text": [
      "file name : ../data/wavs/train/Snare Sample 8.wav , length: 2.0 secs,  mfccs: (100, 20)\n",
      "file name : ../data/wavs/train/Snare Sample 9.wav , length: 2.0 secs,  mfccs: (100, 20)\n",
      "file name : ../data/wavs/train/Tom Sample 1.wav , length: 2.0 secs,  mfccs: (100, 20)\n"
     ]
    },
    {
     "name": "stderr",
     "output_type": "stream",
     "text": [
      "/home/jaeserrr/anaconda3/envs/drum/lib/python3.11/site-packages/sklearn/preprocessing/_data.py:247: UserWarning: Numerical issues were encountered when centering the data and might not be solved. Dataset may contain too large values. You may need to prescale your features.\n",
      "  warnings.warn(\n",
      "/home/jaeserrr/anaconda3/envs/drum/lib/python3.11/site-packages/sklearn/preprocessing/_data.py:266: UserWarning: Numerical issues were encountered when scaling the data and might not be solved. The standard deviation of the data is probably very close to 0. \n",
      "  warnings.warn(\n",
      "/home/jaeserrr/anaconda3/envs/drum/lib/python3.11/site-packages/sklearn/preprocessing/_data.py:247: UserWarning: Numerical issues were encountered when centering the data and might not be solved. Dataset may contain too large values. You may need to prescale your features.\n",
      "  warnings.warn(\n",
      "/home/jaeserrr/anaconda3/envs/drum/lib/python3.11/site-packages/sklearn/preprocessing/_data.py:266: UserWarning: Numerical issues were encountered when scaling the data and might not be solved. The standard deviation of the data is probably very close to 0. \n",
      "  warnings.warn(\n",
      "/home/jaeserrr/anaconda3/envs/drum/lib/python3.11/site-packages/sklearn/preprocessing/_data.py:247: UserWarning: Numerical issues were encountered when centering the data and might not be solved. Dataset may contain too large values. You may need to prescale your features.\n",
      "  warnings.warn(\n",
      "/home/jaeserrr/anaconda3/envs/drum/lib/python3.11/site-packages/sklearn/preprocessing/_data.py:266: UserWarning: Numerical issues were encountered when scaling the data and might not be solved. The standard deviation of the data is probably very close to 0. \n",
      "  warnings.warn(\n"
     ]
    },
    {
     "name": "stdout",
     "output_type": "stream",
     "text": [
      "file name : ../data/wavs/train/Tom Sample 10.wav , length: 2.0 secs,  mfccs: (100, 20)\n",
      "file name : ../data/wavs/train/Tom Sample 11.wav , length: 2.0 secs,  mfccs: (100, 20)\n",
      "file name : ../data/wavs/train/Tom Sample 12.wav , length: 2.0 secs,  mfccs: (100, 20)\n"
     ]
    },
    {
     "name": "stderr",
     "output_type": "stream",
     "text": [
      "/home/jaeserrr/anaconda3/envs/drum/lib/python3.11/site-packages/sklearn/preprocessing/_data.py:247: UserWarning: Numerical issues were encountered when centering the data and might not be solved. Dataset may contain too large values. You may need to prescale your features.\n",
      "  warnings.warn(\n",
      "/home/jaeserrr/anaconda3/envs/drum/lib/python3.11/site-packages/sklearn/preprocessing/_data.py:266: UserWarning: Numerical issues were encountered when scaling the data and might not be solved. The standard deviation of the data is probably very close to 0. \n",
      "  warnings.warn(\n",
      "/home/jaeserrr/anaconda3/envs/drum/lib/python3.11/site-packages/sklearn/preprocessing/_data.py:247: UserWarning: Numerical issues were encountered when centering the data and might not be solved. Dataset may contain too large values. You may need to prescale your features.\n",
      "  warnings.warn(\n",
      "/home/jaeserrr/anaconda3/envs/drum/lib/python3.11/site-packages/sklearn/preprocessing/_data.py:266: UserWarning: Numerical issues were encountered when scaling the data and might not be solved. The standard deviation of the data is probably very close to 0. \n",
      "  warnings.warn(\n",
      "/home/jaeserrr/anaconda3/envs/drum/lib/python3.11/site-packages/sklearn/preprocessing/_data.py:247: UserWarning: Numerical issues were encountered when centering the data and might not be solved. Dataset may contain too large values. You may need to prescale your features.\n",
      "  warnings.warn(\n",
      "/home/jaeserrr/anaconda3/envs/drum/lib/python3.11/site-packages/sklearn/preprocessing/_data.py:266: UserWarning: Numerical issues were encountered when scaling the data and might not be solved. The standard deviation of the data is probably very close to 0. \n",
      "  warnings.warn(\n"
     ]
    },
    {
     "name": "stdout",
     "output_type": "stream",
     "text": [
      "file name : ../data/wavs/train/Tom Sample 13.wav , length: 2.0 secs,  mfccs: (100, 20)\n",
      "file name : ../data/wavs/train/Tom Sample 14.wav , length: 2.0 secs,  mfccs: (100, 20)\n",
      "file name : ../data/wavs/train/Tom Sample 15.wav , length: 2.0 secs,  mfccs: (100, 20)\n"
     ]
    },
    {
     "name": "stderr",
     "output_type": "stream",
     "text": [
      "/home/jaeserrr/anaconda3/envs/drum/lib/python3.11/site-packages/sklearn/preprocessing/_data.py:247: UserWarning: Numerical issues were encountered when centering the data and might not be solved. Dataset may contain too large values. You may need to prescale your features.\n",
      "  warnings.warn(\n",
      "/home/jaeserrr/anaconda3/envs/drum/lib/python3.11/site-packages/sklearn/preprocessing/_data.py:266: UserWarning: Numerical issues were encountered when scaling the data and might not be solved. The standard deviation of the data is probably very close to 0. \n",
      "  warnings.warn(\n",
      "/home/jaeserrr/anaconda3/envs/drum/lib/python3.11/site-packages/sklearn/preprocessing/_data.py:247: UserWarning: Numerical issues were encountered when centering the data and might not be solved. Dataset may contain too large values. You may need to prescale your features.\n",
      "  warnings.warn(\n",
      "/home/jaeserrr/anaconda3/envs/drum/lib/python3.11/site-packages/sklearn/preprocessing/_data.py:266: UserWarning: Numerical issues were encountered when scaling the data and might not be solved. The standard deviation of the data is probably very close to 0. \n",
      "  warnings.warn(\n",
      "/home/jaeserrr/anaconda3/envs/drum/lib/python3.11/site-packages/sklearn/preprocessing/_data.py:247: UserWarning: Numerical issues were encountered when centering the data and might not be solved. Dataset may contain too large values. You may need to prescale your features.\n",
      "  warnings.warn(\n",
      "/home/jaeserrr/anaconda3/envs/drum/lib/python3.11/site-packages/sklearn/preprocessing/_data.py:266: UserWarning: Numerical issues were encountered when scaling the data and might not be solved. The standard deviation of the data is probably very close to 0. \n",
      "  warnings.warn(\n"
     ]
    },
    {
     "name": "stdout",
     "output_type": "stream",
     "text": [
      "file name : ../data/wavs/train/Tom Sample 16.wav , length: 2.0 secs,  mfccs: (100, 20)\n",
      "file name : ../data/wavs/train/Tom Sample 17.wav , length: 2.0 secs,  mfccs: (100, 20)\n",
      "file name : ../data/wavs/train/Tom Sample 18.wav , length: 2.0 secs,  mfccs: (100, 20)\n"
     ]
    },
    {
     "name": "stderr",
     "output_type": "stream",
     "text": [
      "/home/jaeserrr/anaconda3/envs/drum/lib/python3.11/site-packages/sklearn/preprocessing/_data.py:247: UserWarning: Numerical issues were encountered when centering the data and might not be solved. Dataset may contain too large values. You may need to prescale your features.\n",
      "  warnings.warn(\n",
      "/home/jaeserrr/anaconda3/envs/drum/lib/python3.11/site-packages/sklearn/preprocessing/_data.py:266: UserWarning: Numerical issues were encountered when scaling the data and might not be solved. The standard deviation of the data is probably very close to 0. \n",
      "  warnings.warn(\n",
      "/home/jaeserrr/anaconda3/envs/drum/lib/python3.11/site-packages/sklearn/preprocessing/_data.py:247: UserWarning: Numerical issues were encountered when centering the data and might not be solved. Dataset may contain too large values. You may need to prescale your features.\n",
      "  warnings.warn(\n",
      "/home/jaeserrr/anaconda3/envs/drum/lib/python3.11/site-packages/sklearn/preprocessing/_data.py:266: UserWarning: Numerical issues were encountered when scaling the data and might not be solved. The standard deviation of the data is probably very close to 0. \n",
      "  warnings.warn(\n",
      "/home/jaeserrr/anaconda3/envs/drum/lib/python3.11/site-packages/sklearn/preprocessing/_data.py:247: UserWarning: Numerical issues were encountered when centering the data and might not be solved. Dataset may contain too large values. You may need to prescale your features.\n",
      "  warnings.warn(\n",
      "/home/jaeserrr/anaconda3/envs/drum/lib/python3.11/site-packages/sklearn/preprocessing/_data.py:266: UserWarning: Numerical issues were encountered when scaling the data and might not be solved. The standard deviation of the data is probably very close to 0. \n",
      "  warnings.warn(\n"
     ]
    },
    {
     "name": "stdout",
     "output_type": "stream",
     "text": [
      "file name : ../data/wavs/train/Tom Sample 19.wav , length: 2.0 secs,  mfccs: (100, 20)\n",
      "file name : ../data/wavs/train/Tom Sample 2.wav , length: 2.0 secs,  mfccs: (100, 20)\n",
      "file name : ../data/wavs/train/Tom Sample 20.wav , length: 2.0 secs,  mfccs: (100, 20)\n"
     ]
    },
    {
     "name": "stderr",
     "output_type": "stream",
     "text": [
      "/home/jaeserrr/anaconda3/envs/drum/lib/python3.11/site-packages/sklearn/preprocessing/_data.py:247: UserWarning: Numerical issues were encountered when centering the data and might not be solved. Dataset may contain too large values. You may need to prescale your features.\n",
      "  warnings.warn(\n",
      "/home/jaeserrr/anaconda3/envs/drum/lib/python3.11/site-packages/sklearn/preprocessing/_data.py:266: UserWarning: Numerical issues were encountered when scaling the data and might not be solved. The standard deviation of the data is probably very close to 0. \n",
      "  warnings.warn(\n",
      "/home/jaeserrr/anaconda3/envs/drum/lib/python3.11/site-packages/sklearn/preprocessing/_data.py:247: UserWarning: Numerical issues were encountered when centering the data and might not be solved. Dataset may contain too large values. You may need to prescale your features.\n",
      "  warnings.warn(\n",
      "/home/jaeserrr/anaconda3/envs/drum/lib/python3.11/site-packages/sklearn/preprocessing/_data.py:266: UserWarning: Numerical issues were encountered when scaling the data and might not be solved. The standard deviation of the data is probably very close to 0. \n",
      "  warnings.warn(\n"
     ]
    },
    {
     "name": "stdout",
     "output_type": "stream",
     "text": [
      "file name : ../data/wavs/train/Tom Sample 21.wav , length: 2.0 secs,  mfccs: (100, 20)\n",
      "file name : ../data/wavs/train/Tom Sample 22.wav , length: 2.0 secs,  mfccs: (100, 20)\n"
     ]
    },
    {
     "name": "stderr",
     "output_type": "stream",
     "text": [
      "/home/jaeserrr/anaconda3/envs/drum/lib/python3.11/site-packages/sklearn/preprocessing/_data.py:247: UserWarning: Numerical issues were encountered when centering the data and might not be solved. Dataset may contain too large values. You may need to prescale your features.\n",
      "  warnings.warn(\n",
      "/home/jaeserrr/anaconda3/envs/drum/lib/python3.11/site-packages/sklearn/preprocessing/_data.py:266: UserWarning: Numerical issues were encountered when scaling the data and might not be solved. The standard deviation of the data is probably very close to 0. \n",
      "  warnings.warn(\n",
      "/home/jaeserrr/anaconda3/envs/drum/lib/python3.11/site-packages/sklearn/preprocessing/_data.py:247: UserWarning: Numerical issues were encountered when centering the data and might not be solved. Dataset may contain too large values. You may need to prescale your features.\n",
      "  warnings.warn(\n",
      "/home/jaeserrr/anaconda3/envs/drum/lib/python3.11/site-packages/sklearn/preprocessing/_data.py:266: UserWarning: Numerical issues were encountered when scaling the data and might not be solved. The standard deviation of the data is probably very close to 0. \n",
      "  warnings.warn(\n",
      "/home/jaeserrr/anaconda3/envs/drum/lib/python3.11/site-packages/sklearn/preprocessing/_data.py:247: UserWarning: Numerical issues were encountered when centering the data and might not be solved. Dataset may contain too large values. You may need to prescale your features.\n",
      "  warnings.warn(\n",
      "/home/jaeserrr/anaconda3/envs/drum/lib/python3.11/site-packages/sklearn/preprocessing/_data.py:266: UserWarning: Numerical issues were encountered when scaling the data and might not be solved. The standard deviation of the data is probably very close to 0. \n",
      "  warnings.warn(\n"
     ]
    },
    {
     "name": "stdout",
     "output_type": "stream",
     "text": [
      "file name : ../data/wavs/train/Tom Sample 23.wav , length: 2.0 secs,  mfccs: (100, 20)\n",
      "file name : ../data/wavs/train/Tom Sample 24.wav , length: 2.0 secs,  mfccs: (100, 20)\n",
      "file name : ../data/wavs/train/Tom Sample 25.wav , length: 2.0 secs,  mfccs: (100, 20)\n"
     ]
    },
    {
     "name": "stderr",
     "output_type": "stream",
     "text": [
      "/home/jaeserrr/anaconda3/envs/drum/lib/python3.11/site-packages/sklearn/preprocessing/_data.py:247: UserWarning: Numerical issues were encountered when centering the data and might not be solved. Dataset may contain too large values. You may need to prescale your features.\n",
      "  warnings.warn(\n",
      "/home/jaeserrr/anaconda3/envs/drum/lib/python3.11/site-packages/sklearn/preprocessing/_data.py:266: UserWarning: Numerical issues were encountered when scaling the data and might not be solved. The standard deviation of the data is probably very close to 0. \n",
      "  warnings.warn(\n",
      "/home/jaeserrr/anaconda3/envs/drum/lib/python3.11/site-packages/sklearn/preprocessing/_data.py:247: UserWarning: Numerical issues were encountered when centering the data and might not be solved. Dataset may contain too large values. You may need to prescale your features.\n",
      "  warnings.warn(\n",
      "/home/jaeserrr/anaconda3/envs/drum/lib/python3.11/site-packages/sklearn/preprocessing/_data.py:266: UserWarning: Numerical issues were encountered when scaling the data and might not be solved. The standard deviation of the data is probably very close to 0. \n",
      "  warnings.warn(\n",
      "/home/jaeserrr/anaconda3/envs/drum/lib/python3.11/site-packages/sklearn/preprocessing/_data.py:247: UserWarning: Numerical issues were encountered when centering the data and might not be solved. Dataset may contain too large values. You may need to prescale your features.\n",
      "  warnings.warn(\n",
      "/home/jaeserrr/anaconda3/envs/drum/lib/python3.11/site-packages/sklearn/preprocessing/_data.py:266: UserWarning: Numerical issues were encountered when scaling the data and might not be solved. The standard deviation of the data is probably very close to 0. \n",
      "  warnings.warn(\n"
     ]
    },
    {
     "name": "stdout",
     "output_type": "stream",
     "text": [
      "file name : ../data/wavs/train/Tom Sample 26.wav , length: 2.0 secs,  mfccs: (100, 20)\n",
      "file name : ../data/wavs/train/Tom Sample 27.wav , length: 2.0 secs,  mfccs: (100, 20)\n",
      "file name : ../data/wavs/train/Tom Sample 28.wav , length: 2.0 secs,  mfccs: (100, 20)\n"
     ]
    },
    {
     "name": "stderr",
     "output_type": "stream",
     "text": [
      "/home/jaeserrr/anaconda3/envs/drum/lib/python3.11/site-packages/sklearn/preprocessing/_data.py:247: UserWarning: Numerical issues were encountered when centering the data and might not be solved. Dataset may contain too large values. You may need to prescale your features.\n",
      "  warnings.warn(\n",
      "/home/jaeserrr/anaconda3/envs/drum/lib/python3.11/site-packages/sklearn/preprocessing/_data.py:266: UserWarning: Numerical issues were encountered when scaling the data and might not be solved. The standard deviation of the data is probably very close to 0. \n",
      "  warnings.warn(\n",
      "/home/jaeserrr/anaconda3/envs/drum/lib/python3.11/site-packages/sklearn/preprocessing/_data.py:247: UserWarning: Numerical issues were encountered when centering the data and might not be solved. Dataset may contain too large values. You may need to prescale your features.\n",
      "  warnings.warn(\n",
      "/home/jaeserrr/anaconda3/envs/drum/lib/python3.11/site-packages/sklearn/preprocessing/_data.py:266: UserWarning: Numerical issues were encountered when scaling the data and might not be solved. The standard deviation of the data is probably very close to 0. \n",
      "  warnings.warn(\n",
      "/home/jaeserrr/anaconda3/envs/drum/lib/python3.11/site-packages/sklearn/preprocessing/_data.py:247: UserWarning: Numerical issues were encountered when centering the data and might not be solved. Dataset may contain too large values. You may need to prescale your features.\n",
      "  warnings.warn(\n",
      "/home/jaeserrr/anaconda3/envs/drum/lib/python3.11/site-packages/sklearn/preprocessing/_data.py:266: UserWarning: Numerical issues were encountered when scaling the data and might not be solved. The standard deviation of the data is probably very close to 0. \n",
      "  warnings.warn(\n"
     ]
    },
    {
     "name": "stdout",
     "output_type": "stream",
     "text": [
      "file name : ../data/wavs/train/Tom Sample 29.wav , length: 2.0 secs,  mfccs: (100, 20)\n",
      "file name : ../data/wavs/train/Tom Sample 3.wav , length: 2.0 secs,  mfccs: (100, 20)\n",
      "file name : ../data/wavs/train/Tom Sample 30.wav , length: 2.0 secs,  mfccs: (100, 20)\n"
     ]
    },
    {
     "name": "stderr",
     "output_type": "stream",
     "text": [
      "/home/jaeserrr/anaconda3/envs/drum/lib/python3.11/site-packages/sklearn/preprocessing/_data.py:247: UserWarning: Numerical issues were encountered when centering the data and might not be solved. Dataset may contain too large values. You may need to prescale your features.\n",
      "  warnings.warn(\n",
      "/home/jaeserrr/anaconda3/envs/drum/lib/python3.11/site-packages/sklearn/preprocessing/_data.py:266: UserWarning: Numerical issues were encountered when scaling the data and might not be solved. The standard deviation of the data is probably very close to 0. \n",
      "  warnings.warn(\n",
      "/home/jaeserrr/anaconda3/envs/drum/lib/python3.11/site-packages/sklearn/preprocessing/_data.py:247: UserWarning: Numerical issues were encountered when centering the data and might not be solved. Dataset may contain too large values. You may need to prescale your features.\n",
      "  warnings.warn(\n",
      "/home/jaeserrr/anaconda3/envs/drum/lib/python3.11/site-packages/sklearn/preprocessing/_data.py:266: UserWarning: Numerical issues were encountered when scaling the data and might not be solved. The standard deviation of the data is probably very close to 0. \n",
      "  warnings.warn(\n",
      "/home/jaeserrr/anaconda3/envs/drum/lib/python3.11/site-packages/sklearn/preprocessing/_data.py:247: UserWarning: Numerical issues were encountered when centering the data and might not be solved. Dataset may contain too large values. You may need to prescale your features.\n",
      "  warnings.warn(\n",
      "/home/jaeserrr/anaconda3/envs/drum/lib/python3.11/site-packages/sklearn/preprocessing/_data.py:266: UserWarning: Numerical issues were encountered when scaling the data and might not be solved. The standard deviation of the data is probably very close to 0. \n",
      "  warnings.warn(\n"
     ]
    },
    {
     "name": "stdout",
     "output_type": "stream",
     "text": [
      "file name : ../data/wavs/train/Tom Sample 31.wav , length: 2.0 secs,  mfccs: (100, 20)\n",
      "file name : ../data/wavs/train/Tom Sample 32.wav , length: 2.0 secs,  mfccs: (100, 20)\n",
      "file name : ../data/wavs/train/Tom Sample 33.wav , length: 2.0 secs,  mfccs: (100, 20)\n"
     ]
    },
    {
     "name": "stderr",
     "output_type": "stream",
     "text": [
      "/home/jaeserrr/anaconda3/envs/drum/lib/python3.11/site-packages/sklearn/preprocessing/_data.py:247: UserWarning: Numerical issues were encountered when centering the data and might not be solved. Dataset may contain too large values. You may need to prescale your features.\n",
      "  warnings.warn(\n",
      "/home/jaeserrr/anaconda3/envs/drum/lib/python3.11/site-packages/sklearn/preprocessing/_data.py:266: UserWarning: Numerical issues were encountered when scaling the data and might not be solved. The standard deviation of the data is probably very close to 0. \n",
      "  warnings.warn(\n",
      "/home/jaeserrr/anaconda3/envs/drum/lib/python3.11/site-packages/sklearn/preprocessing/_data.py:247: UserWarning: Numerical issues were encountered when centering the data and might not be solved. Dataset may contain too large values. You may need to prescale your features.\n",
      "  warnings.warn(\n",
      "/home/jaeserrr/anaconda3/envs/drum/lib/python3.11/site-packages/sklearn/preprocessing/_data.py:266: UserWarning: Numerical issues were encountered when scaling the data and might not be solved. The standard deviation of the data is probably very close to 0. \n",
      "  warnings.warn(\n",
      "/home/jaeserrr/anaconda3/envs/drum/lib/python3.11/site-packages/sklearn/preprocessing/_data.py:247: UserWarning: Numerical issues were encountered when centering the data and might not be solved. Dataset may contain too large values. You may need to prescale your features.\n",
      "  warnings.warn(\n",
      "/home/jaeserrr/anaconda3/envs/drum/lib/python3.11/site-packages/sklearn/preprocessing/_data.py:266: UserWarning: Numerical issues were encountered when scaling the data and might not be solved. The standard deviation of the data is probably very close to 0. \n",
      "  warnings.warn(\n"
     ]
    },
    {
     "name": "stdout",
     "output_type": "stream",
     "text": [
      "file name : ../data/wavs/train/Tom Sample 34.wav , length: 2.0 secs,  mfccs: (100, 20)\n",
      "file name : ../data/wavs/train/Tom Sample 35.wav , length: 2.0 secs,  mfccs: (100, 20)\n",
      "file name : ../data/wavs/train/Tom Sample 36.wav , length: 2.0 secs,  mfccs: (100, 20)\n"
     ]
    },
    {
     "name": "stderr",
     "output_type": "stream",
     "text": [
      "/home/jaeserrr/anaconda3/envs/drum/lib/python3.11/site-packages/sklearn/preprocessing/_data.py:247: UserWarning: Numerical issues were encountered when centering the data and might not be solved. Dataset may contain too large values. You may need to prescale your features.\n",
      "  warnings.warn(\n",
      "/home/jaeserrr/anaconda3/envs/drum/lib/python3.11/site-packages/sklearn/preprocessing/_data.py:266: UserWarning: Numerical issues were encountered when scaling the data and might not be solved. The standard deviation of the data is probably very close to 0. \n",
      "  warnings.warn(\n",
      "/home/jaeserrr/anaconda3/envs/drum/lib/python3.11/site-packages/sklearn/preprocessing/_data.py:247: UserWarning: Numerical issues were encountered when centering the data and might not be solved. Dataset may contain too large values. You may need to prescale your features.\n",
      "  warnings.warn(\n",
      "/home/jaeserrr/anaconda3/envs/drum/lib/python3.11/site-packages/sklearn/preprocessing/_data.py:266: UserWarning: Numerical issues were encountered when scaling the data and might not be solved. The standard deviation of the data is probably very close to 0. \n",
      "  warnings.warn(\n",
      "/home/jaeserrr/anaconda3/envs/drum/lib/python3.11/site-packages/sklearn/preprocessing/_data.py:247: UserWarning: Numerical issues were encountered when centering the data and might not be solved. Dataset may contain too large values. You may need to prescale your features.\n",
      "  warnings.warn(\n",
      "/home/jaeserrr/anaconda3/envs/drum/lib/python3.11/site-packages/sklearn/preprocessing/_data.py:266: UserWarning: Numerical issues were encountered when scaling the data and might not be solved. The standard deviation of the data is probably very close to 0. \n",
      "  warnings.warn(\n"
     ]
    },
    {
     "name": "stdout",
     "output_type": "stream",
     "text": [
      "file name : ../data/wavs/train/Tom Sample 37.wav , length: 2.0 secs,  mfccs: (100, 20)\n",
      "file name : ../data/wavs/train/Tom Sample 38.wav , length: 2.0 secs,  mfccs: (100, 20)\n",
      "file name : ../data/wavs/train/Tom Sample 39.wav , length: 2.0 secs,  mfccs: (100, 20)\n"
     ]
    },
    {
     "name": "stderr",
     "output_type": "stream",
     "text": [
      "/home/jaeserrr/anaconda3/envs/drum/lib/python3.11/site-packages/sklearn/preprocessing/_data.py:247: UserWarning: Numerical issues were encountered when centering the data and might not be solved. Dataset may contain too large values. You may need to prescale your features.\n",
      "  warnings.warn(\n",
      "/home/jaeserrr/anaconda3/envs/drum/lib/python3.11/site-packages/sklearn/preprocessing/_data.py:266: UserWarning: Numerical issues were encountered when scaling the data and might not be solved. The standard deviation of the data is probably very close to 0. \n",
      "  warnings.warn(\n",
      "/home/jaeserrr/anaconda3/envs/drum/lib/python3.11/site-packages/sklearn/preprocessing/_data.py:247: UserWarning: Numerical issues were encountered when centering the data and might not be solved. Dataset may contain too large values. You may need to prescale your features.\n",
      "  warnings.warn(\n",
      "/home/jaeserrr/anaconda3/envs/drum/lib/python3.11/site-packages/sklearn/preprocessing/_data.py:266: UserWarning: Numerical issues were encountered when scaling the data and might not be solved. The standard deviation of the data is probably very close to 0. \n",
      "  warnings.warn(\n",
      "/home/jaeserrr/anaconda3/envs/drum/lib/python3.11/site-packages/sklearn/preprocessing/_data.py:247: UserWarning: Numerical issues were encountered when centering the data and might not be solved. Dataset may contain too large values. You may need to prescale your features.\n",
      "  warnings.warn(\n",
      "/home/jaeserrr/anaconda3/envs/drum/lib/python3.11/site-packages/sklearn/preprocessing/_data.py:266: UserWarning: Numerical issues were encountered when scaling the data and might not be solved. The standard deviation of the data is probably very close to 0. \n",
      "  warnings.warn(\n"
     ]
    },
    {
     "name": "stdout",
     "output_type": "stream",
     "text": [
      "file name : ../data/wavs/train/Tom Sample 4.wav , length: 2.0 secs,  mfccs: (100, 20)\n",
      "file name : ../data/wavs/train/Tom Sample 40.wav , length: 2.0 secs,  mfccs: (100, 20)\n",
      "file name : ../data/wavs/train/Tom Sample 5.wav , length: 2.0 secs,  mfccs: (100, 20)\n"
     ]
    },
    {
     "name": "stderr",
     "output_type": "stream",
     "text": [
      "/home/jaeserrr/anaconda3/envs/drum/lib/python3.11/site-packages/sklearn/preprocessing/_data.py:247: UserWarning: Numerical issues were encountered when centering the data and might not be solved. Dataset may contain too large values. You may need to prescale your features.\n",
      "  warnings.warn(\n",
      "/home/jaeserrr/anaconda3/envs/drum/lib/python3.11/site-packages/sklearn/preprocessing/_data.py:266: UserWarning: Numerical issues were encountered when scaling the data and might not be solved. The standard deviation of the data is probably very close to 0. \n",
      "  warnings.warn(\n",
      "/home/jaeserrr/anaconda3/envs/drum/lib/python3.11/site-packages/sklearn/preprocessing/_data.py:247: UserWarning: Numerical issues were encountered when centering the data and might not be solved. Dataset may contain too large values. You may need to prescale your features.\n",
      "  warnings.warn(\n",
      "/home/jaeserrr/anaconda3/envs/drum/lib/python3.11/site-packages/sklearn/preprocessing/_data.py:266: UserWarning: Numerical issues were encountered when scaling the data and might not be solved. The standard deviation of the data is probably very close to 0. \n",
      "  warnings.warn(\n",
      "/home/jaeserrr/anaconda3/envs/drum/lib/python3.11/site-packages/sklearn/preprocessing/_data.py:247: UserWarning: Numerical issues were encountered when centering the data and might not be solved. Dataset may contain too large values. You may need to prescale your features.\n",
      "  warnings.warn(\n",
      "/home/jaeserrr/anaconda3/envs/drum/lib/python3.11/site-packages/sklearn/preprocessing/_data.py:266: UserWarning: Numerical issues were encountered when scaling the data and might not be solved. The standard deviation of the data is probably very close to 0. \n",
      "  warnings.warn(\n"
     ]
    },
    {
     "name": "stdout",
     "output_type": "stream",
     "text": [
      "file name : ../data/wavs/train/Tom Sample 6.wav , length: 2.0 secs,  mfccs: (100, 20)\n",
      "file name : ../data/wavs/train/Tom Sample 7.wav , length: 2.0 secs,  mfccs: (100, 20)\n",
      "file name : ../data/wavs/train/Tom Sample 8.wav , length: 2.0 secs,  mfccs: (100, 20)\n",
      "file name : ../data/wavs/train/Tom Sample 9.wav , length: 2.0 secs,  mfccs: (100, 20)\n"
     ]
    },
    {
     "name": "stderr",
     "output_type": "stream",
     "text": [
      "/home/jaeserrr/anaconda3/envs/drum/lib/python3.11/site-packages/sklearn/preprocessing/_data.py:247: UserWarning: Numerical issues were encountered when centering the data and might not be solved. Dataset may contain too large values. You may need to prescale your features.\n",
      "  warnings.warn(\n",
      "/home/jaeserrr/anaconda3/envs/drum/lib/python3.11/site-packages/sklearn/preprocessing/_data.py:266: UserWarning: Numerical issues were encountered when scaling the data and might not be solved. The standard deviation of the data is probably very close to 0. \n",
      "  warnings.warn(\n"
     ]
    }
   ],
   "source": [
    "root_path = \"../data/wavs/train/\"\n",
    "wav_list = os.listdir(root_path)\n",
    "wav_files = [os.path.join(root_path, file) for file in wav_list if file.endswith('.wav')]\n",
    "print(len(wav_files))\n",
    "\n",
    "# data는 우리가 리브로사로 추출한 mfccs라는 특성이고\n",
    "# class_label은 그 음향의 종류를 나타낸다.\n",
    "\n",
    "features = []\n",
    "for wav_file in wav_files:\n",
    "    data = extract_feature(wav_file)\n",
    "    class_label = 0\n",
    "    if 'Overhead' in wav_file:\n",
    "        class_label = 1\n",
    "    elif 'Snare' in wav_file:\n",
    "        class_label = 2\n",
    "    elif 'Tom' in wav_file:\n",
    "        class_label = 3\n",
    "    elif 'Bass' in wav_file:\n",
    "        class_label = 4\n",
    "    else:\n",
    "        class_label = 0\n",
    "    features.append([data, class_label])\n",
    "\n",
    "# Convert into a Panda dataframe \n",
    "featuresdf = pd.DataFrame(features, columns=['feature','class_label'])"
   ]
  },
  {
   "cell_type": "code",
   "execution_count": 163,
   "metadata": {},
   "outputs": [],
   "source": [
    "from keras.utils import to_categorical\n",
    "\n",
    "# 불러온 featuresdf에서 feature는 X에 저장하였고 class_label은 y로 저장하였다.\n",
    "# 헌데 y는 yy로 변환과정을 거쳐서 다시 저장되었다.\n",
    "# 둘의 차이는 원-핫-인코딩의 여부이다.\n",
    "# 원-핫-인코딩은 1,2,3 있을 때 1: [1.0.0] / 2:[0.1.0] / 3:[0.0.1] 로 변환해주는 거임.\n",
    "# 이렇게 변환해서 사용하는 이유는 우리가 작성할 딥러닝 모델이 멀티 클래스(3~ 가지) 분류를 하기 때문이다.\n",
    "\n",
    "X = np.array(featuresdf.feature.tolist())\n",
    "y = np.array(featuresdf.class_label.tolist())\n",
    "\n",
    "le = LabelEncoder()\n",
    "yy = to_categorical(le.fit_transform(y))"
   ]
  },
  {
   "cell_type": "code",
   "execution_count": 164,
   "metadata": {},
   "outputs": [
    {
     "name": "stdout",
     "output_type": "stream",
     "text": [
      "(128, 100, 20)\n",
      "(32, 100, 20)\n",
      "[4 4 4 4 4 4 4 4 4 4]\n",
      "[[0. 0. 0. 1.]\n",
      " [0. 0. 0. 1.]\n",
      " [0. 0. 0. 1.]\n",
      " [0. 0. 0. 1.]\n",
      " [0. 0. 0. 1.]\n",
      " [0. 0. 0. 1.]\n",
      " [0. 0. 0. 1.]\n",
      " [0. 0. 0. 1.]\n",
      " [0. 0. 0. 1.]\n",
      " [0. 0. 0. 1.]]\n",
      "[[0. 1. 0. 0.]\n",
      " [0. 1. 0. 0.]\n",
      " [0. 0. 1. 0.]\n",
      " [1. 0. 0. 0.]\n",
      " [0. 1. 0. 0.]\n",
      " [0. 0. 0. 1.]\n",
      " [0. 1. 0. 0.]\n",
      " [1. 0. 0. 0.]\n",
      " [0. 1. 0. 0.]\n",
      " [0. 0. 1. 0.]]\n"
     ]
    }
   ],
   "source": [
    "x_train, x_test, y_train, y_test = train_test_split(X, yy, test_size=0.2, random_state = 42)\n",
    "# x_train, x_test, y_train, y_test = train_test_split(X, y, test_size=0.2, random_state = 42)\n",
    "\n",
    "print(x_train.shape)\n",
    "print(x_test.shape)\n",
    "print(y[:10])\n",
    "print(yy[:10])\n",
    "print(y_test[:10])"
   ]
  },
  {
   "cell_type": "code",
   "execution_count": 165,
   "metadata": {},
   "outputs": [
    {
     "ename": "InvalidArgumentError",
     "evalue": "{{function_node __wrapped__Reshape_device_/job:localhost/replica:0/task:0/device:CPU:0}} Input to reshape is a tensor with 256000 values, but the requested shape requires a multiple of 6960 [Op:Reshape]",
     "output_type": "error",
     "traceback": [
      "\u001b[0;31m---------------------------------------------------------------------------\u001b[0m",
      "\u001b[0;31mInvalidArgumentError\u001b[0m                      Traceback (most recent call last)",
      "\u001b[1;32m/mnt/c/Users/wotjr/Documents/Github/automatic-drum-transcription/src/deeplearning_lstm_model.ipynb Cell 9\u001b[0m line \u001b[0;36m4\n\u001b[1;32m      <a href='vscode-notebook-cell://wsl%2Bubuntu/mnt/c/Users/wotjr/Documents/Github/automatic-drum-transcription/src/deeplearning_lstm_model.ipynb#X12sdnNjb2RlLXJlbW90ZQ%3D%3D?line=0'>1</a>\u001b[0m \u001b[39m# input shape 조정\u001b[39;00m\n\u001b[1;32m      <a href='vscode-notebook-cell://wsl%2Bubuntu/mnt/c/Users/wotjr/Documents/Github/automatic-drum-transcription/src/deeplearning_lstm_model.ipynb#X12sdnNjb2RlLXJlbW90ZQ%3D%3D?line=1'>2</a>\u001b[0m \u001b[39m# cpu를 사용해서 수행한다\u001b[39;00m\n\u001b[1;32m      <a href='vscode-notebook-cell://wsl%2Bubuntu/mnt/c/Users/wotjr/Documents/Github/automatic-drum-transcription/src/deeplearning_lstm_model.ipynb#X12sdnNjb2RlLXJlbW90ZQ%3D%3D?line=2'>3</a>\u001b[0m \u001b[39mwith\u001b[39;00m tf\u001b[39m.\u001b[39mdevice(\u001b[39m'\u001b[39m\u001b[39m/cpu:0\u001b[39m\u001b[39m'\u001b[39m):\n\u001b[0;32m----> <a href='vscode-notebook-cell://wsl%2Bubuntu/mnt/c/Users/wotjr/Documents/Github/automatic-drum-transcription/src/deeplearning_lstm_model.ipynb#X12sdnNjb2RlLXJlbW90ZQ%3D%3D?line=3'>4</a>\u001b[0m     x_train \u001b[39m=\u001b[39m tf\u001b[39m.\u001b[39;49mreshape(x_train, [\u001b[39m-\u001b[39;49m\u001b[39m1\u001b[39;49m, n_row, n_columns, n_channels])\n\u001b[1;32m      <a href='vscode-notebook-cell://wsl%2Bubuntu/mnt/c/Users/wotjr/Documents/Github/automatic-drum-transcription/src/deeplearning_lstm_model.ipynb#X12sdnNjb2RlLXJlbW90ZQ%3D%3D?line=4'>5</a>\u001b[0m     x_test \u001b[39m=\u001b[39m tf\u001b[39m.\u001b[39mreshape(x_test, [\u001b[39m-\u001b[39m\u001b[39m1\u001b[39m, n_row, n_columns, n_channels])\n",
      "File \u001b[0;32m~/anaconda3/envs/drum/lib/python3.11/site-packages/tensorflow/python/util/traceback_utils.py:153\u001b[0m, in \u001b[0;36mfilter_traceback.<locals>.error_handler\u001b[0;34m(*args, **kwargs)\u001b[0m\n\u001b[1;32m    151\u001b[0m \u001b[39mexcept\u001b[39;00m \u001b[39mException\u001b[39;00m \u001b[39mas\u001b[39;00m e:\n\u001b[1;32m    152\u001b[0m   filtered_tb \u001b[39m=\u001b[39m _process_traceback_frames(e\u001b[39m.\u001b[39m__traceback__)\n\u001b[0;32m--> 153\u001b[0m   \u001b[39mraise\u001b[39;00m e\u001b[39m.\u001b[39mwith_traceback(filtered_tb) \u001b[39mfrom\u001b[39;00m \u001b[39mNone\u001b[39;00m\n\u001b[1;32m    154\u001b[0m \u001b[39mfinally\u001b[39;00m:\n\u001b[1;32m    155\u001b[0m   \u001b[39mdel\u001b[39;00m filtered_tb\n",
      "File \u001b[0;32m~/anaconda3/envs/drum/lib/python3.11/site-packages/tensorflow/python/eager/execute.py:60\u001b[0m, in \u001b[0;36mquick_execute\u001b[0;34m(op_name, num_outputs, inputs, attrs, ctx, name)\u001b[0m\n\u001b[1;32m     53\u001b[0m   \u001b[39m# Convert any objects of type core_types.Tensor to Tensor.\u001b[39;00m\n\u001b[1;32m     54\u001b[0m   inputs \u001b[39m=\u001b[39m [\n\u001b[1;32m     55\u001b[0m       tensor_conversion_registry\u001b[39m.\u001b[39mconvert(t)\n\u001b[1;32m     56\u001b[0m       \u001b[39mif\u001b[39;00m \u001b[39misinstance\u001b[39m(t, core_types\u001b[39m.\u001b[39mTensor)\n\u001b[1;32m     57\u001b[0m       \u001b[39melse\u001b[39;00m t\n\u001b[1;32m     58\u001b[0m       \u001b[39mfor\u001b[39;00m t \u001b[39min\u001b[39;00m inputs\n\u001b[1;32m     59\u001b[0m   ]\n\u001b[0;32m---> 60\u001b[0m   tensors \u001b[39m=\u001b[39m pywrap_tfe\u001b[39m.\u001b[39mTFE_Py_Execute(ctx\u001b[39m.\u001b[39m_handle, device_name, op_name,\n\u001b[1;32m     61\u001b[0m                                       inputs, attrs, num_outputs)\n\u001b[1;32m     62\u001b[0m \u001b[39mexcept\u001b[39;00m core\u001b[39m.\u001b[39m_NotOkStatusException \u001b[39mas\u001b[39;00m e:\n\u001b[1;32m     63\u001b[0m   \u001b[39mif\u001b[39;00m name \u001b[39mis\u001b[39;00m \u001b[39mnot\u001b[39;00m \u001b[39mNone\u001b[39;00m:\n",
      "\u001b[0;31mInvalidArgumentError\u001b[0m: {{function_node __wrapped__Reshape_device_/job:localhost/replica:0/task:0/device:CPU:0}} Input to reshape is a tensor with 256000 values, but the requested shape requires a multiple of 6960 [Op:Reshape]"
     ]
    }
   ],
   "source": [
    "\n",
    "\n",
    "# input shape 조정\n",
    "# cpu를 사용해서 수행한다\n",
    "with tf.device('/cpu:0'):\n",
    "    x_train = tf.reshape(x_train, [-1, n_row, n_columns, n_channels])\n",
    "    x_test = tf.reshape(x_test, [-1, n_row, n_columns, n_channels])"
   ]
  },
  {
   "cell_type": "code",
   "execution_count": null,
   "metadata": {},
   "outputs": [],
   "source": [
    "from tensorflow.keras.layers import Dense, Conv1D, LSTM, Input, TimeDistributed\n",
    "from tensorflow.keras.models import Model\n",
    "\n",
    "model = keras.Sequential()\n",
    "\n",
    "model.add(tf.keras.layers.LSTM(input_shape=(n_row, n_columns, n_channels), filters=16, return_sequences=True))\n",
    "model.add(tf.keras.layers.Dense(units=n_classes, activation='softmax'))\n",
    "\n",
    "model.summary()"
   ]
  },
  {
   "cell_type": "code",
   "execution_count": null,
   "metadata": {},
   "outputs": [],
   "source": [
    "training_epochs = 72\n",
    "num_batch_size = 128\n",
    "\n",
    "learning_rate = 0.001\n",
    "opt = keras.optimizers.Adam(learning_rate=learning_rate)\n",
    "\n",
    "model.compile(loss='categorical_crossentropy', optimizer=opt, metrics=['accuracy'])\n",
    "\n",
    "history = model.fit(x_train, y_train, batch_size=num_batch_size, epochs=training_epochs)"
   ]
  },
  {
   "cell_type": "code",
   "execution_count": null,
   "metadata": {},
   "outputs": [],
   "source": [
    "import matplotlib.pyplot as plt\n",
    "\n",
    "def vis(history, key):\n",
    "    x = np.arange(0, training_epochs)\n",
    "    y = list(history.history[key])\n",
    "    plt.plot(x, y)\n",
    "    plt.title(key)\n",
    "    \n",
    "def plot_history(history) :\n",
    "    # 0 accuracy, 1 loss\n",
    "    key_value = list(set([i.split(\"val_\")[-1] for i in list(history.history.keys())]))\n",
    "    plt.figure(figsize=(12, 4))\n",
    "    for idx , key in enumerate(key_value) :\n",
    "        plt.subplot(1, len(key_value), idx+1)\n",
    "        vis(history, key)\n",
    "    plt.tight_layout()\n",
    "    plt.show()\n",
    "    \n",
    "plot_history(history)"
   ]
  },
  {
   "cell_type": "code",
   "execution_count": null,
   "metadata": {},
   "outputs": [],
   "source": [
    "print('\\n# Evaluate on test data')\n",
    "results = model.evaluate(x_test, y_test, batch_size=128)\n",
    "print('test loss, test acc:', results)\n",
    "\n",
    "model.save(\"drum_classifier_model\")"
   ]
  },
  {
   "cell_type": "code",
   "execution_count": null,
   "metadata": {},
   "outputs": [],
   "source": [
    "root = \"../data/wavs/test/\"\n",
    "# test = root + \"WaveDrum02_60#MIX_mp3cut.wav\"\n",
    "test = root + \"Overhead Sample 30.wav\"\n",
    "# test = root + \"Snare Sample 30.wav\"\n",
    "# test = root + \"Tom Sample 30.wav\"\n",
    "\n",
    "n_columns = 174    \n",
    "n_row = 40       \n",
    "n_channels = 1\n",
    "\n",
    "# input shape 조정\n",
    "# cpu를 사용해서 수행한다\n",
    "test = np.array(extract_feature(test))\n",
    "with tf.device('/cpu:0'):\n",
    "    test = tf.reshape(test, [-1, n_row, n_columns, n_channels])\n",
    "\n",
    "# [Overhead, Snare, Tom, Bass]\n",
    "model.predict(test, batch_size=128)"
   ]
  }
 ],
 "metadata": {
  "kernelspec": {
   "display_name": "Python 3 (ipykernel)",
   "language": "python",
   "name": "python3"
  },
  "language_info": {
   "codemirror_mode": {
    "name": "ipython",
    "version": 3
   },
   "file_extension": ".py",
   "mimetype": "text/x-python",
   "name": "python",
   "nbconvert_exporter": "python",
   "pygments_lexer": "ipython3",
   "version": "3.11.5"
  }
 },
 "nbformat": 4,
 "nbformat_minor": 4
}
