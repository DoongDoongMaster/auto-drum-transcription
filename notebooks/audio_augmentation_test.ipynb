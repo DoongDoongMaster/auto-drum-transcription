{
 "cells": [
  {
   "cell_type": "code",
   "execution_count": 5,
   "metadata": {},
   "outputs": [],
   "source": [
    "import librosa\n",
    "\n",
    "audio_path = \"../data/test/IDMT-SMT-DRUMS-V2/audio/WaveDrum02_60#SD.wav\"\n",
    "sounds_path = \"../data/augmentation-test\"\n",
    "my_waveform_ndarray, _ = librosa.load(audio_path, sr=44100)"
   ]
  },
  {
   "cell_type": "code",
   "execution_count": 7,
   "metadata": {},
   "outputs": [],
   "source": [
    "from audiomentations import AddBackgroundNoise, PolarityInversion\n",
    "\n",
    "transform = AddBackgroundNoise(\n",
    "    sounds_path=audio_path,\n",
    "    min_snr_in_db=3.0,\n",
    "    max_snr_in_db=30.0,\n",
    "    noise_transform=PolarityInversion(),\n",
    "    p=1.0\n",
    ")\n",
    "\n",
    "augmented_sound = transform(my_waveform_ndarray, sample_rate=44100)"
   ]
  },
  {
   "cell_type": "code",
   "execution_count": 8,
   "metadata": {},
   "outputs": [
    {
     "data": {
      "text/plain": [
       "array([-6.7776236e-05,  0.0000000e+00,  0.0000000e+00, ...,\n",
       "       -1.3555247e-04, -1.3555247e-04, -1.3555247e-04], dtype=float32)"
      ]
     },
     "execution_count": 8,
     "metadata": {},
     "output_type": "execute_result"
    }
   ],
   "source": [
    "augmented_sound"
   ]
  }
 ],
 "metadata": {
  "kernelspec": {
   "display_name": "drum",
   "language": "python",
   "name": "python3"
  },
  "language_info": {
   "codemirror_mode": {
    "name": "ipython",
    "version": 3
   },
   "file_extension": ".py",
   "mimetype": "text/x-python",
   "name": "python",
   "nbconvert_exporter": "python",
   "pygments_lexer": "ipython3",
   "version": "3.11.5"
  }
 },
 "nbformat": 4,
 "nbformat_minor": 2
}
