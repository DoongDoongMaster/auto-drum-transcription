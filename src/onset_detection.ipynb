{
  "cells": [
    {
      "cell_type": "markdown",
      "metadata": {
        "id": "P_5eUV0qQqjw"
      },
      "source": [
        "# Use Essentia Library"
      ]
    },
    {
      "cell_type": "markdown",
      "metadata": {
        "id": "_1fzR8_bQ1zT"
      },
      "source": [
        "### Load Audio"
      ]
    },
    {
      "cell_type": "code",
      "execution_count": null,
      "metadata": {
        "id": "vnUDG174AzfF"
      },
      "outputs": [],
      "source": [
        "!pip3 install essentia"
      ]
    },
    {
      "cell_type": "code",
      "execution_count": null,
      "metadata": {},
      "outputs": [],
      "source": [
        "SR=44100"
      ]
    },
    {
      "cell_type": "code",
      "execution_count": null,
      "metadata": {},
      "outputs": [],
      "source": [
        "!pip3 install --upgrade soundfile"
      ]
    },
    {
      "cell_type": "code",
      "execution_count": null,
      "metadata": {
        "colab": {
          "base_uri": "https://localhost:8080/"
        },
        "id": "bZjPTFxjA6Wj",
        "outputId": "fd9ecf6a-1fe6-4cac-c898-2e08de4105b5"
      },
      "outputs": [],
      "source": [
        "from essentia.standard import *\n",
        "from tempfile import TemporaryDirectory\n",
        "import librosa\n",
        "\n",
        "\n",
        "# Load audio file.\n",
        "input_file_path=\"../data/raw_data/per_drum/0_CC/08/CC_08_9999.m4a\"\n",
        "data, sr = librosa.load(input_file_path, sr=SR)\n",
        "audio = MonoLoader(filename=input_file_path)()\n",
        "\n",
        "# # librosa.effects.trim은 Librosa 라이브러리의 함수로, 오디오 신호에서 시작과 끝의 정적인 소음을 자르거나 제거하는 데 사용됩니다.\n",
        "# audio = librosa.effects.trim(audio, top_db=5000, frame_length=1024, hop_length=512)[0]"
      ]
    },
    {
      "cell_type": "code",
      "execution_count": null,
      "metadata": {
        "colab": {
          "base_uri": "https://localhost:8080/"
        },
        "id": "Twyl457YBNN3",
        "outputId": "f570a724-06c2-465f-e795-649b26c3d768"
      },
      "outputs": [],
      "source": [
        "audio, sr"
      ]
    },
    {
      "cell_type": "markdown",
      "metadata": {
        "id": "-GTJ_r0rRP-k"
      },
      "source": [
        "### Onset Detection"
      ]
    },
    {
      "cell_type": "code",
      "execution_count": null,
      "metadata": {
        "id": "nOlo5Ch7AxRC"
      },
      "outputs": [],
      "source": [
        "# 1. Compute the onset detection function (ODF).\n",
        "\n",
        "# The OnsetDetection algorithm provides various ODFs.\n",
        "od_hfc = OnsetDetection(method='hfc')\n",
        "od_complex = OnsetDetection(method='complex')\n",
        "\n",
        "# We need the auxilary algorithms to compute magnitude and phase.\n",
        "w = Windowing(type='hann')\n",
        "fft = FFT() # Outputs a complex FFT vector.\n",
        "c2p = CartesianToPolar() # Converts it into a pair of magnitude and phase vectors.\n",
        "\n",
        "# Compute both ODF frame by frame. Store results to a Pool.\n",
        "pool = essentia.Pool()\n",
        "for frame in FrameGenerator(audio, frameSize=1024, hopSize=512):\n",
        "    magnitude, phase = c2p(fft(w(frame)))\n",
        "    pool.add('odf.hfc', od_hfc(magnitude, phase))\n",
        "    pool.add('odf.complex', od_complex(magnitude, phase))\n",
        "\n",
        "# 2. Detect onset locations.\n",
        "onsets = Onsets()\n",
        "\n",
        "onsets_hfc = onsets(# This algorithm expects a matrix, not a vector.\n",
        "                    essentia.array([pool['odf.hfc']]),\n",
        "                    # You need to specify weights, but if we use only one ODF\n",
        "                    # it doesn't actually matter which weight to give it\n",
        "                    [1])\n",
        "\n",
        "onsets_complex = onsets(essentia.array([pool['odf.complex']]), [1])\n",
        "\n",
        "\n",
        "# Add onset markers to the audio and save it to a file.\n",
        "# We use beeps instead of white noise and stereo signal as it's more distinctive.\n",
        "\n",
        "# We want to keep beeps in a separate audio channel.\n",
        "# Add them to a silent audio and use the original audio as another channel. Mux both into a stereo signal.\n",
        "# silence = [0.] * len(audio)\n",
        "\n",
        "# beeps_hfc = AudioOnsetsMarker(onsets=onsets_hfc, type='beep')(silence)\n",
        "# beeps_complex = AudioOnsetsMarker(onsets=onsets_complex, type='beep')(silence)\n",
        "\n",
        "# audio_hfc = StereoMuxer()(audio, beeps_hfc)\n",
        "# audio_complex = StereoMuxer()(audio, beeps_complex)\n",
        "\n",
        "# # Write audio to files in a temporary directory.\n",
        "# temp_dir = TemporaryDirectory()\n",
        "# AudioWriter(filename=temp_dir.name + '/hiphop_onsets_hfc_stereo.mp3', format='mp3')(audio_hfc)\n",
        "# AudioWriter(filename=temp_dir.name + '/hiphop_onsets_complex_stereo.mp3', format='mp3')(audio_complex)"
      ]
    },
    {
      "cell_type": "markdown",
      "metadata": {
        "id": "nMorUt-eRS9K"
      },
      "source": [
        "### Show Graph"
      ]
    },
    {
      "cell_type": "code",
      "execution_count": null,
      "metadata": {
        "colab": {
          "base_uri": "https://localhost:8080/",
          "height": 1000
        },
        "id": "OblKUpLOBfqy",
        "outputId": "0c396022-cc2c-499b-cb54-5a60a343204c"
      },
      "outputs": [],
      "source": [
        "import matplotlib.pyplot as plt\n",
        "%matplotlib inline\n",
        "\n",
        "import numpy\n",
        "n_frames = len(pool['odf.hfc'])\n",
        "frames_position_samples = numpy.array(range(n_frames)) * 512\n",
        "\n",
        "fig, ((ax1, ax2, ax3, ax4)) = plt.subplots(4, 1, sharex=True, sharey=False, figsize=(15, 16))\n",
        "\n",
        "ax1.set_title('HFC ODF')\n",
        "ax1.plot(frames_position_samples, pool['odf.hfc'], color='magenta')\n",
        "\n",
        "ax2.set_title('Complex ODF')\n",
        "ax2.plot(frames_position_samples, pool['odf.complex'], color='red')\n",
        "\n",
        "ax3.set_title('Audio waveform and the estimated onset positions (HFC ODF)')\n",
        "ax3.plot(audio)\n",
        "for onset in onsets_hfc:\n",
        "    ax3.axvline(x=onset*44100, color='magenta')\n",
        "\n",
        "ax4.set_title('Audio waveform and the estimated onset positions (complex ODF)')\n",
        "ax4.plot(audio)\n",
        "for onset in onsets_complex:\n",
        "    ax4.axvline(x=onset*44100, color='red')"
      ]
    },
    {
      "cell_type": "markdown",
      "metadata": {
        "id": "s53ILweGRWkf"
      },
      "source": [
        "### Separate Audio"
      ]
    },
    {
      "cell_type": "code",
      "execution_count": null,
      "metadata": {
        "colab": {
          "base_uri": "https://localhost:8080/"
        },
        "id": "fmNTtIx4H_zs",
        "outputId": "6baaae29-a35e-44aa-a7b3-96ba95dbc0fe"
      },
      "outputs": [],
      "source": [
        "# data separate\n",
        "onsets_hfc[0]"
      ]
    },
    {
      "cell_type": "code",
      "execution_count": null,
      "metadata": {
        "id": "jXNOt1xFFeth"
      },
      "outputs": [],
      "source": [
        "!pip3 install sox"
      ]
    },
    {
      "cell_type": "code",
      "execution_count": null,
      "metadata": {
        "id": "yGg16PuqNOxC"
      },
      "outputs": [],
      "source": [
        "ln = len(data)//2"
      ]
    },
    {
      "cell_type": "code",
      "execution_count": null,
      "metadata": {
        "id": "FDlzFHsw5T_q"
      },
      "outputs": [],
      "source": [
        "import librosa\n",
        "\n",
        "start = (int)((onsets_hfc[0]-0.1) * sr)\n",
        "end = (int)((onsets_hfc[0]+0.1) * sr)\n",
        "\n",
        "print(end)\n",
        "\n",
        "duration = 0.1\n",
        "new_end = (int)((onsets_hfc[0] + duration) * sr)\n",
        "print(new_end)\n",
        "end = min(end, new_end)\n",
        "\n",
        "print(start)\n",
        "print(end)\n",
        "\n",
        "trimmed = data[start:end]\n",
        "\n",
        "trimmed\n",
        "\n",
        "# librosa.output.write_wav(\"/content/drive/MyDrive/Colab Notebooks/data/trimmed_data/examples.wav\", trimmed, sr)"
      ]
    },
    {
      "cell_type": "code",
      "execution_count": null,
      "metadata": {
        "id": "vsbGZ6CST1mm"
      },
      "outputs": [],
      "source": [
        "import scipy.io.wavfile\n",
        "scipy.io.wavfile.write(\"../data/test/examples.wav\", sr, trimmed)"
      ]
    },
    {
      "cell_type": "code",
      "execution_count": null,
      "metadata": {
        "colab": {
          "base_uri": "https://localhost:8080/",
          "height": 74
        },
        "id": "NRc13U5xRiX3",
        "outputId": "1a0202ce-5b89-47b0-eb21-953081aacea3"
      },
      "outputs": [],
      "source": [
        "from IPython.display import Audio, display\n",
        "\n",
        "display(Audio(\"../data/test/examples.wav\"))"
      ]
    },
    {
      "cell_type": "markdown",
      "metadata": {
        "id": "i7gwvD2CQimC"
      },
      "source": [
        "# Use Librosa Library"
      ]
    },
    {
      "cell_type": "code",
      "execution_count": null,
      "metadata": {
        "id": "bGm80juTBsXd"
      },
      "outputs": [],
      "source": [
        "!pip3 install librosa"
      ]
    },
    {
      "cell_type": "code",
      "execution_count": null,
      "metadata": {
        "id": "p0sfYL7LCWbu"
      },
      "outputs": [],
      "source": [
        "!pip3 install numpy"
      ]
    },
    {
      "cell_type": "code",
      "execution_count": null,
      "metadata": {
        "id": "7Om6PpNoB-5m"
      },
      "outputs": [],
      "source": [
        "import librosa\n",
        "import numpy as np\n",
        "\n",
        "y, sr = librosa.load('/content/drive/MyDrive/Colab Notebooks/data/per_drum/1_HH/16/HH_16_0001.m4a')\n",
        "onset_env = librosa.onset.onset_strength(y=y, sr=sr,\n",
        "                                         aggregate=np.median,\n",
        "                                         fmax=8000, n_mels=256)\n",
        "peaks = librosa.util.peak_pick(onset_env, pre_max=3, post_max=3, pre_avg=3, post_avg=5, delta=0.5, wait=10)\n",
        "peaks"
      ]
    },
    {
      "cell_type": "code",
      "execution_count": null,
      "metadata": {
        "id": "Y9amJJxaCdFp"
      },
      "outputs": [],
      "source": [
        "import matplotlib.pyplot as plt\n",
        "times = librosa.times_like(onset_env, sr=sr, hop_length=512)\n",
        "fig, ax = plt.subplots(nrows=2, sharex=True)\n",
        "D = np.abs(librosa.stft(y))\n",
        "librosa.display.specshow(librosa.amplitude_to_db(D, ref=np.max),\n",
        "                         y_axis='log', x_axis='time', ax=ax[1])\n",
        "ax[0].plot(times, onset_env, alpha=0.8, label='Onset strength')\n",
        "ax[0].vlines(times[peaks], 0,\n",
        "             onset_env.max(), color='r', alpha=0.8,\n",
        "             label='Selected peaks')\n",
        "ax[0].legend(frameon=True, framealpha=0.8)\n",
        "ax[0].label_outer()"
      ]
    },
    {
      "cell_type": "markdown",
      "metadata": {
        "id": "6avW1HohRsX4"
      },
      "source": [
        "# Acustic Drum Data Load & Separate\n"
      ]
    },
    {
      "cell_type": "code",
      "execution_count": null,
      "metadata": {
        "id": "78K1wLxjSfkg"
      },
      "outputs": [],
      "source": [
        "!pip3 install glob2"
      ]
    },
    {
      "cell_type": "code",
      "execution_count": null,
      "metadata": {
        "id": "NKl0NM-skwQF"
      },
      "outputs": [],
      "source": [
        "SR = 44100"
      ]
    },
    {
      "cell_type": "code",
      "execution_count": null,
      "metadata": {
        "id": "SH2yU_YZmT9K"
      },
      "outputs": [],
      "source": [
        "ONSET_DURATION = 0.1"
      ]
    },
    {
      "cell_type": "code",
      "execution_count": null,
      "metadata": {
        "id": "wqyavh0fho2Y"
      },
      "outputs": [],
      "source": [
        "from essentia.standard import MonoLoader, OnsetDetection, Windowing, FFT, CartesianToPolar, FrameGenerator, Onsets, AudioOnsetsMarker, StereoMuxer, AudioWriter\n",
        "from tempfile import TemporaryDirectory\n",
        "\n",
        "# onset detection function\n",
        "def onset_detect(input_path):\n",
        "  # Load audio file.\n",
        "  audio = MonoLoader(filename=input_path)()\n",
        "\n",
        "  # 1. Compute the onset detection function (ODF).\n",
        "\n",
        "  # The OnsetDetection algorithm provides various ODFs.\n",
        "  od_hfc = OnsetDetection(method='hfc')\n",
        "\n",
        "  # We need the auxilary algorithms to compute magnitude and phase.\n",
        "  w = Windowing(type='hann')\n",
        "  fft = FFT() # Outputs a complex FFT vector.\n",
        "  c2p = CartesianToPolar() # Converts it into a pair of magnitude and phase vectors.\n",
        "\n",
        "  # Compute both ODF frame by frame. Store results to a Pool.\n",
        "  pool = essentia.Pool()\n",
        "  for frame in FrameGenerator(audio, frameSize=1024, hopSize=512):\n",
        "      magnitude, phase = c2p(fft(w(frame)))\n",
        "      pool.add('odf.hfc', od_hfc(magnitude, phase))\n",
        "\n",
        "  # 2. Detect onset locations.\n",
        "  onsets = Onsets()\n",
        "\n",
        "  onsets_hfc = onsets(# This algorithm expects a matrix, not a vector.\n",
        "                      essentia.array([pool['odf.hfc']]),\n",
        "                      # You need to specify weights, but if we use only one ODF\n",
        "                      # it doesn't actually matter which weight to give it\n",
        "                      [1])\n",
        "\n",
        "  return onsets_hfc"
      ]
    },
    {
      "cell_type": "code",
      "execution_count": 10,
      "metadata": {},
      "outputs": [],
      "source": [
        "import essentia\n",
        "from essentia.standard import MonoLoader, OnsetDetection, Windowing, FFT, CartesianToPolar, FrameGenerator, Onsets, AudioOnsetsMarker, StereoMuxer, AudioWriter\n",
        "from tempfile import TemporaryDirectory\n",
        "\n",
        "# onset detection function\n",
        "def onset_detection(audio):\n",
        "  # 1. Compute the onset detection function (ODF).\n",
        "\n",
        "  # The OnsetDetection algorithm provides various ODFs.\n",
        "  od_hfc = OnsetDetection(method='hfc')\n",
        "\n",
        "  # We need the auxilary algorithms to compute magnitude and phase.\n",
        "  w = Windowing(type='hann')\n",
        "  fft = FFT() # Outputs a complex FFT vector.\n",
        "  c2p = CartesianToPolar() # Converts it into a pair of magnitude and phase vectors.\n",
        "\n",
        "  # Compute both ODF frame by frame. Store results to a Pool.\n",
        "  pool = essentia.Pool()\n",
        "  for frame in FrameGenerator(audio, frameSize=1024, hopSize=512):\n",
        "      magnitude, phase = c2p(fft(w(frame)))\n",
        "      pool.add('odf.hfc', od_hfc(magnitude, phase))\n",
        "\n",
        "  # 2. Detect onset locations.\n",
        "  onsets = Onsets()\n",
        "\n",
        "  onsets_hfc = onsets(# This algorithm expects a matrix, not a vector.\n",
        "                      essentia.array([pool['odf.hfc']]),\n",
        "                      # You need to specify weights, but if we use only one ODF\n",
        "                      # it doesn't actually matter which weight to give it\n",
        "                      [1])\n",
        "\n",
        "  return onsets_hfc"
      ]
    },
    {
      "cell_type": "code",
      "execution_count": null,
      "metadata": {
        "id": "OqyztImJkYGC"
      },
      "outputs": [],
      "source": [
        "# trimmed audio\n",
        "def audio_trim_per_onset(audio, onsets, sr=SR, duration=ONSET_DURATION):\n",
        "  trimmed_audios = []\n",
        "  for i in range(0, len(onsets)):\n",
        "    start = (int)((onsets[i]) * sr)\n",
        "    if i + 1 < len(onsets):\n",
        "      end_by_onset = (int)(onsets[i + 1] * sr)\n",
        "    end_by_duration = (int)((onsets[i] + duration) * sr)\n",
        "\n",
        "    if i + 1 < len(onsets):\n",
        "      end = min(end_by_onset, end_by_duration)\n",
        "    else:\n",
        "      end = end_by_duration\n",
        "\n",
        "    trimmed = audio[start:end]\n",
        "    trimmed_audios.append(trimmed)\n",
        "\n",
        "  return trimmed_audios\n"
      ]
    },
    {
      "cell_type": "code",
      "execution_count": null,
      "metadata": {
        "id": "i5JFaANZmeA6"
      },
      "outputs": [],
      "source": [
        "import scipy.io.wavfile\n",
        "\n",
        "# trimmed audio -> wav file write\n",
        "def write_trimmed_audio(root_path, name, trimmed_audios):\n",
        "  start = 1\n",
        "  for audio in trimmed_audios:\n",
        "    # exist or not\n",
        "    if not os.path.exists(root_path):\n",
        "      # if the demo_folder directory is not present\n",
        "      # then create it.\n",
        "      os.makedirs(root_path)\n",
        "    scipy.io.wavfile.write(f'{root_path}/{name}_{start:04}.wav', sr, audio)\n",
        "    start += 1"
      ]
    },
    {
      "cell_type": "markdown",
      "metadata": {
        "id": "TxIYhnNV727m"
      },
      "source": [
        "### for test"
      ]
    },
    {
      "cell_type": "code",
      "execution_count": null,
      "metadata": {
        "id": "3ji7eqeT6HyX"
      },
      "outputs": [],
      "source": [
        "import os\n",
        "\n",
        "# trimming audio\n",
        "trimmed_audios = audio_trim_per_onset(data, onsets_hfc, sr)\n",
        "# print(trimmed_audios)\n",
        "\n",
        "# new_file write\n",
        "trim_root_path = '../data/trim_data/'\n",
        "name = 'example'\n",
        "write_trimmed_audio(trim_root_path, name, trimmed_audios)"
      ]
    },
    {
      "cell_type": "code",
      "execution_count": null,
      "metadata": {
        "colab": {
          "base_uri": "https://localhost:8080/",
          "height": 473
        },
        "id": "yiB-vqbq6o8e",
        "outputId": "14c44c68-db63-4fb3-858d-6382f0f95d3b"
      },
      "outputs": [],
      "source": [
        "from IPython.display import Audio, display\n",
        "\n",
        "wavs = os.listdir(trim_root_path)\n",
        "for w in wavs:\n",
        "  display(Audio(f'{trim_root_path}/{w}'))"
      ]
    },
    {
      "cell_type": "markdown",
      "metadata": {
        "id": "Y_eKIpXx757B"
      },
      "source": [
        "### real"
      ]
    },
    {
      "cell_type": "code",
      "execution_count": null,
      "metadata": {
        "id": "F3Fd4kJPedc1"
      },
      "outputs": [],
      "source": [
        "import os\n",
        "import librosa\n",
        "\n",
        "# load audio & trimmed per onset\n",
        "# [pattern, per_drum]\n",
        "# per_drum: [1_HH, 2_RC, ...], pattern: [P1, P2, ...]\n",
        "# 04, 08, 16\n",
        "def main(root_path, trim_path):\n",
        "  datas = os.listdir(root_path)\n",
        "\n",
        "  check = False\n",
        "  for d in datas:\n",
        "    if d.endswith('.m4a'):\n",
        "      check = True\n",
        "      wav = os.path.join(root_path, d)\n",
        "      print(wav)\n",
        "\n",
        "      # detect onsets\n",
        "      onsets = onset_detect(wav)\n",
        "      # print(onsets)\n",
        "\n",
        "      # trimming audio\n",
        "      audio, sr = librosa.load(wav, sr=SR)\n",
        "      trimmed_audios = audio_trim_per_onset(audio, onsets, sr)\n",
        "      # print(trimmed_audios)\n",
        "\n",
        "      # new_file write\n",
        "      name = d[:-4]\n",
        "      write_trimmed_audio(trim_path, name, trimmed_audios)\n",
        "    elif d.endswith('.txt') == False:\n",
        "      new_root_path = os.path.join(root_path, d)\n",
        "      new_trim_path = os.path.join(trim_path, d)\n",
        "      main(new_root_path, new_trim_path)"
      ]
    },
    {
      "cell_type": "code",
      "execution_count": null,
      "metadata": {
        "id": "NBUt6qDDgTwb"
      },
      "outputs": [],
      "source": [
        "# 드럼 녹음 data path\n",
        "input_file_path = \"/pattern/P2/16\"\n",
        "root_path = \"../data/raw_data\" + input_file_path\n",
        "trim_path = \"../data/trim_data\" + input_file_path\n",
        "main(root_path, trim_path)"
      ]
    },
    {
      "cell_type": "markdown",
      "metadata": {
        "id": "9HISnX5mECBz"
      },
      "source": [
        "### Trash"
      ]
    },
    {
      "cell_type": "code",
      "execution_count": null,
      "metadata": {
        "id": "l0MCQ_2x_g1u"
      },
      "outputs": [],
      "source": [
        "import os\n",
        "import librosa\n",
        "\n",
        "# load audio & trimmed per onset\n",
        "def main_backup(root_path, trim_path):\n",
        "  drum_folders = os.listdir(root_path)\n",
        "  # [pattern, per_drum]\n",
        "  for drum_folder in drum_folders:\n",
        "    drum_folder_path = os.path.join(root_path, drum_folder)\n",
        "    try:\n",
        "      element_folder = os.listdir(drum_folder_path)\n",
        "      # per_drum: [1_HH, 2_RC, ...], pattern: [P1, P2, ...]\n",
        "      for element in element_folder:\n",
        "        element_folder_path = os.path.join(drum_folder_path, element)\n",
        "        rhythm_folder = os.listdir(element_folder_path)\n",
        "        # 04, 08, 16\n",
        "        for rhythm in rhythm_folder:\n",
        "          rhythm_folder_path = os.path.join(element_folder_path, rhythm)\n",
        "          files = os.listdir(rhythm_folder_path)\n",
        "          wav_files = [os.path.join(rhythm_folder_path, file) for file in files if file.endswith('.m4a')]\n",
        "          for wav in wav_files:\n",
        "            # print(wav)\n",
        "            # detect onsets\n",
        "            onsets = onset_detect(wav)\n",
        "            # print(onsets)\n",
        "\n",
        "            # trimming audio\n",
        "            audio, sr = librosa.load(wav, sr=SR)\n",
        "            trimmed_audios = audio_trim_per_onset(audio, onsets, sr)\n",
        "            # print(trimmed_audios)\n",
        "\n",
        "            # new_file write\n",
        "            trim_root_path = os.path.join(trim_path, drum_folder, element, rhythm)\n",
        "            name = os.path.basename(wav).split('/')[-1][:-4]\n",
        "            write_trimmed_audio(trim_root_path, name, trimmed_audios)\n",
        "\n",
        "    except Exception as e:\n",
        "      print(e)"
      ]
    },
    {
      "cell_type": "markdown",
      "metadata": {},
      "source": [
        "# Rhythm Detection"
      ]
    },
    {
      "cell_type": "code",
      "execution_count": 6,
      "metadata": {},
      "outputs": [],
      "source": [
        "SR = 44100"
      ]
    },
    {
      "cell_type": "code",
      "execution_count": 2,
      "metadata": {},
      "outputs": [],
      "source": [
        "import math\n",
        "\n",
        "\"\"\"\n",
        "마디 단위별로 온셋 포인트 구하는 함수\n",
        "@param onset_full_audio: 전체 wav에 대한 onset time\n",
        "@param sec_of_bar: 한 마디가 몇 초인지\n",
        "@param bar_num: 마디 총 개수\n",
        "\n",
        "return 마디 단위별로의 온셋 time (마디의 처음 시작을 0, 끝을 1로 했을 때 기준으로)\n",
        "\"\"\"\n",
        "def calculate_onset_per_bar(onset_full_audio, sec_of_bar, bar_num):\n",
        "    onset_per_bar = [[] for i in range(bar_num)] # 마디 개수만큼 row 초기화\n",
        "\n",
        "    # 전체 wav에 대한 onset \n",
        "    for onset in onset_full_audio:\n",
        "        idx = math.floor(onset / sec_of_bar) # 몇 번째 마디인지\n",
        "        onset_point_in_bar = (onset - sec_of_bar * idx) / sec_of_bar # idx 마디에서 몇 박자 뒤에 등장하는지 (0 ~ 1)\n",
        "        onset_per_bar[idx].append(onset_point_in_bar)\n",
        "   \n",
        "    return onset_per_bar"
      ]
    },
    {
      "cell_type": "code",
      "execution_count": 3,
      "metadata": {},
      "outputs": [],
      "source": [
        "import math\n",
        "\n",
        "\"\"\" \n",
        "전체 wav와 bpm이 주어졌을 때, rhythm을 계산하는 함수\n",
        "@param audio_wav: wav array\n",
        "@param bpm: 분당 음표 개수 (4/4박자 기준)\n",
        "\"\"\"\n",
        "def rhythm_detection(audio_wav, bpm):\n",
        "    rhythm_per_bar = 4.0 # 한 마디에 4분음표가 몇 개 들어가는지\n",
        "    rhythm_per_sec = bpm / 60.0 # 한 초당 몇 박 나오는지\n",
        "    sec_of_bar = (1.0 / rhythm_per_sec) * rhythm_per_bar # 한 마디가 몇 초인지\n",
        "    bar_num = math.ceil((len(audio_wav) / SR) / sec_of_bar) # 총 마디 개수\n",
        "    print(sec_of_bar, bar_num)\n",
        "\n",
        "    bars = [] # 한 마디당 wav 정보\n",
        "    step = (int)(sec_of_bar * SR) # 한 마디에 들어가는 정보량\n",
        "    for i in range(0, len(audio_wav), step):\n",
        "        bars.append(audio_wav[i:i+step])\n",
        "\n",
        "    onset_full_audio = onset_detection(audio_wav) # 전체 wav에 대한 onset time\n",
        "    onset_per_bar = calculate_onset_per_bar(onset_full_audio, sec_of_bar, bar_num) # 한 마디당 rhythm 정보\n",
        "    \n",
        "    return onset_per_bar"
      ]
    },
    {
      "cell_type": "code",
      "execution_count": 14,
      "metadata": {},
      "outputs": [],
      "source": [
        "def get_rhythm(audio_wav, bpm, is_our_train_data=False):\n",
        "    if is_our_train_data:\n",
        "        onset_full_audio = onset_detection(audio_wav)\n",
        "        audio_wav = audio_wav[(int)(onset_full_audio[0] * SR):]\n",
        "    \n",
        "    return rhythm_detection(audio_wav, bpm)"
      ]
    },
    {
      "cell_type": "code",
      "execution_count": 21,
      "metadata": {},
      "outputs": [],
      "source": [
        "import os\n",
        "\n",
        "# load audio path\n",
        "# [pattern, per_drum]\n",
        "# per_drum: [1_HH, 2_RC, ...], pattern: [P1, P2, ...]\n",
        "# 04, 08, 16\n",
        "def get_audio_paths(root_path):\n",
        "  if os.path.isfile(root_path):\n",
        "    if root_path.endswith('m4a'):\n",
        "      return [root_path]\n",
        "    else:\n",
        "      return []  \n",
        "\n",
        "  folders = os.listdir(root_path)\n",
        "  audio_paths = []\n",
        "\n",
        "  for d in folders:\n",
        "    new_root_path = os.path.join(root_path, d)\n",
        "    audio_paths += get_audio_paths(new_root_path)\n",
        "      \n",
        "  return audio_paths"
      ]
    },
    {
      "cell_type": "markdown",
      "metadata": {},
      "source": [
        "### 현재 train data로 rhythm detection 잘 되는지 확인"
      ]
    },
    {
      "cell_type": "code",
      "execution_count": 25,
      "metadata": {},
      "outputs": [
        {
          "name": "stderr",
          "output_type": "stream",
          "text": [
            "/tmp/ipykernel_4643/1889139522.py:9: UserWarning: PySoundFile failed. Trying audioread instead.\n",
            "  data, sr = librosa.load(i, sr=SR)\n",
            "/home/sua/anaconda3/envs/drum/lib/python3.11/site-packages/librosa/core/audio.py:183: FutureWarning: librosa.core.audio.__audioread_load\n",
            "\tDeprecated as of librosa version 0.10.0.\n",
            "\tIt will be removed in librosa version 1.0.\n",
            "  y, sr_native = __audioread_load(path, offset, duration, dtype)\n",
            "/tmp/ipykernel_4643/1889139522.py:9: UserWarning: PySoundFile failed. Trying audioread instead.\n",
            "  data, sr = librosa.load(i, sr=SR)\n",
            "/home/sua/anaconda3/envs/drum/lib/python3.11/site-packages/librosa/core/audio.py:183: FutureWarning: librosa.core.audio.__audioread_load\n",
            "\tDeprecated as of librosa version 0.10.0.\n",
            "\tIt will be removed in librosa version 1.0.\n",
            "  y, sr_native = __audioread_load(path, offset, duration, dtype)\n"
          ]
        },
        {
          "name": "stdout",
          "output_type": "stream",
          "text": [
            "2.4 2\n",
            "[[0.004837490463008484, 0.13061224172512692, 0.25154950718084973, 0.38216176132361096, 0.5030990143616995, 0.62887375553449, 0.7498110334078472, 0.8755857745806377], []]\n",
            "2.4 2\n",
            "[[0.004837490463008484, 0.13061224172512692, 0.25638699531555176, 0.37732427318890893, 0.49826155106226605, 0.6240362922350566, 0.7449735204378765, 0.8659108479817709], []]\n"
          ]
        },
        {
          "name": "stderr",
          "output_type": "stream",
          "text": [
            "/tmp/ipykernel_4643/1889139522.py:9: UserWarning: PySoundFile failed. Trying audioread instead.\n",
            "  data, sr = librosa.load(i, sr=SR)\n",
            "/home/sua/anaconda3/envs/drum/lib/python3.11/site-packages/librosa/core/audio.py:183: FutureWarning: librosa.core.audio.__audioread_load\n",
            "\tDeprecated as of librosa version 0.10.0.\n",
            "\tIt will be removed in librosa version 1.0.\n",
            "  y, sr_native = __audioread_load(path, offset, duration, dtype)\n",
            "/tmp/ipykernel_4643/1889139522.py:9: UserWarning: PySoundFile failed. Trying audioread instead.\n",
            "  data, sr = librosa.load(i, sr=SR)\n",
            "/home/sua/anaconda3/envs/drum/lib/python3.11/site-packages/librosa/core/audio.py:183: FutureWarning: librosa.core.audio.__audioread_load\n",
            "\tDeprecated as of librosa version 0.10.0.\n",
            "\tIt will be removed in librosa version 1.0.\n",
            "  y, sr_native = __audioread_load(path, offset, duration, dtype)\n"
          ]
        },
        {
          "name": "stdout",
          "output_type": "stream",
          "text": [
            "2.4 2\n",
            "[[0.004837490463008484, 0.13061224172512692, 0.26122448345025384, 0.386999249458313, 0.5176115036010742, 0.638548731803894, 0.7643235226472219, 0.8852608005205791], []]\n",
            "2.4 2\n",
            "[[0.004837490463008484, 0.13061224172512692, 0.25638699531555176, 0.37732427318890893, 0.49826155106226605, 0.6143613159656525, 0.740136057138443, 0.8659108479817709], []]\n"
          ]
        },
        {
          "name": "stderr",
          "output_type": "stream",
          "text": [
            "/tmp/ipykernel_4643/1889139522.py:9: UserWarning: PySoundFile failed. Trying audioread instead.\n",
            "  data, sr = librosa.load(i, sr=SR)\n",
            "/home/sua/anaconda3/envs/drum/lib/python3.11/site-packages/librosa/core/audio.py:183: FutureWarning: librosa.core.audio.__audioread_load\n",
            "\tDeprecated as of librosa version 0.10.0.\n",
            "\tIt will be removed in librosa version 1.0.\n",
            "  y, sr_native = __audioread_load(path, offset, duration, dtype)\n",
            "/tmp/ipykernel_4643/1889139522.py:9: UserWarning: PySoundFile failed. Trying audioread instead.\n",
            "  data, sr = librosa.load(i, sr=SR)\n",
            "/home/sua/anaconda3/envs/drum/lib/python3.11/site-packages/librosa/core/audio.py:183: FutureWarning: librosa.core.audio.__audioread_load\n",
            "\tDeprecated as of librosa version 0.10.0.\n",
            "\tIt will be removed in librosa version 1.0.\n",
            "  y, sr_native = __audioread_load(path, offset, duration, dtype)\n"
          ]
        },
        {
          "name": "stdout",
          "output_type": "stream",
          "text": [
            "2.4 2\n",
            "[[0.004837490463008484, 0.12093726545572281, 0.24671201904614767, 0.37248676021893823, 0.48858652512232464, 0.6143613159656525, 0.7352985441684723, 0.8562358220418295], []]\n",
            "2.4 2\n",
            "[[0.004837490463008484, 0.13061224172512692, 0.26122448345025384, 0.38216176132361096, 0.5030990143616995, 0.6240362922350566, 0.7498110334078472, 0.8755857745806377], []]\n"
          ]
        },
        {
          "name": "stderr",
          "output_type": "stream",
          "text": [
            "/tmp/ipykernel_4643/1889139522.py:9: UserWarning: PySoundFile failed. Trying audioread instead.\n",
            "  data, sr = librosa.load(i, sr=SR)\n",
            "/home/sua/anaconda3/envs/drum/lib/python3.11/site-packages/librosa/core/audio.py:183: FutureWarning: librosa.core.audio.__audioread_load\n",
            "\tDeprecated as of librosa version 0.10.0.\n",
            "\tIt will be removed in librosa version 1.0.\n",
            "  y, sr_native = __audioread_load(path, offset, duration, dtype)\n",
            "/tmp/ipykernel_4643/1889139522.py:9: UserWarning: PySoundFile failed. Trying audioread instead.\n",
            "  data, sr = librosa.load(i, sr=SR)\n",
            "/home/sua/anaconda3/envs/drum/lib/python3.11/site-packages/librosa/core/audio.py:183: FutureWarning: librosa.core.audio.__audioread_load\n",
            "\tDeprecated as of librosa version 0.10.0.\n",
            "\tIt will be removed in librosa version 1.0.\n",
            "  y, sr_native = __audioread_load(path, offset, duration, dtype)\n"
          ]
        },
        {
          "name": "stdout",
          "output_type": "stream",
          "text": [
            "2.4 2\n",
            "[[0.004837490463008484, 0.13061224172512692, 0.25638699531555176, 0.37732427318890893, 0.5030990143616995, 0.6191987792650859, 0.740136057138443, 0.8659108479817709], []]\n",
            "2.4 2\n",
            "[[0.004837490463008484, 0.13061224172512692, 0.25154950718084973, 0.37732427318890893, 0.49342403809229535, 0.6191987792650859, 0.7449735204378765, 0.8659108479817709], []]\n"
          ]
        },
        {
          "name": "stderr",
          "output_type": "stream",
          "text": [
            "/tmp/ipykernel_4643/1889139522.py:9: UserWarning: PySoundFile failed. Trying audioread instead.\n",
            "  data, sr = librosa.load(i, sr=SR)\n",
            "/home/sua/anaconda3/envs/drum/lib/python3.11/site-packages/librosa/core/audio.py:183: FutureWarning: librosa.core.audio.__audioread_load\n",
            "\tDeprecated as of librosa version 0.10.0.\n",
            "\tIt will be removed in librosa version 1.0.\n",
            "  y, sr_native = __audioread_load(path, offset, duration, dtype)\n",
            "/tmp/ipykernel_4643/1889139522.py:9: UserWarning: PySoundFile failed. Trying audioread instead.\n",
            "  data, sr = librosa.load(i, sr=SR)\n",
            "/home/sua/anaconda3/envs/drum/lib/python3.11/site-packages/librosa/core/audio.py:183: FutureWarning: librosa.core.audio.__audioread_load\n",
            "\tDeprecated as of librosa version 0.10.0.\n",
            "\tIt will be removed in librosa version 1.0.\n",
            "  y, sr_native = __audioread_load(path, offset, duration, dtype)\n"
          ]
        },
        {
          "name": "stdout",
          "output_type": "stream",
          "text": [
            "2.4 2\n",
            "[[0.004837490463008484, 0.13061224172512692, 0.25154950718084973, 0.38216176132361096, 0.49342403809229535, 0.6191987792650859, 0.7449735204378765, 0.870748261610667], []]\n",
            "2.4 2\n",
            "[[0.004837490463008484, 0.12577475359042486, 0.25154950718084973, 0.38216176132361096, 0.49342403809229535, 0.6143613159656525, 0.740136057138443, 0.870748261610667], []]\n"
          ]
        },
        {
          "name": "stderr",
          "output_type": "stream",
          "text": [
            "/tmp/ipykernel_4643/1889139522.py:9: UserWarning: PySoundFile failed. Trying audioread instead.\n",
            "  data, sr = librosa.load(i, sr=SR)\n",
            "/home/sua/anaconda3/envs/drum/lib/python3.11/site-packages/librosa/core/audio.py:183: FutureWarning: librosa.core.audio.__audioread_load\n",
            "\tDeprecated as of librosa version 0.10.0.\n",
            "\tIt will be removed in librosa version 1.0.\n",
            "  y, sr_native = __audioread_load(path, offset, duration, dtype)\n",
            "/tmp/ipykernel_4643/1889139522.py:9: UserWarning: PySoundFile failed. Trying audioread instead.\n",
            "  data, sr = librosa.load(i, sr=SR)\n",
            "/home/sua/anaconda3/envs/drum/lib/python3.11/site-packages/librosa/core/audio.py:183: FutureWarning: librosa.core.audio.__audioread_load\n",
            "\tDeprecated as of librosa version 0.10.0.\n",
            "\tIt will be removed in librosa version 1.0.\n",
            "  y, sr_native = __audioread_load(path, offset, duration, dtype)\n"
          ]
        },
        {
          "name": "stdout",
          "output_type": "stream",
          "text": [
            "2.4 2\n",
            "[[0.004837490463008484, 0.12577475359042486, 0.24671201904614767, 0.37248676021893823, 0.48858652512232464, 0.6143613159656525, 0.7352985441684723, 0.870748261610667], []]\n",
            "2.4 2\n",
            "[[0.004837490463008484, 0.13061224172512692, 0.25154950718084973, 0.38216176132361096, 0.49826155106226605, 0.6240362922350566, 0.7498110334078472, 0.8804232875506084], []]\n"
          ]
        },
        {
          "name": "stderr",
          "output_type": "stream",
          "text": [
            "/tmp/ipykernel_4643/1889139522.py:9: UserWarning: PySoundFile failed. Trying audioread instead.\n",
            "  data, sr = librosa.load(i, sr=SR)\n",
            "/home/sua/anaconda3/envs/drum/lib/python3.11/site-packages/librosa/core/audio.py:183: FutureWarning: librosa.core.audio.__audioread_load\n",
            "\tDeprecated as of librosa version 0.10.0.\n",
            "\tIt will be removed in librosa version 1.0.\n",
            "  y, sr_native = __audioread_load(path, offset, duration, dtype)\n",
            "/tmp/ipykernel_4643/1889139522.py:9: UserWarning: PySoundFile failed. Trying audioread instead.\n",
            "  data, sr = librosa.load(i, sr=SR)\n",
            "/home/sua/anaconda3/envs/drum/lib/python3.11/site-packages/librosa/core/audio.py:183: FutureWarning: librosa.core.audio.__audioread_load\n",
            "\tDeprecated as of librosa version 0.10.0.\n",
            "\tIt will be removed in librosa version 1.0.\n",
            "  y, sr_native = __audioread_load(path, offset, duration, dtype)\n"
          ]
        },
        {
          "name": "stdout",
          "output_type": "stream",
          "text": [
            "2.4 2\n",
            "[[0.004837490463008484, 0.12577475359042486, 0.24671201904614767, 0.38216176132361096, 0.49342403809229535, 0.6240362922350566, 0.7449735204378765, 0.8755857745806377], []]\n",
            "2.4 2\n",
            "[[0.004837490463008484, 0.13544972985982895, 0.25154950718084973, 0.386999249458313, 0.49826155106226605, 0.6240362922350566, 0.7449735204378765, 0.8755857745806377], []]\n"
          ]
        },
        {
          "name": "stderr",
          "output_type": "stream",
          "text": [
            "/tmp/ipykernel_4643/1889139522.py:9: UserWarning: PySoundFile failed. Trying audioread instead.\n",
            "  data, sr = librosa.load(i, sr=SR)\n",
            "/home/sua/anaconda3/envs/drum/lib/python3.11/site-packages/librosa/core/audio.py:183: FutureWarning: librosa.core.audio.__audioread_load\n",
            "\tDeprecated as of librosa version 0.10.0.\n",
            "\tIt will be removed in librosa version 1.0.\n",
            "  y, sr_native = __audioread_load(path, offset, duration, dtype)\n",
            "/tmp/ipykernel_4643/1889139522.py:9: UserWarning: PySoundFile failed. Trying audioread instead.\n",
            "  data, sr = librosa.load(i, sr=SR)\n",
            "/home/sua/anaconda3/envs/drum/lib/python3.11/site-packages/librosa/core/audio.py:183: FutureWarning: librosa.core.audio.__audioread_load\n",
            "\tDeprecated as of librosa version 0.10.0.\n",
            "\tIt will be removed in librosa version 1.0.\n",
            "  y, sr_native = __audioread_load(path, offset, duration, dtype)\n"
          ]
        },
        {
          "name": "stdout",
          "output_type": "stream",
          "text": [
            "2.4 2\n",
            "[[0.004837490463008484, 0.13061224172512692, 0.25154950718084973, 0.37732427318890893, 0.49826155106226605, 0.6240362922350566, 0.7449735204378765, 0.8804232875506084], []]\n",
            "2.4 2\n",
            "[[0.004837490463008484, 0.13544972985982895, 0.25638699531555176, 0.38216176132361096, 0.5030990143616995, 0.6240362922350566, 0.7498110334078472, 0.8755857745806377], []]\n"
          ]
        },
        {
          "name": "stderr",
          "output_type": "stream",
          "text": [
            "/tmp/ipykernel_4643/1889139522.py:9: UserWarning: PySoundFile failed. Trying audioread instead.\n",
            "  data, sr = librosa.load(i, sr=SR)\n",
            "/home/sua/anaconda3/envs/drum/lib/python3.11/site-packages/librosa/core/audio.py:183: FutureWarning: librosa.core.audio.__audioread_load\n",
            "\tDeprecated as of librosa version 0.10.0.\n",
            "\tIt will be removed in librosa version 1.0.\n",
            "  y, sr_native = __audioread_load(path, offset, duration, dtype)\n",
            "/tmp/ipykernel_4643/1889139522.py:9: UserWarning: PySoundFile failed. Trying audioread instead.\n",
            "  data, sr = librosa.load(i, sr=SR)\n",
            "/home/sua/anaconda3/envs/drum/lib/python3.11/site-packages/librosa/core/audio.py:183: FutureWarning: librosa.core.audio.__audioread_load\n",
            "\tDeprecated as of librosa version 0.10.0.\n",
            "\tIt will be removed in librosa version 1.0.\n",
            "  y, sr_native = __audioread_load(path, offset, duration, dtype)\n"
          ]
        },
        {
          "name": "stdout",
          "output_type": "stream",
          "text": [
            "2.4 2\n",
            "[[0.004837490463008484, 0.13061224172512692, 0.24671201904614767, 0.37248676021893823, 0.49342403809229535, 0.6191987792650859, 0.740136057138443, 0.870748261610667], []]\n",
            "2.4 2\n",
            "[[0.004837490463008484, 0.13061224172512692, 0.25154950718084973, 0.37732427318890893, 0.49826155106226605, 0.6240362922350566, 0.7449735204378765, 0.8804232875506084], []]\n"
          ]
        },
        {
          "name": "stderr",
          "output_type": "stream",
          "text": [
            "/tmp/ipykernel_4643/1889139522.py:9: UserWarning: PySoundFile failed. Trying audioread instead.\n",
            "  data, sr = librosa.load(i, sr=SR)\n",
            "/home/sua/anaconda3/envs/drum/lib/python3.11/site-packages/librosa/core/audio.py:183: FutureWarning: librosa.core.audio.__audioread_load\n",
            "\tDeprecated as of librosa version 0.10.0.\n",
            "\tIt will be removed in librosa version 1.0.\n",
            "  y, sr_native = __audioread_load(path, offset, duration, dtype)\n",
            "/tmp/ipykernel_4643/1889139522.py:9: UserWarning: PySoundFile failed. Trying audioread instead.\n",
            "  data, sr = librosa.load(i, sr=SR)\n",
            "/home/sua/anaconda3/envs/drum/lib/python3.11/site-packages/librosa/core/audio.py:183: FutureWarning: librosa.core.audio.__audioread_load\n",
            "\tDeprecated as of librosa version 0.10.0.\n",
            "\tIt will be removed in librosa version 1.0.\n",
            "  y, sr_native = __audioread_load(path, offset, duration, dtype)\n"
          ]
        },
        {
          "name": "stdout",
          "output_type": "stream",
          "text": [
            "2.4 2\n",
            "[[0.004837490463008484, 0.13061224172512692, 0.25154950718084973, 0.38216176132361096, 0.49826155106226605, 0.6191987792650859, 0.7449735204378765, 0.8804232875506084], []]\n",
            "2.4 2\n",
            "[[0.004837490463008484, 0.13544972985982895, 0.25154950718084973, 0.386999249458313, 0.5030990143616995, 0.62887375553449, 0.7498110334078472, 0.8804232875506084], []]\n"
          ]
        },
        {
          "name": "stderr",
          "output_type": "stream",
          "text": [
            "/tmp/ipykernel_4643/1889139522.py:9: UserWarning: PySoundFile failed. Trying audioread instead.\n",
            "  data, sr = librosa.load(i, sr=SR)\n",
            "/home/sua/anaconda3/envs/drum/lib/python3.11/site-packages/librosa/core/audio.py:183: FutureWarning: librosa.core.audio.__audioread_load\n",
            "\tDeprecated as of librosa version 0.10.0.\n",
            "\tIt will be removed in librosa version 1.0.\n",
            "  y, sr_native = __audioread_load(path, offset, duration, dtype)\n",
            "/tmp/ipykernel_4643/1889139522.py:9: UserWarning: PySoundFile failed. Trying audioread instead.\n",
            "  data, sr = librosa.load(i, sr=SR)\n",
            "/home/sua/anaconda3/envs/drum/lib/python3.11/site-packages/librosa/core/audio.py:183: FutureWarning: librosa.core.audio.__audioread_load\n",
            "\tDeprecated as of librosa version 0.10.0.\n",
            "\tIt will be removed in librosa version 1.0.\n",
            "  y, sr_native = __audioread_load(path, offset, duration, dtype)\n"
          ]
        },
        {
          "name": "stdout",
          "output_type": "stream",
          "text": [
            "2.4 2\n",
            "[[0.004837490463008484, 0.13544972985982895, 0.25154950718084973, 0.38216176132361096, 0.49342403809229535, 0.6143613159656525, 0.740136057138443, 0.8755857745806377], []]\n",
            "2.4 2\n",
            "[[0.004837490463008484, 0.13061224172512692, 0.25638699531555176, 0.38216176132361096, 0.49826155106226605, 0.62887375553449, 0.7594860096772512, 0.8852608005205791], []]\n"
          ]
        },
        {
          "name": "stderr",
          "output_type": "stream",
          "text": [
            "/tmp/ipykernel_4643/1889139522.py:9: UserWarning: PySoundFile failed. Trying audioread instead.\n",
            "  data, sr = librosa.load(i, sr=SR)\n",
            "/home/sua/anaconda3/envs/drum/lib/python3.11/site-packages/librosa/core/audio.py:183: FutureWarning: librosa.core.audio.__audioread_load\n",
            "\tDeprecated as of librosa version 0.10.0.\n",
            "\tIt will be removed in librosa version 1.0.\n",
            "  y, sr_native = __audioread_load(path, offset, duration, dtype)\n",
            "/tmp/ipykernel_4643/1889139522.py:9: UserWarning: PySoundFile failed. Trying audioread instead.\n",
            "  data, sr = librosa.load(i, sr=SR)\n",
            "/home/sua/anaconda3/envs/drum/lib/python3.11/site-packages/librosa/core/audio.py:183: FutureWarning: librosa.core.audio.__audioread_load\n",
            "\tDeprecated as of librosa version 0.10.0.\n",
            "\tIt will be removed in librosa version 1.0.\n",
            "  y, sr_native = __audioread_load(path, offset, duration, dtype)\n"
          ]
        },
        {
          "name": "stdout",
          "output_type": "stream",
          "text": [
            "2.4 2\n",
            "[[0.004837490463008484, 0.13061224172512692, 0.25154950718084973, 0.38216176132361096, 0.5030990143616995, 0.6240362922350566, 0.7498110334078472, 0.8852608005205791], []]\n",
            "2.4 2\n",
            "[[0.004837490463008484, 0.13544972985982895, 0.25638699531555176, 0.386999249458313, 0.5079365273316702, 0.6337112685044607, 0.7594860096772512, 0.8900982141494751], []]\n"
          ]
        },
        {
          "name": "stderr",
          "output_type": "stream",
          "text": [
            "/tmp/ipykernel_4643/1889139522.py:9: UserWarning: PySoundFile failed. Trying audioread instead.\n",
            "  data, sr = librosa.load(i, sr=SR)\n",
            "/home/sua/anaconda3/envs/drum/lib/python3.11/site-packages/librosa/core/audio.py:183: FutureWarning: librosa.core.audio.__audioread_load\n",
            "\tDeprecated as of librosa version 0.10.0.\n",
            "\tIt will be removed in librosa version 1.0.\n",
            "  y, sr_native = __audioread_load(path, offset, duration, dtype)\n",
            "/tmp/ipykernel_4643/1889139522.py:9: UserWarning: PySoundFile failed. Trying audioread instead.\n",
            "  data, sr = librosa.load(i, sr=SR)\n",
            "/home/sua/anaconda3/envs/drum/lib/python3.11/site-packages/librosa/core/audio.py:183: FutureWarning: librosa.core.audio.__audioread_load\n",
            "\tDeprecated as of librosa version 0.10.0.\n",
            "\tIt will be removed in librosa version 1.0.\n",
            "  y, sr_native = __audioread_load(path, offset, duration, dtype)\n"
          ]
        },
        {
          "name": "stdout",
          "output_type": "stream",
          "text": [
            "2.4 2\n",
            "[[0.004837490463008484, 0.13544972985982895, 0.26122448345025384, 0.39183673759301507, 0.5030990143616995, 0.6337112685044607, 0.7546485463778179, 0.8804232875506084], []]\n",
            "2.4 2\n",
            "[[0.004837490463008484, 0.13544972985982895, 0.25154950718084973, 0.386999249458313, 0.5030990143616995, 0.62887375553449, 0.7546485463778179, 0.8900982141494751], []]\n"
          ]
        },
        {
          "name": "stderr",
          "output_type": "stream",
          "text": [
            "/tmp/ipykernel_4643/1889139522.py:9: UserWarning: PySoundFile failed. Trying audioread instead.\n",
            "  data, sr = librosa.load(i, sr=SR)\n",
            "/home/sua/anaconda3/envs/drum/lib/python3.11/site-packages/librosa/core/audio.py:183: FutureWarning: librosa.core.audio.__audioread_load\n",
            "\tDeprecated as of librosa version 0.10.0.\n",
            "\tIt will be removed in librosa version 1.0.\n",
            "  y, sr_native = __audioread_load(path, offset, duration, dtype)\n",
            "/tmp/ipykernel_4643/1889139522.py:9: UserWarning: PySoundFile failed. Trying audioread instead.\n",
            "  data, sr = librosa.load(i, sr=SR)\n",
            "/home/sua/anaconda3/envs/drum/lib/python3.11/site-packages/librosa/core/audio.py:183: FutureWarning: librosa.core.audio.__audioread_load\n",
            "\tDeprecated as of librosa version 0.10.0.\n",
            "\tIt will be removed in librosa version 1.0.\n",
            "  y, sr_native = __audioread_load(path, offset, duration, dtype)\n"
          ]
        },
        {
          "name": "stdout",
          "output_type": "stream",
          "text": [
            "2.4 2\n",
            "[[0.004837490463008484, 0.13061224172512692, 0.25638699531555176, 0.38216176132361096, 0.49826155106226605, 0.6240362922350566, 0.7498110334078472, 0.8804232875506084], []]\n",
            "2.4 2\n",
            "[[0.004837490463008484, 0.13544972985982895, 0.25638699531555176, 0.37732427318890893, 0.49342403809229535, 0.6191987792650859, 0.7352985441684723, 0.8562358220418295], []]\n"
          ]
        }
      ],
      "source": [
        "import librosa\n",
        "import itertools\n",
        "\n",
        "root_path=\"../data/raw_data/pattern/P1/08/\"\n",
        "\n",
        "inputs = get_audio_paths(root_path)\n",
        "\n",
        "for i in inputs:\n",
        "    data, sr = librosa.load(i, sr=SR)\n",
        "    bars = get_rhythm(data, 100, True)\n",
        "    print(bars)"
      ]
    }
  ],
  "metadata": {
    "colab": {
      "provenance": []
    },
    "kernelspec": {
      "display_name": "drum_kernel",
      "language": "python",
      "name": "drum"
    },
    "language_info": {
      "codemirror_mode": {
        "name": "ipython",
        "version": 3
      },
      "file_extension": ".py",
      "mimetype": "text/x-python",
      "name": "python",
      "nbconvert_exporter": "python",
      "pygments_lexer": "ipython3",
      "version": "3.11.5"
    }
  },
  "nbformat": 4,
  "nbformat_minor": 0
}
